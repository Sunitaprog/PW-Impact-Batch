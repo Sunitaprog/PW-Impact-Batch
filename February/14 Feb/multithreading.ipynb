{
 "cells": [
  {
   "cell_type": "code",
   "execution_count": 1,
   "id": "90d30758-744f-4e5a-acfc-5862f198af39",
   "metadata": {},
   "outputs": [],
   "source": [
    "import threading"
   ]
  },
  {
   "cell_type": "code",
   "execution_count": 6,
   "id": "39ada763-c964-4c40-9351-cd0205a0bc4c",
   "metadata": {},
   "outputs": [],
   "source": [
    "def test(id):\n",
    "    print(\"prog start %d\"  % id)"
   ]
  },
  {
   "cell_type": "code",
   "execution_count": 7,
   "id": "080fc1bd-0b7c-42cb-b094-568454b7dd5f",
   "metadata": {},
   "outputs": [
    {
     "name": "stdout",
     "output_type": "stream",
     "text": [
      "prog start 45\n"
     ]
    }
   ],
   "source": [
    "test(45)"
   ]
  },
  {
   "cell_type": "code",
   "execution_count": 8,
   "id": "d92ef8d5-68cc-4613-b04a-2cf0598a246c",
   "metadata": {},
   "outputs": [],
   "source": [
    "thread =[threading.Thread(target=test , args =(i,)) for i in range(10)]"
   ]
  },
  {
   "cell_type": "code",
   "execution_count": 9,
   "id": "689afb8c-938f-420b-b54b-83e43328662a",
   "metadata": {},
   "outputs": [
    {
     "name": "stdout",
     "output_type": "stream",
     "text": [
      "prog start 0\n",
      "prog start 1\n",
      "prog start 2\n",
      "prog start 3\n",
      "prog start 4\n",
      "prog start 5\n",
      "prog start 6\n",
      "prog start 7\n",
      "prog start 8\n",
      "prog start 9\n"
     ]
    }
   ],
   "source": [
    "for t in thread:\n",
    "    t.start()"
   ]
  },
  {
   "cell_type": "code",
   "execution_count": 10,
   "id": "556c8e36-730f-41b7-9e3f-0a37b000ae91",
   "metadata": {},
   "outputs": [
    {
     "data": {
      "text/plain": [
       "[0, 1, 2, 3, 4, 5, 6, 7, 8, 9]"
      ]
     },
     "execution_count": 10,
     "metadata": {},
     "output_type": "execute_result"
    }
   ],
   "source": [
    "list(range(10))"
   ]
  },
  {
   "cell_type": "code",
   "execution_count": 11,
   "id": "8ff9c6f4-c53a-412b-9712-d10e657dfb09",
   "metadata": {},
   "outputs": [
    {
     "data": {
      "text/plain": [
       "[<Thread(Thread-5 (test), stopped 139975424190016)>,\n",
       " <Thread(Thread-6 (test), stopped 139975424190016)>,\n",
       " <Thread(Thread-7 (test), stopped 139975424190016)>,\n",
       " <Thread(Thread-8 (test), stopped 139975424190016)>,\n",
       " <Thread(Thread-9 (test), stopped 139975424190016)>,\n",
       " <Thread(Thread-10 (test), stopped 139975424190016)>,\n",
       " <Thread(Thread-11 (test), stopped 139975424190016)>,\n",
       " <Thread(Thread-12 (test), stopped 139975424190016)>,\n",
       " <Thread(Thread-13 (test), stopped 139975424190016)>,\n",
       " <Thread(Thread-14 (test), stopped 139975424190016)>]"
      ]
     },
     "execution_count": 11,
     "metadata": {},
     "output_type": "execute_result"
    }
   ],
   "source": [
    "thread"
   ]
  },
  {
   "cell_type": "code",
   "execution_count": 12,
   "id": "dead5a62-b4cf-4f49-b089-e0be7cd1826f",
   "metadata": {},
   "outputs": [
    {
     "data": {
      "text/plain": [
       "[<Thread(Thread-5 (test), stopped 139975424190016)>,\n",
       " <Thread(Thread-6 (test), stopped 139975424190016)>,\n",
       " <Thread(Thread-7 (test), stopped 139975424190016)>,\n",
       " <Thread(Thread-8 (test), stopped 139975424190016)>,\n",
       " <Thread(Thread-9 (test), stopped 139975424190016)>,\n",
       " <Thread(Thread-10 (test), stopped 139975424190016)>,\n",
       " <Thread(Thread-11 (test), stopped 139975424190016)>,\n",
       " <Thread(Thread-12 (test), stopped 139975424190016)>,\n",
       " <Thread(Thread-13 (test), stopped 139975424190016)>,\n",
       " <Thread(Thread-14 (test), stopped 139975424190016)>]"
      ]
     },
     "execution_count": 12,
     "metadata": {},
     "output_type": "execute_result"
    }
   ],
   "source": [
    "thread"
   ]
  },
  {
   "cell_type": "code",
   "execution_count": 13,
   "id": "58c40f11-c2f8-435a-bc1e-f703c61a4180",
   "metadata": {},
   "outputs": [
    {
     "data": {
      "text/plain": [
       "139975426858944"
      ]
     },
     "execution_count": 13,
     "metadata": {},
     "output_type": "execute_result"
    }
   ],
   "source": [
    "id(thread)"
   ]
  },
  {
   "cell_type": "code",
   "execution_count": 14,
   "id": "9c141466-1ec3-4c57-b791-6bf8e40a974a",
   "metadata": {},
   "outputs": [],
   "source": [
    "import threading\n",
    "import urllib.request\n",
    "\n",
    "def file_download(url , filename):\n",
    "    urllib.request.urlretrieve(url,filename)"
   ]
  },
  {
   "cell_type": "code",
   "execution_count": 16,
   "id": "fa3f64e5-6e88-4953-b490-e7f354e7f5b9",
   "metadata": {},
   "outputs": [],
   "source": [
    "file_download('https://github.com/Sunitaprog/PWSkills-Assignment-10',\"test.txt\")"
   ]
  },
  {
   "cell_type": "code",
   "execution_count": 17,
   "id": "324fbd6c-1827-4466-b83b-0b17d2d362e8",
   "metadata": {},
   "outputs": [],
   "source": [
    "url_list =[\"https://github.com/Sunitaprog/PWSkills-Assignment-10\" ,'https://github.com/Sunitaprog/Assignment-30' ,'https://github.com/Sunitaprog/Assignment-30' ]"
   ]
  },
  {
   "cell_type": "code",
   "execution_count": 18,
   "id": "72078718-2be9-48c6-8c57-c9ac661ffbde",
   "metadata": {},
   "outputs": [
    {
     "data": {
      "text/plain": [
       "['https://github.com/Sunitaprog/PWSkills-Assignment-10',\n",
       " 'https://github.com/Sunitaprog/Assignment-30',\n",
       " 'https://github.com/Sunitaprog/Assignment-30']"
      ]
     },
     "execution_count": 18,
     "metadata": {},
     "output_type": "execute_result"
    }
   ],
   "source": [
    "url_list"
   ]
  },
  {
   "cell_type": "code",
   "execution_count": 19,
   "id": "baf8db14-1a55-4e9f-ad4d-503c391aa69f",
   "metadata": {},
   "outputs": [],
   "source": [
    "file_name_list =['data1.txt','data2.txt' ,'data3.txt']"
   ]
  },
  {
   "cell_type": "code",
   "execution_count": 22,
   "id": "ada5d40e-be4b-4e5d-8c46-676ab28d7d1d",
   "metadata": {},
   "outputs": [],
   "source": [
    "ther =[threading.Thread(target = file_download , args=(url_list[i],file_name_list[i])) for i in range(len(url_list))]"
   ]
  },
  {
   "cell_type": "code",
   "execution_count": 23,
   "id": "84a8252d-017d-400f-a3e1-6ca532025ecb",
   "metadata": {},
   "outputs": [
    {
     "data": {
      "text/plain": [
       "[<Thread(Thread-15 (file_download), initial)>,\n",
       " <Thread(Thread-16 (file_download), initial)>,\n",
       " <Thread(Thread-17 (file_download), initial)>]"
      ]
     },
     "execution_count": 23,
     "metadata": {},
     "output_type": "execute_result"
    }
   ],
   "source": [
    "ther"
   ]
  },
  {
   "cell_type": "code",
   "execution_count": 24,
   "id": "2717e58d-0e4f-4e4b-9978-2f448a46b916",
   "metadata": {},
   "outputs": [],
   "source": [
    "for t in ther:\n",
    "    t.start()"
   ]
  },
  {
   "cell_type": "code",
   "execution_count": 25,
   "id": "8c3ac9d3-435d-4b7e-bd21-039ecf9c05ae",
   "metadata": {},
   "outputs": [
    {
     "data": {
      "text/plain": [
       "[<Thread(Thread-15 (file_download), stopped 139975424190016)>,\n",
       " <Thread(Thread-16 (file_download), stopped 139975064548928)>,\n",
       " <Thread(Thread-17 (file_download), stopped 139975056156224)>]"
      ]
     },
     "execution_count": 25,
     "metadata": {},
     "output_type": "execute_result"
    }
   ],
   "source": [
    "ther"
   ]
  },
  {
   "cell_type": "code",
   "execution_count": 26,
   "id": "25a20e49-e82f-46de-9c1f-f03ec3d04a73",
   "metadata": {},
   "outputs": [],
   "source": [
    "import time"
   ]
  },
  {
   "cell_type": "code",
   "execution_count": 32,
   "id": "7170839b-b601-48f0-80c8-f769a3536c6d",
   "metadata": {},
   "outputs": [],
   "source": [
    "def test1(id):\n",
    "    for i in range(10):\n",
    "        print(\"test1 %d printing %d  %s\" %(id,i,time.ctime()))\n",
    "        time.sleep(1)\n",
    "        "
   ]
  },
  {
   "cell_type": "code",
   "execution_count": 33,
   "id": "8b2b139b-7c7b-45b5-beb1-3eea26bd5504",
   "metadata": {},
   "outputs": [
    {
     "name": "stdout",
     "output_type": "stream",
     "text": [
      "test1 1 printing 0  Tue Feb 14 15:52:34 2023\n",
      "test1 1 printing 1  Tue Feb 14 15:52:35 2023\n",
      "test1 1 printing 2  Tue Feb 14 15:52:36 2023\n",
      "test1 1 printing 3  Tue Feb 14 15:52:37 2023\n",
      "test1 1 printing 4  Tue Feb 14 15:52:38 2023\n",
      "test1 1 printing 5  Tue Feb 14 15:52:39 2023\n",
      "test1 1 printing 6  Tue Feb 14 15:52:40 2023\n",
      "test1 1 printing 7  Tue Feb 14 15:52:41 2023\n",
      "test1 1 printing 8  Tue Feb 14 15:52:42 2023\n",
      "test1 1 printing 9  Tue Feb 14 15:52:43 2023\n"
     ]
    }
   ],
   "source": [
    "test1(1)"
   ]
  },
  {
   "cell_type": "code",
   "execution_count": 34,
   "id": "b990fabf-995c-4a43-afa4-d85c91642f72",
   "metadata": {},
   "outputs": [],
   "source": [
    "thread1=[threading.Thread(target = test1 , args =(i,)) for i in range(3)]"
   ]
  },
  {
   "cell_type": "code",
   "execution_count": 35,
   "id": "b8448ada-b981-4efa-8ab5-2d103b58182e",
   "metadata": {},
   "outputs": [
    {
     "name": "stdout",
     "output_type": "stream",
     "text": [
      "test1 0 printing 0  Tue Feb 14 15:52:51 2023\n",
      "test1 1 printing 0  Tue Feb 14 15:52:51 2023\n",
      "test1 2 printing 0  Tue Feb 14 15:52:51 2023\n",
      "test1 1 printing 1  Tue Feb 14 15:52:52 2023\n",
      "test1 2 printing 1  Tue Feb 14 15:52:52 2023\n",
      "test1 0 printing 1  Tue Feb 14 15:52:52 2023\n",
      "test1 1 printing 2  Tue Feb 14 15:52:53 2023\n",
      "test1 2 printing 2  Tue Feb 14 15:52:53 2023\n",
      "test1 0 printing 2  Tue Feb 14 15:52:53 2023\n",
      "test1 1 printing 3  Tue Feb 14 15:52:54 2023\n",
      "test1 2 printing 3  Tue Feb 14 15:52:54 2023\n",
      "test1 0 printing 3  Tue Feb 14 15:52:54 2023\n",
      "test1 2 printing 4  Tue Feb 14 15:52:55 2023\n",
      "test1 1 printing 4  Tue Feb 14 15:52:55 2023\n",
      "test1 0 printing 4  Tue Feb 14 15:52:55 2023\n",
      "test1 2 printing 5  Tue Feb 14 15:52:56 2023test1 0 printing 5  Tue Feb 14 15:52:56 2023\n",
      "test1 1 printing 5  Tue Feb 14 15:52:56 2023\n",
      "\n",
      "test1 2 printing 6  Tue Feb 14 15:52:57 2023test1 0 printing 6  Tue Feb 14 15:52:57 2023\n",
      "test1 1 printing 6  Tue Feb 14 15:52:57 2023\n",
      "\n",
      "test1 0 printing 7  Tue Feb 14 15:52:58 2023test1 1 printing 7  Tue Feb 14 15:52:58 2023\n",
      "test1 2 printing 7  Tue Feb 14 15:52:58 2023\n",
      "\n",
      "test1 1 printing 8  Tue Feb 14 15:52:59 2023test1 2 printing 8  Tue Feb 14 15:52:59 2023\n",
      "test1 0 printing 8  Tue Feb 14 15:52:59 2023\n",
      "\n",
      "test1 0 printing 9  Tue Feb 14 15:53:00 2023\n",
      "test1 2 printing 9  Tue Feb 14 15:53:00 2023\n",
      "test1 1 printing 9  Tue Feb 14 15:53:00 2023\n"
     ]
    }
   ],
   "source": [
    "for t in thread1:\n",
    "    t.start()"
   ]
  },
  {
   "cell_type": "code",
   "execution_count": null,
   "id": "ad4a2a86-2a73-4e68-be5c-f8bd1a766fb0",
   "metadata": {},
   "outputs": [],
   "source": [
    "shared_var = 0\n",
    "lock_var = threading.Lock()\n"
   ]
  },
  {
   "cell_type": "code",
   "execution_count": null,
   "id": "b38a2167-1b6c-4413-9694-e4f0743d24a8",
   "metadata": {},
   "outputs": [],
   "source": [
    "\n",
    "def test2(id):\n",
    "    global shared_var\n",
    "    with lock_var:\n",
    "        shared_var = shared_var +1\n",
    "        print(\"test2 id is %d has increased the variable by %d\" %(id , shared_var))\n",
    "        time.sleep(1)"
   ]
  },
  {
   "cell_type": "code",
   "execution_count": null,
   "id": "2577480b-4570-4cc6-b9eb-5b9021783de9",
   "metadata": {},
   "outputs": [],
   "source": [
    "ther3=[threading.Thread (target = test2, args =(i,)) for i in range(3)]\n"
   ]
  },
  {
   "cell_type": "code",
   "execution_count": null,
   "id": "4d80ef62-a44f-4cae-8f35-7fa764b5426f",
   "metadata": {},
   "outputs": [],
   "source": [
    "ther3=[threading.Thread (target = test2, args =(id,)) for i in range(3)]\n"
   ]
  },
  {
   "cell_type": "code",
   "execution_count": null,
   "id": "ef616776-72e7-4ae4-b019-66b8d5cf6745",
   "metadata": {},
   "outputs": [],
   "source": [
    "ther3"
   ]
  },
  {
   "cell_type": "code",
   "execution_count": null,
   "id": "3a8cb06e-c732-41fa-a3fb-92391a6e2a6a",
   "metadata": {},
   "outputs": [],
   "source": [
    "for t in ther3:\n",
    "    t.start()"
   ]
  },
  {
   "cell_type": "code",
   "execution_count": null,
   "id": "a012bff5-3a8a-4cf7-982d-e89256c63063",
   "metadata": {},
   "outputs": [],
   "source": []
  },
  {
   "cell_type": "code",
   "execution_count": null,
   "id": "746dad33-5e05-4528-b915-f773db2a28a9",
   "metadata": {},
   "outputs": [],
   "source": [
    "\n"
   ]
  }
 ],
 "metadata": {
  "kernelspec": {
   "display_name": "Python 3 (ipykernel)",
   "language": "python",
   "name": "python3"
  },
  "language_info": {
   "codemirror_mode": {
    "name": "ipython",
    "version": 3
   },
   "file_extension": ".py",
   "mimetype": "text/x-python",
   "name": "python",
   "nbconvert_exporter": "python",
   "pygments_lexer": "ipython3",
   "version": "3.10.8"
  }
 },
 "nbformat": 4,
 "nbformat_minor": 5
}
