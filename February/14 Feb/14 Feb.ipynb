{
 "cells": [
  {
   "cell_type": "markdown",
   "id": "4f4829dc-cfab-4d22-95f9-4499194bf525",
   "metadata": {},
   "source": [
    "Q1. What is multithreading in python ? Why is it used ?Name the module used to handle threads in python.\n",
    "Ans.Multithreading in Python refers to the ability to run multiple threads or processes simultaneously within a single process. Each thread is a separate flow of execution, with its own logic. Multithreading is used to improve the performance of a program by making better use of the available CPU resources.\n",
    "\n",
    "Python has a built-in threading module that provides a higher-level interface for creating and managing threads. This module allows you to create and start new threads, manage their life cycle, and share data between them.\n"
   ]
  },
  {
   "cell_type": "markdown",
   "id": "d2f5a430-774e-42a9-be1d-c6b2d5debc66",
   "metadata": {},
   "source": [
    "Q2. Why threading module used ? Write the use of following function:\n",
    "    1. ActiveCount()\n",
    "    2. CurrentThread()\n",
    "    3. Enumerate\n",
    "  \n",
    "\n",
    "Ans. The threading module in Python is used to create and manage threads. It provides a higher-level interface to work with threads as compared to the low-level thread module.\n",
    "\n",
    "Use of following functions:\n",
    "\n",
    "activeCount(): This function is used to return the number of currently active thread objects in the calling thread's process. It returns an integer that represents the total number of active threads.\n",
    "\n",
    "currentThread(): This function is used to return a reference to the currently executing thread object. It returns a Thread object that represents the current thread.\n",
    "\n",
    "enumerate(): This function is used to return a list of all thread objects that are currently active in the calling thread's process. It returns a list of Thread objects that represent each active thread. By default, it returns a list of all threads, but you can pass a Boolean argument group=None to get only the active threads that are started by the current process.\n"
   ]
  },
  {
   "cell_type": "markdown",
   "id": "a3a86783-eb9e-4ea2-a283-e02126bc343d",
   "metadata": {},
   "source": [
    "Q3. Explain the following functions:\n",
    "run()\n",
    "start()\n",
    "join()\n",
    "isAlive()\n",
    "Ans.\n",
    "run(): This method is used to specify the code that will be executed in the thread. When you create a new thread, you can override the run() method and provide your own implementation for the thread's behavior. This method is called automatically when you call the start() method.\n",
    "\n",
    "start(): This method is used to start a new thread by calling the run() method in a separate thread of execution. It allocates the necessary resources for the thread and starts it running. When the start() method is called, a new thread is created, and the run() method is called automatically in the new thread.\n",
    "\n",
    "join(): This method is used to wait for a thread to complete its execution. When you call the join() method on a thread, the calling thread is blocked until the thread being joined completes its execution. This is useful when you need to synchronize the execution of multiple threads.\n",
    "\n",
    "isAlive(): This method is used to check whether a thread is still executing or not. It returns a Boolean value that indicates whether the thread is alive or not. If the thread is alive, it returns True; otherwise, it returns False. You can use this method to check the status of a thread and perform some action based on the thread's status."
   ]
  },
  {
   "cell_type": "markdown",
   "id": "9a295b5e-8021-4e5e-a251-246f070f6bfc",
   "metadata": {},
   "source": [
    "Q4.  Write a python program to create two threads. Thread one must print the list of squares and thread two must print the list of cubes"
   ]
  },
  {
   "cell_type": "code",
   "execution_count": 1,
   "id": "c73df9ec-c8e6-4650-b64c-96598537c6d9",
   "metadata": {},
   "outputs": [
    {
     "name": "stdout",
     "output_type": "stream",
     "text": [
      "1\n",
      "4\n",
      "9\n",
      "16\n",
      "25\n",
      "36\n",
      "49\n",
      "64\n",
      "81\n",
      "100\n",
      "1\n",
      "8\n",
      "27\n",
      "64\n",
      "125\n",
      "216\n",
      "343\n",
      "512\n",
      "729\n",
      "1000\n",
      "Done\n"
     ]
    }
   ],
   "source": [
    "import threading\n",
    "\n",
    "def print_squares():\n",
    "    for i in range(1, 11):\n",
    "        print(i**2)\n",
    "\n",
    "def print_cubes():\n",
    "    for i in range(1, 11):\n",
    "        print(i**3)\n",
    "\n",
    "t1 = threading.Thread(target=print_squares)\n",
    "t2 = threading.Thread(target=print_cubes)\n",
    "\n",
    "t1.start()\n",
    "t2.start()\n",
    "\n",
    "t1.join()\n",
    "t2.join()\n",
    "\n",
    "print(\"Done\")\n"
   ]
  },
  {
   "cell_type": "markdown",
   "id": "96a893e4-3d87-4e09-b7f3-72eea3c71272",
   "metadata": {},
   "source": [
    "Q5. State advantages and disadvantages of multithreading.\n",
    "Ans. Advantages of multithreading:\n",
    "Improved performance: Multithreading allows you to perform multiple tasks simultaneously, which can improve the overall performance of your application.\n",
    "\n",
    "Responsiveness: Multithreading can make your application more responsive to user interactions, by allowing it to continue to process user input while performing other tasks in the background.\n",
    "\n",
    "\n",
    "Disadvantages of multithreading:\n",
    "Synchronization: When multiple threads access shared resources concurrently, it can lead to synchronization issues, such as race conditions and deadlocks, which can be difficult to debug and resolve.\n",
    "\n",
    "Overhead: Creating and managing multiple threads can incur additional overhead and increase the memory footprint of your application, which can be a concern in resource-constrained environments.\n"
   ]
  },
  {
   "cell_type": "markdown",
   "id": "543dc411-c8e4-46e4-89b7-e07a75c5c74b",
   "metadata": {},
   "source": [
    "Q6. Explain deadlocks and race conditions.\n",
    "Deadlocks: A situation where two or more threads are blocked, each waiting for the other to release a resource, causing the entire application to hang.\n",
    "\n",
    "Race conditions: A situation where two or more threads access a shared resource concurrently, leading to unpredictable or incorrect behavior, such as inconsistent data or program crashes."
   ]
  }
 ],
 "metadata": {
  "kernelspec": {
   "display_name": "Python 3 (ipykernel)",
   "language": "python",
   "name": "python3"
  },
  "language_info": {
   "codemirror_mode": {
    "name": "ipython",
    "version": 3
   },
   "file_extension": ".py",
   "mimetype": "text/x-python",
   "name": "python",
   "nbconvert_exporter": "python",
   "pygments_lexer": "ipython3",
   "version": "3.10.8"
  }
 },
 "nbformat": 4,
 "nbformat_minor": 5
}
