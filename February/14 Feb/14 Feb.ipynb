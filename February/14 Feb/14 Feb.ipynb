{
 "cells": [
  {
   "cell_type": "markdown",
   "id": "4f4829dc-cfab-4d22-95f9-4499194bf525",
   "metadata": {},
   "source": [
    "Q1. What is multithreading in python ? Why is it used ?Name the module used to handle threads in python.\n",
    "Ans. Multithreading refers to concurrently executing multiple threads by rapidly switching the control of the CPU between threads (called context switching). The Python Global Interpreter Lock limits one thread to run at a time even if the machine contains multiple processors.\n",
    "\n",
    "Multithreading in Python is a popular technique that enables multiple tasks to be executed simultaneously. In simple words, the ability of a processor to execute multiple threads simultaneously is known as multithreading.\n",
    "\n",
    "Python multithreading facilitates sharing data space and resources of multiple threads with the main thread. It allows efficient and easy communication between the threads.\n",
    "\n",
    "Python multithreading enables efficient utilization of the resources as the threads share the data space and memory. Multithreading in Python allows the concurrent and parallel occurrence of various tasks. It causes a reduction in time consumption or response time, thereby increasing the performance\n",
    "\n",
    "Multithreading in Python should be used only when there is no existing inter-dependency between the threads.\n",
    "\n",
    "\n",
    "Threading module used to handle threads in python \n",
    "threading module is used for creating, controlling and managing threads in python.\n"
   ]
  },
  {
   "cell_type": "markdown",
   "id": "d2f5a430-774e-42a9-be1d-c6b2d5debc66",
   "metadata": {},
   "source": [
    "Q2. Why threading module used ? Write the use of following function:\n",
    "    1. ActiveCount()\n",
    "    2. CurrentThread()\n",
    "    3. Enumerate\n",
    "  \n",
    "\n",
    "Ans. Python threading allows you to have different parts of your program run concurrently and can simplify your design. If you’ve got some experience in Python and want to speed up your program using threads.\n",
    "\n",
    "activeCount() − Returns the number of thread objects that are active.\n",
    "currentThread() − Returns the number of thread objects in the caller's thread control.\n",
    "enumerate() − Returns a list of all thread objects that are currently active."
   ]
  },
  {
   "cell_type": "markdown",
   "id": "a3a86783-eb9e-4ea2-a283-e02126bc343d",
   "metadata": {},
   "source": [
    "Q3. Explain the following functions:\n",
    "run()\n",
    "start()\n",
    "join()\n",
    "isAlive()\n",
    "\n",
    "Ans. run()  − The run() method is the entry point for a thread.\n",
    "    start()  − The start() method starts a thread by calling the run method.\n",
    "    join()  − The join() waits for threads to terminate.\n",
    "    isAlive()  − The isAlive() method checks whether a thread is still executing."
   ]
  },
  {
   "cell_type": "markdown",
   "id": "9a295b5e-8021-4e5e-a251-246f070f6bfc",
   "metadata": {},
   "source": [
    "Q4.  Write a python program to create two threads. Thread one must print the list of squares and thread two must print the list of cubes"
   ]
  },
  {
   "cell_type": "code",
   "execution_count": 34,
   "id": "99332afc-ea60-4e79-bd3c-08d02c14bda8",
   "metadata": {},
   "outputs": [
    {
     "name": "stdout",
     "output_type": "stream",
     "text": [
      "square: 1\n",
      "square: 16\n",
      "square: 36\n",
      "square: 49\n",
      "Cube: 1\n",
      "Cube: 64\n",
      "Cube: 216\n",
      "Cube: 343\n"
     ]
    }
   ],
   "source": [
    "import threading\n",
    "list=[1,4,6,7]\n",
    "\n",
    "def print_square(list):\n",
    "    print(\"square: {}\" .format(list*list))\n",
    "\n",
    "    \n",
    "def print_cube(list):\n",
    "    print(\"Cube: {}\" .format(list * list* list))\n",
    " \n",
    " \n",
    "\n",
    "t1 =[threading.Thread(target=print_square , args =(i,)) for i in num]\n",
    "t2=[threading.Thread(target = print_cube,args=(i,)) for i in num]\n",
    "for t in t1:\n",
    "    t.start()\n",
    "    \n",
    "for t in t2:\n",
    "    t.start()\n",
    "    "
   ]
  },
  {
   "cell_type": "markdown",
   "id": "96a893e4-3d87-4e09-b7f3-72eea3c71272",
   "metadata": {},
   "source": [
    "Q5. State advantages and disadvantages of multithreading.\n",
    "Ans. Multithreading advantages:\n",
    "\n",
    " Python multithreading enables efficient utilization of the resources as the threads share the data space and memory.\n",
    " Multithreading in Python allows the concurrent and parallel occurrence of various tasks.\n",
    " It causes a reduction in time consumption or response time, thereby increasing the performance.\n",
    " \n",
    " \n",
    " Multithreading disadvantages:\n",
    "Testing a multithreaded application is more difficult than testing a single-threaded application because defects are often timing-related and more difficult to reproduce,\n",
    "A disadvantage of the many to one model is that a thread blocking system call blocks the entire process.\n",
    "Multiple threads cannot run in parallel as only one thread can access the kernel at a time.\n",
    " "
   ]
  },
  {
   "cell_type": "markdown",
   "id": "499656dd-5cda-4dfe-9d3a-bc086b23e24c",
   "metadata": {},
   "source": [
    "Q6. Explain deadlocks and race conditions.\n",
    "Ans. Race Condition :\n",
    "Race conditions are a real problem in Python when using threads, even in the presence of the global interpreter lock (GIL). The refrain that there are no race conditions in Python because of the GIL is dangerously wrong.A race condition is a bug in concurrency programming.It is a failure case where the behavior of the program is dependent upon the order of execution by two or more threads. This means, the behavior of the program will not be predictable, possibly changing each time it is run.There are many types of race conditions, although a common type of race condition is when two or more threads attempt to change the same data variable.\n",
    "\n",
    "\n",
    "\n",
    "\n",
    "Deadlocks:\n",
    "\n",
    "A deadlock is a concurrency failure mode where a thread or threads wait for a condition that never occurs.The result is that the deadlock threads are unable to progress and the program is stuck or frozen and must be terminated forcefully.There are many ways in which you may encounter a deadlock in your concurrent program.Deadlocks are not developed intentionally, instead, they are an unexpected side effect or bug in concurrency programming.\n"
   ]
  },
  {
   "cell_type": "code",
   "execution_count": null,
   "id": "0ead0dff-d000-47be-8d6c-ce5a646b128f",
   "metadata": {},
   "outputs": [],
   "source": []
  }
 ],
 "metadata": {
  "kernelspec": {
   "display_name": "Python 3 (ipykernel)",
   "language": "python",
   "name": "python3"
  },
  "language_info": {
   "codemirror_mode": {
    "name": "ipython",
    "version": 3
   },
   "file_extension": ".py",
   "mimetype": "text/x-python",
   "name": "python",
   "nbconvert_exporter": "python",
   "pygments_lexer": "ipython3",
   "version": "3.10.8"
  }
 },
 "nbformat": 4,
 "nbformat_minor": 5
}
