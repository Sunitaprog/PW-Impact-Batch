{
 "cells": [
  {
   "cell_type": "markdown",
   "id": "4580184b-09f5-4ec4-8f06-0c193504f146",
   "metadata": {},
   "source": [
    "Q1. What is a database? Differentiate between SQL and NoSQL databases.\n",
    "\n",
    "Ans. SQL databaseis a collection of highly structured tables, where in each row reflects a data entity, and every column defines a specific information field. Relational databases are built using the structured query language (SQL) to create, store, update, and retrieve data. Therefore, SQL is the underlying programming language for all relational database management systems (RDBMS) such as MySQL, Oracle, and Sybase, among others.\n",
    "\n",
    "Difference b/w SQL and NoSQL\n",
    "\n",
    "SQL databases, NoSQL databases store data in a document format instead of tables. NoSQL databases store non-structured data such as photos, videos, articles, and more in a single document. Below are a few of the key differences between SQL and NoSQL databases:\n",
    "\n",
    "Database Structure: Unlike relational databases with tables to store information, NoSQL databases employ a key-value-pairs approach to store all data in one place. In this case, the key indicates a unique element, for example, an email address for employees.\n",
    "\n",
    "Flexibility: NoSQL databases can store vast amounts of unstructured data without constraints on the types of data users want to keep together. Flexibility in storing different new types of data as per the varying needs makes NoSQL databases more intuitive and broadens the scope of application. However, databases require extra processing effort and more storage than relational databases.\n",
    "\n",
    "Consistency: Ensuring data availability and data consistency are critical aspects to ensure exceptional database performance. While relational databases always ensure consistent data across SQL database server instances, some NoSQL databases, such as Redis, respond to a query with information that may be incorrect by a few seconds.\n"
   ]
  },
  {
   "cell_type": "markdown",
   "id": "cb7451d5-ee61-44e5-83b3-2e78d5e17b7c",
   "metadata": {},
   "source": [
    "Q2. What is DDL? Explain why CREATE, DROP, ALTER, and TRUNCATE are used with an example.\n",
    "\n",
    "Ans.DDL (Data Definition Language):\n",
    "\n",
    "DDL or Data Definition Language actually consists of the SQL commands that can be used to define the database schema. It simply deals with descriptions of the database schema and is used to create and modify the structure of database objects in the database. DDL is a set of SQL commands used to create, modify, and delete database structures but not data. These commands are normally not used by a general user, who should be accessing the database via an application"
   ]
  },
  {
   "cell_type": "markdown",
   "id": "c9fdbe66-6f15-44ba-9044-37f86691c6fd",
   "metadata": {},
   "source": [
    "CREATE – is used to create the database or its objects (table index, function, views, store procedure and triggers).\n",
    "\n",
    "CREATE TABLE employee_table(\n",
    "id int ,\n",
    "name varchar(45) ,\n",
    "occupation varchar(35) ,\n",
    "age int,\n",
    ");\n"
   ]
  },
  {
   "cell_type": "markdown",
   "id": "6f5230d5-fbfb-4d63-a004-4c54ec87dd9c",
   "metadata": {},
   "source": [
    "DROP – is used to delete objects from the database.\n",
    "\n",
    "DROP TABLE orders;\n",
    "\n",
    "DROP DATABASE test1;\n"
   ]
  },
  {
   "cell_type": "markdown",
   "id": "cbc443f2-2ab6-405a-a862-790a39d47307",
   "metadata": {},
   "source": [
    "ALTER - is used to alter the structure of the database.\n",
    "\n",
    "ALTER TABLE test2\n",
    "ADD cus_age varchar(40);"
   ]
  },
  {
   "cell_type": "markdown",
   "id": "d4d14bd4-695b-402c-9316-b54df938957d",
   "metadata": {},
   "source": [
    "TRUNCATE –is used to remove all records from a table, including all spaces allocated for the records are removed.\n",
    "\n",
    "TRUNCATE TABLE customer;"
   ]
  },
  {
   "cell_type": "markdown",
   "id": "2d50026b-49d1-4d29-956e-5120d538f6fc",
   "metadata": {},
   "source": [
    "Q3. What is DML? Explain INSERT, UPDATE, and DELETE with an example.\n",
    "\n",
    "Ans. DML(Data Manipulation Language): \n",
    "\n",
    "The SQL commands that deals with the manipulation of data present in the database belong to DML or Data Manipulation Language and this includes most of the SQL statements. It is the component of the SQL statement that controls access to data and to the database. Basically, DCL statements are grouped with DML statements."
   ]
  },
  {
   "cell_type": "markdown",
   "id": "3ec7bdbf-7df3-497f-a131-c5cdcd174eb8",
   "metadata": {},
   "source": [
    "INSERT – is used to insert data into a table.\n",
    "\n",
    "INSERT INTO test.test_table VALUES\n",
    "(102, 'Joseph', 'Developer', 30),\n",
    "(103, 'Mike', 'Leader', 28),\n",
    "(104, 'Stephen', 'Scientist', 45);"
   ]
  },
  {
   "cell_type": "markdown",
   "id": "348386e4-a01a-4000-91fe-3fd6173373d7",
   "metadata": {},
   "source": [
    "UPDATE – is used to update existing data within a table.\n",
    "\n",
    "UPDATE test.test_table\n",
    "SET name = 'sunita'\n",
    "WHERE id = '102'"
   ]
  },
  {
   "cell_type": "markdown",
   "id": "7c5a324b-7bf0-4fe9-bc76-ccd5d3c4b0e2",
   "metadata": {},
   "source": [
    "DELETE – is used to delete records from a database table.\n",
    "\n",
    "DELETE FROM test2 WHERE id=103"
   ]
  },
  {
   "cell_type": "markdown",
   "id": "704e167f-0b0c-4f7d-95ae-6b8556ad3c7f",
   "metadata": {},
   "source": [
    "Q4. What is DQL? Explain SELECT with an example.\n",
    "\n",
    "Ans: DQL(Data Definition Language):\n",
    "\n",
    "DQL statements are used for performing queries on the data within schema objects. The purpose of the DQL Command is to get some schema relation based on the query passed to it. We can define DQL as follows it is a component of SQL statement that allows getting data from the database and imposing order upon it. It includes the SELECT statement. This command allows getting the data out of the database to perform operations with it. When a SELECT is fired against a table or tables the result is compiled into a further temporary table, which is displayed or perhaps received by the program i.e. a front-end."
   ]
  },
  {
   "cell_type": "markdown",
   "id": "482df92c-4aad-4c98-830b-4b2d42cfab97",
   "metadata": {},
   "source": [
    "SELECT – is used to retrieve data from the database.\n",
    "\n",
    "SELECT * FROM test2.test_table;"
   ]
  },
  {
   "cell_type": "markdown",
   "id": "e9901d9a-33e4-4d2e-be79-860c74567bae",
   "metadata": {},
   "source": [
    "Q5. Explain Primary Key and Foreign Key.\n",
    "\n",
    "Ans.Primary Key: A primary key is used to ensure that data in the specific column is unique. A column cannot have NULL values. It is either an existing table column or a column that is specifically generated by the database according to a defined sequence. \n",
    "\n",
    "Foreign Key: \n",
    "A foreign key is a column or group of columns in a relational database table that provides a link between data in two tables. It is a column (or columns) that references a column (most often the primary key) of another table. \n"
   ]
  },
  {
   "cell_type": "markdown",
   "id": "4dbbe7f2-dd07-4709-8b0c-745573572bf5",
   "metadata": {},
   "source": [
    "Q6. Write a python code to connect MySQL to python. Explain the cursor() and execute() method."
   ]
  },
  {
   "cell_type": "code",
   "execution_count": null,
   "id": "3a83f602-b4ef-4aa0-beef-08ea06c7118f",
   "metadata": {},
   "outputs": [],
   "source": [
    "import mysql.connector\n",
    "mydb = mysql.connector.connect(\n",
    "  host=\"localhost\",\n",
    "  user=\"abc\",\n",
    "  password=\"password\"\n",
    ")\n",
    "print(mydb)\n",
    "mycursor = mydb.cursor()\n",
    "mycursor.execute(\"SHOW DATABASES\")\n",
    "for x in mycursor:\n",
    "    print(x)"
   ]
  },
  {
   "cell_type": "markdown",
   "id": "2bfa6e85-0e62-46a4-b983-ba0a054e53d5",
   "metadata": {},
   "source": [
    "cursor():\n",
    "Python code to execute PostgreSQL command in a database session. Cursors are created by the connection.cursor() method: they are bound to the connection for the entire lifetime and all the commands are executed in the context of the database session wrapped by the connection."
   ]
  },
  {
   "cell_type": "markdown",
   "id": "c3d81d49-2879-44fa-9ff3-43f66db044a6",
   "metadata": {},
   "source": [
    "execute():\n",
    "execute() function is used for the dynamic execution of Python programs which can either be a string or object code. If it is a string, the string is parsed as a suite of Python statements which is then executed unless a syntax error occurs and if it is an object code, it is simply executed.\n"
   ]
  },
  {
   "cell_type": "markdown",
   "id": "af95d6a0-7a55-4d22-b488-3f2c2fb918b6",
   "metadata": {},
   "source": [
    "Q7. Give the order of execution of SQL clauses in an SQL query.\n",
    "\n",
    "Ans. The SQL order of execution defines the order in which the clauses of a query are evaluated. Some of the most common query challenges people run into could be easily avoided with a clearer understanding of the SQL order of execution, sometimes called the SQL order of operations."
   ]
  },
  {
   "cell_type": "code",
   "execution_count": null,
   "id": "95cdb0f5-99e7-4869-aae2-fe77791f40b1",
   "metadata": {},
   "outputs": [],
   "source": [
    "1. from\n",
    "2. where\n",
    "3. group by\n",
    "4. having\n",
    "5. select\n",
    "6. order by\n",
    "7. limit\n"
   ]
  },
  {
   "cell_type": "code",
   "execution_count": null,
   "id": "2fdbe694-2615-4f34-b455-372798371635",
   "metadata": {},
   "outputs": [],
   "source": []
  },
  {
   "cell_type": "code",
   "execution_count": null,
   "id": "a7f3fd94-5435-49e8-87a4-e79d54fb3ad0",
   "metadata": {},
   "outputs": [],
   "source": []
  }
 ],
 "metadata": {
  "kernelspec": {
   "display_name": "Python 3 (ipykernel)",
   "language": "python",
   "name": "python3"
  },
  "language_info": {
   "codemirror_mode": {
    "name": "ipython",
    "version": 3
   },
   "file_extension": ".py",
   "mimetype": "text/x-python",
   "name": "python",
   "nbconvert_exporter": "python",
   "pygments_lexer": "ipython3",
   "version": "3.10.8"
  }
 },
 "nbformat": 4,
 "nbformat_minor": 5
}
