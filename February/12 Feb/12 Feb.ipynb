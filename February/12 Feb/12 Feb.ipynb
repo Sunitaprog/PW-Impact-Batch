{
 "cells": [
  {
   "cell_type": "markdown",
   "id": "0d9b83b2-58a4-4e25-9327-e20c97575b95",
   "metadata": {},
   "source": [
    "Q1. What is an Exception in python? Write the difference between Exceptions and Syntax errors.\n",
    "Ans. An Exception in python is an error that occurs during the execution of a program. It can be handled to prevent the program from crashing.\n",
    "\n",
    "On the other hand, Syntax errors are issues with the code that prevent it from running due to incorrect syntax."
   ]
  },
  {
   "cell_type": "code",
   "execution_count": null,
   "id": "58fcc2a0-6082-4295-8190-a4f3efdba866",
   "metadata": {},
   "outputs": [],
   "source": [
    "Q2. What happens when an exception is not handled? Explain with an example.\n",
    "Ans. When Exception is handel the program raise an error and exit the program."
   ]
  },
  {
   "cell_type": "code",
   "execution_count": 1,
   "id": "f10aa9b2-02fd-4c34-8563-2cded9a7ebc5",
   "metadata": {},
   "outputs": [
    {
     "ename": "TypeError",
     "evalue": "'str' object does not support item assignment",
     "output_type": "error",
     "traceback": [
      "\u001b[0;31m---------------------------------------------------------------------------\u001b[0m",
      "\u001b[0;31mTypeError\u001b[0m                                 Traceback (most recent call last)",
      "Cell \u001b[0;32mIn[1], line 3\u001b[0m\n\u001b[1;32m      1\u001b[0m name \u001b[38;5;241m=\u001b[39m \u001b[38;5;124m'\u001b[39m\u001b[38;5;124mAnshul Raj Verma\u001b[39m\u001b[38;5;124m'\u001b[39m\n\u001b[0;32m----> 3\u001b[0m \u001b[43mname\u001b[49m\u001b[43m[\u001b[49m\u001b[38;5;241;43m0\u001b[39;49m\u001b[43m]\u001b[49m \u001b[38;5;241m=\u001b[39m \u001b[38;5;124m'\u001b[39m\u001b[38;5;124ma\u001b[39m\u001b[38;5;124m'\u001b[39m\n",
      "\u001b[0;31mTypeError\u001b[0m: 'str' object does not support item assignment"
     ]
    }
   ],
   "source": [
    "name = 'Anshul Raj Verma'\n",
    "\n",
    "name[0] = 'a'"
   ]
  },
  {
   "cell_type": "markdown",
   "id": "a7bd41c4-784a-464a-958e-e71340ced4cc",
   "metadata": {},
   "source": [
    "Q3. Which Python statements are used to catch and handle exceptions? Explain with an example.\n",
    "Ans.Try and except statement is used to handel exceptions in python."
   ]
  },
  {
   "cell_type": "code",
   "execution_count": 2,
   "id": "38ea1f97-f9b6-42ae-acce-b566501fd7ce",
   "metadata": {},
   "outputs": [
    {
     "name": "stdout",
     "output_type": "stream",
     "text": [
      "Python string does not support item assignment.\n"
     ]
    }
   ],
   "source": [
    "try:\n",
    "    name[0] = 'a'\n",
    "except TypeError:\n",
    "    print('Python string does not support item assignment.')"
   ]
  },
  {
   "cell_type": "markdown",
   "id": "a6df290d-a691-43d2-86a8-02d2daa4eb13",
   "metadata": {},
   "source": [
    "Q4. Explain with an example:\n",
    "Ans. Try and else\n",
    "     finally\n",
    "     raise"
   ]
  },
  {
   "cell_type": "code",
   "execution_count": 3,
   "id": "cfbbb65d-e787-4179-abf1-045b733eab87",
   "metadata": {},
   "outputs": [
    {
     "name": "stdout",
     "output_type": "stream",
     "text": [
      "File not found to read.\n",
      "Finally block excuted!\n"
     ]
    }
   ],
   "source": [
    "try:\n",
    "    with open('test.json', 'r') as f:\n",
    "        print('File Found and Opened.')\n",
    "except FileNotFoundError:\n",
    "    print('File not found to read.')\n",
    "else:\n",
    "    print(24+45 - (2**3))\n",
    "finally:\n",
    "    print('Finally block excuted!')"
   ]
  },
  {
   "cell_type": "code",
   "execution_count": 4,
   "id": "5474e9be-4e6e-442a-a467-07ad82f83537",
   "metadata": {},
   "outputs": [
    {
     "name": "stdin",
     "output_type": "stream",
     "text": [
      "Enter a number:  0\n"
     ]
    },
    {
     "ename": "ZeroDivisionError",
     "evalue": "Enter a nubmber less than or more than zero.",
     "output_type": "error",
     "traceback": [
      "\u001b[0;31m---------------------------------------------------------------------------\u001b[0m",
      "\u001b[0;31mZeroDivisionError\u001b[0m                         Traceback (most recent call last)",
      "Cell \u001b[0;32mIn[4], line 4\u001b[0m\n\u001b[1;32m      1\u001b[0m num \u001b[38;5;241m=\u001b[39m \u001b[38;5;28mint\u001b[39m(\u001b[38;5;28minput\u001b[39m(\u001b[38;5;124m'\u001b[39m\u001b[38;5;124mEnter a number: \u001b[39m\u001b[38;5;124m'\u001b[39m))\n\u001b[1;32m      3\u001b[0m \u001b[38;5;28;01mif\u001b[39;00m num \u001b[38;5;241m==\u001b[39m \u001b[38;5;241m0\u001b[39m:\n\u001b[0;32m----> 4\u001b[0m     \u001b[38;5;28;01mraise\u001b[39;00m \u001b[38;5;167;01mZeroDivisionError\u001b[39;00m(\u001b[38;5;124m'\u001b[39m\u001b[38;5;124mEnter a nubmber less than or more than zero.\u001b[39m\u001b[38;5;124m'\u001b[39m)\n\u001b[1;32m      5\u001b[0m \u001b[38;5;28;01melse\u001b[39;00m:\n\u001b[1;32m      6\u001b[0m     \u001b[38;5;28mprint\u001b[39m(\u001b[38;5;241m100\u001b[39m \u001b[38;5;241m/\u001b[39m num)\n",
      "\u001b[0;31mZeroDivisionError\u001b[0m: Enter a nubmber less than or more than zero."
     ]
    }
   ],
   "source": [
    "num = int(input('Enter a number: '))\n",
    "\n",
    "if num == 0:\n",
    "    raise ZeroDivisionError('Enter a nubmber less than or more than zero.')\n",
    "else:\n",
    "    print(100 / num)"
   ]
  },
  {
   "cell_type": "markdown",
   "id": "cefb5f74-b133-42a4-b7b7-f286e5ef825e",
   "metadata": {},
   "source": [
    "Q5. What are Custom Exceptions in python? Why do we need Custom Exceptions? Explain with an example.\n",
    "Ans. Custom Exception can be raised when specific error occured in program.\n",
    "\n",
    "We need custom Exception beacause they provide meaningful error messages and to handle specific error conditions in a more controlled way.\n",
    "\n",
    "Example: Raising a custom exception for low account balance."
   ]
  },
  {
   "cell_type": "markdown",
   "id": "2ccc5d9d-0eb1-4ef5-98b6-7ba2a6d1a20f",
   "metadata": {},
   "source": [
    "Q6. Create a custom exception class. Use this class to handle an exception."
   ]
  },
  {
   "cell_type": "code",
   "execution_count": 6,
   "id": "dae92174-8004-4a26-b45f-3e7a54aed359",
   "metadata": {},
   "outputs": [
    {
     "name": "stdout",
     "output_type": "stream",
     "text": [
      "Insufficient balance in your account.\n",
      "Withdrawn: 50\n",
      "Remaining balance: 50\n"
     ]
    }
   ],
   "source": [
    "class InsufficientBalanceError(Exception):\n",
    "    def __init__(self, *args: object) -> None:\n",
    "        super().__init__(*args)\n",
    "\n",
    "class Account:\n",
    "    def __init__(self, balance):\n",
    "        self.balance = balance\n",
    "        \n",
    "    def withdraw(self, amount):\n",
    "        if self.balance < amount:\n",
    "            raise InsufficientBalanceError(\"Insufficient balance in your account.\")\n",
    "        self.balance -= amount\n",
    "        print(\"Withdrawn:\", amount)\n",
    "        print(\"Remaining balance:\", self.balance)\n",
    "\n",
    "a = Account(100)\n",
    "try:\n",
    "    a.withdraw(200)\n",
    "except InsufficientBalanceError as e:\n",
    "    print(e)\n",
    "finally:\n",
    "    a.withdraw(50)"
   ]
  },
  {
   "cell_type": "code",
   "execution_count": null,
   "id": "0d5b843e-3430-4b4b-9cc9-6c9afaaba00d",
   "metadata": {},
   "outputs": [],
   "source": []
  }
 ],
 "metadata": {
  "kernelspec": {
   "display_name": "Python 3 (ipykernel)",
   "language": "python",
   "name": "python3"
  },
  "language_info": {
   "codemirror_mode": {
    "name": "ipython",
    "version": 3
   },
   "file_extension": ".py",
   "mimetype": "text/x-python",
   "name": "python",
   "nbconvert_exporter": "python",
   "pygments_lexer": "ipython3",
   "version": "3.10.8"
  }
 },
 "nbformat": 4,
 "nbformat_minor": 5
}
