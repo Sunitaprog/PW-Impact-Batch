{
 "cells": [
  {
   "cell_type": "code",
   "execution_count": 12,
   "id": "42938471-d4ab-4b82-90cf-f2ad4a6ad474",
   "metadata": {},
   "outputs": [],
   "source": [
    "f=open(\"text.txt\" ,\"w\")"
   ]
  },
  {
   "cell_type": "code",
   "execution_count": 6,
   "id": "748f5e1d-8d24-41ef-92d2-b03eb597238a",
   "metadata": {},
   "outputs": [
    {
     "data": {
      "text/plain": [
       "'/home/jovyan'"
      ]
     },
     "execution_count": 6,
     "metadata": {},
     "output_type": "execute_result"
    }
   ],
   "source": [
    "pwd"
   ]
  },
  {
   "cell_type": "code",
   "execution_count": 3,
   "id": "359d0d77-8359-4b35-8056-812aa629dd4d",
   "metadata": {},
   "outputs": [
    {
     "name": "stdout",
     "output_type": "stream",
     "text": [
      " Assignment10.ipynb\n",
      "'Assignment 29.ipynb'\n",
      " Assignment3.ipynb\n",
      "'Assignment 4.ipynb'\n",
      " Assignment5.ipynb\n",
      " Assignment6.ipynb\n",
      "'Assignment 7.ipynb'\n",
      " Assignment8.ipynb\n",
      " Assignment9.ipynb\n",
      "'dict, if ,else, for loop.ipynb'\n",
      " list,tuple,set.ipynb\n",
      " map.filter,reduce,lambda,iter,genterator.ipynb\n",
      " opps.ipynb\n",
      " README.md\n",
      " sample-code.ipynb\n",
      " text.txt\n",
      " Untitled1.ipynb\n",
      "'variable ,data type.ipynb'\n",
      "'while loop ,function,comp,.ipynb'\n"
     ]
    }
   ],
   "source": [
    "ls"
   ]
  },
  {
   "cell_type": "code",
   "execution_count": 4,
   "id": "da3797f5-19d3-4781-b69d-486059971f24",
   "metadata": {},
   "outputs": [
    {
     "name": "stdout",
     "output_type": "stream",
     "text": [
      "/home/jovyan\n"
     ]
    }
   ],
   "source": [
    "cd"
   ]
  },
  {
   "cell_type": "code",
   "execution_count": 7,
   "id": "3cd87001-292a-47e4-8154-ac75f5e15cb6",
   "metadata": {},
   "outputs": [
    {
     "name": "stdout",
     "output_type": "stream",
     "text": [
      "text.txt  \u001b[0m\u001b[01;34mwork\u001b[0m/\n"
     ]
    }
   ],
   "source": [
    "ls"
   ]
  },
  {
   "cell_type": "code",
   "execution_count": 9,
   "id": "51475530-e41b-46e9-85c7-36041fffcea6",
   "metadata": {},
   "outputs": [
    {
     "data": {
      "text/plain": [
       "30"
      ]
     },
     "execution_count": 9,
     "metadata": {},
     "output_type": "execute_result"
    }
   ],
   "source": [
    "f.write(\"this is my first file to write\")"
   ]
  },
  {
   "cell_type": "code",
   "execution_count": 10,
   "id": "b5405dc5-489e-4278-af75-d204c0afd1c9",
   "metadata": {},
   "outputs": [],
   "source": [
    "f.close()"
   ]
  },
  {
   "cell_type": "code",
   "execution_count": 13,
   "id": "48f5eefb-3e93-4a27-b2f3-397226041d59",
   "metadata": {},
   "outputs": [
    {
     "data": {
      "text/plain": [
       "15"
      ]
     },
     "execution_count": 13,
     "metadata": {},
     "output_type": "execute_result"
    }
   ],
   "source": [
    "f.write(\"this is my file\")"
   ]
  },
  {
   "cell_type": "code",
   "execution_count": 15,
   "id": "0aacf61a-70fd-4b3d-825f-14e56ee6d731",
   "metadata": {},
   "outputs": [],
   "source": [
    "f.close()"
   ]
  },
  {
   "cell_type": "code",
   "execution_count": 16,
   "id": "548aabd6-eb8b-4be9-a340-7edbed1c41af",
   "metadata": {},
   "outputs": [],
   "source": [
    "f=open(\"text.txt\" ,\"a\")"
   ]
  },
  {
   "cell_type": "code",
   "execution_count": 17,
   "id": "e7a7eb00-f52b-4594-8c1d-1443df9653a4",
   "metadata": {},
   "outputs": [
    {
     "data": {
      "text/plain": [
       "765"
      ]
     },
     "execution_count": 17,
     "metadata": {},
     "output_type": "execute_result"
    }
   ],
   "source": [
    "f.write(\"Data Science Masters course is highly curated and uniquely designed according to the latest industry standards. This program instills students the skills essential to knowledge discovery efforts to identify standard, novel, and truly differentiated solutions and decision-making, including skills in managing, querying, analyzing, visualizing, and extracting meaning from extremely large data sets. This trending program provides students with the statistical, mathematical and computational skills needed to meet the large-scale data science challenges of today's professional world. You will learn all the stack required to work in data science industry including cloud infrastructure and real-time industry projects. This course will be taught in Hindi language.\")"
   ]
  },
  {
   "cell_type": "code",
   "execution_count": 18,
   "id": "7f6c611a-a2b1-4a3e-8877-e9b84dcb8e97",
   "metadata": {},
   "outputs": [],
   "source": [
    "f.close()"
   ]
  },
  {
   "cell_type": "code",
   "execution_count": 19,
   "id": "c88d56d9-d677-4165-8bcb-592085a48e09",
   "metadata": {},
   "outputs": [],
   "source": [
    "f=open(\"text.txt\",\"r\")"
   ]
  },
  {
   "cell_type": "code",
   "execution_count": 20,
   "id": "fc26ad63-1815-4ef1-bab7-0865fcc5306a",
   "metadata": {},
   "outputs": [
    {
     "data": {
      "text/plain": [
       "\"this is my fileData Science Masters course is highly curated and uniquely designed according to the latest industry standards. This program instills students the skills essential to knowledge discovery efforts to identify standard, novel, and truly differentiated solutions and decision-making, including skills in managing, querying, analyzing, visualizing, and extracting meaning from extremely large data sets. This trending program provides students with the statistical, mathematical and computational skills needed to meet the large-scale data science challenges of today's professional world. You will learn all the stack required to work in data science industry including cloud infrastructure and real-time industry projects. This course will be taught in Hindi language.\""
      ]
     },
     "execution_count": 20,
     "metadata": {},
     "output_type": "execute_result"
    }
   ],
   "source": [
    "f.read()"
   ]
  },
  {
   "cell_type": "code",
   "execution_count": 22,
   "id": "b0c8abb8-36cf-45af-a7ca-ba6c2da69c06",
   "metadata": {},
   "outputs": [
    {
     "data": {
      "text/plain": [
       "''"
      ]
     },
     "execution_count": 22,
     "metadata": {},
     "output_type": "execute_result"
    }
   ],
   "source": [
    "f.readline()"
   ]
  },
  {
   "cell_type": "code",
   "execution_count": 24,
   "id": "56e08abf-88ca-47e3-b63b-2870f6681b15",
   "metadata": {},
   "outputs": [
    {
     "data": {
      "text/plain": [
       "0"
      ]
     },
     "execution_count": 24,
     "metadata": {},
     "output_type": "execute_result"
    }
   ],
   "source": [
    "f.seek(0)"
   ]
  },
  {
   "cell_type": "code",
   "execution_count": 25,
   "id": "0611f4cc-931a-4be7-aa87-a09e463205fd",
   "metadata": {},
   "outputs": [
    {
     "data": {
      "text/plain": [
       "\"this is my fileData Science Masters course is highly curated and uniquely designed according to the latest industry standards. This program instills students the skills essential to knowledge discovery efforts to identify standard, novel, and truly differentiated solutions and decision-making, including skills in managing, querying, analyzing, visualizing, and extracting meaning from extremely large data sets. This trending program provides students with the statistical, mathematical and computational skills needed to meet the large-scale data science challenges of today's professional world. You will learn all the stack required to work in data science industry including cloud infrastructure and real-time industry projects. This course will be taught in Hindi language.\""
      ]
     },
     "execution_count": 25,
     "metadata": {},
     "output_type": "execute_result"
    }
   ],
   "source": [
    "f.readline()"
   ]
  },
  {
   "cell_type": "code",
   "execution_count": 26,
   "id": "6f99b7f4-d061-4350-af03-c0e0d7e7316b",
   "metadata": {},
   "outputs": [
    {
     "data": {
      "text/plain": [
       "''"
      ]
     },
     "execution_count": 26,
     "metadata": {},
     "output_type": "execute_result"
    }
   ],
   "source": [
    "f.readline()"
   ]
  },
  {
   "cell_type": "code",
   "execution_count": 27,
   "id": "a85768c4-c7f2-4ccb-b7d3-cd35a04ef428",
   "metadata": {},
   "outputs": [
    {
     "data": {
      "text/plain": [
       "10"
      ]
     },
     "execution_count": 27,
     "metadata": {},
     "output_type": "execute_result"
    }
   ],
   "source": [
    "f.seek(10)"
   ]
  },
  {
   "cell_type": "code",
   "execution_count": 28,
   "id": "efe10841-5c68-481b-8ed5-48d2e72eabf6",
   "metadata": {},
   "outputs": [
    {
     "data": {
      "text/plain": [
       "\" fileData Science Masters course is highly curated and uniquely designed according to the latest industry standards. This program instills students the skills essential to knowledge discovery efforts to identify standard, novel, and truly differentiated solutions and decision-making, including skills in managing, querying, analyzing, visualizing, and extracting meaning from extremely large data sets. This trending program provides students with the statistical, mathematical and computational skills needed to meet the large-scale data science challenges of today's professional world. You will learn all the stack required to work in data science industry including cloud infrastructure and real-time industry projects. This course will be taught in Hindi language.\""
      ]
     },
     "execution_count": 28,
     "metadata": {},
     "output_type": "execute_result"
    }
   ],
   "source": [
    "f.readline()"
   ]
  },
  {
   "cell_type": "code",
   "execution_count": 29,
   "id": "119c2337-310c-4eaa-86c7-1fae244362f2",
   "metadata": {},
   "outputs": [],
   "source": [
    "data1=open(\"text.txt\",\"r\")"
   ]
  },
  {
   "cell_type": "code",
   "execution_count": 30,
   "id": "3e7e44df-83fb-4e05-930e-43d00715c186",
   "metadata": {},
   "outputs": [
    {
     "name": "stdout",
     "output_type": "stream",
     "text": [
      "this is my fileData Science Masters course is highly curated and uniquely designed according to the latest industry standards. This program instills students the skills essential to knowledge discovery efforts to identify standard, novel, and truly differentiated solutions and decision-making, including skills in managing, querying, analyzing, visualizing, and extracting meaning from extremely large data sets. This trending program provides students with the statistical, mathematical and computational skills needed to meet the large-scale data science challenges of today's professional world. You will learn all the stack required to work in data science industry including cloud infrastructure and real-time industry projects. This course will be taught in Hindi language.\n"
     ]
    }
   ],
   "source": [
    "for i in data1:\n",
    "    print(i)"
   ]
  },
  {
   "cell_type": "code",
   "execution_count": 31,
   "id": "bf109e62-68be-4ebf-a221-1eb5f6b4a714",
   "metadata": {},
   "outputs": [],
   "source": [
    "import os"
   ]
  },
  {
   "cell_type": "code",
   "execution_count": 33,
   "id": "c361eed5-2143-45ed-bdca-ab923a5513dc",
   "metadata": {},
   "outputs": [
    {
     "data": {
      "text/plain": [
       "780"
      ]
     },
     "execution_count": 33,
     "metadata": {},
     "output_type": "execute_result"
    }
   ],
   "source": [
    "os.path.getsize(\"text.txt\")"
   ]
  },
  {
   "cell_type": "code",
   "execution_count": 34,
   "id": "6b7130ca-e7c7-4a1f-b79e-ba60cef7dcc0",
   "metadata": {},
   "outputs": [],
   "source": [
    "os.remove(\"text.txt\")"
   ]
  },
  {
   "cell_type": "code",
   "execution_count": 35,
   "id": "b5d833d3-d978-489a-9c95-2dba3441f4b8",
   "metadata": {},
   "outputs": [],
   "source": [
    "f =open(\"text.txt\",\"w\")"
   ]
  },
  {
   "cell_type": "code",
   "execution_count": 36,
   "id": "60d0f109-c92a-4b79-badc-92240120b2d2",
   "metadata": {},
   "outputs": [
    {
     "name": "stdout",
     "output_type": "stream",
     "text": [
      "/home/jovyan\n"
     ]
    }
   ],
   "source": [
    "cd"
   ]
  },
  {
   "cell_type": "code",
   "execution_count": 37,
   "id": "dbe25c2e-0443-4a2b-a6f9-0363b9ff0f40",
   "metadata": {},
   "outputs": [
    {
     "data": {
      "text/plain": [
       "765"
      ]
     },
     "execution_count": 37,
     "metadata": {},
     "output_type": "execute_result"
    }
   ],
   "source": [
    "f.write(\"Data Science Masters course is highly curated and uniquely designed according to the latest industry standards. This program instills students the skills essential to knowledge discovery efforts to identify standard, novel, and truly differentiated solutions and decision-making, including skills in managing, querying, analyzing, visualizing, and extracting meaning from extremely large data sets. This trending program provides students with the statistical, mathematical and computational skills needed to meet the large-scale data science challenges of today's professional world. You will learn all the stack required to work in data science industry including cloud infrastructure and real-time industry projects. This course will be taught in Hindi language.\")"
   ]
  },
  {
   "cell_type": "code",
   "execution_count": 38,
   "id": "2cf3786e-cbab-49c5-9df9-04c410964a6c",
   "metadata": {},
   "outputs": [],
   "source": [
    "f.close()"
   ]
  },
  {
   "cell_type": "code",
   "execution_count": 39,
   "id": "f39ad3ce-4a5a-426d-8175-67949f7b33f8",
   "metadata": {},
   "outputs": [],
   "source": [
    "os.rename(\"text.txt\",\"new.txt\")"
   ]
  },
  {
   "cell_type": "code",
   "execution_count": 40,
   "id": "046c5a4f-7f58-42d4-bc1e-6b89005a5a54",
   "metadata": {},
   "outputs": [],
   "source": [
    "import shutil"
   ]
  },
  {
   "cell_type": "code",
   "execution_count": 41,
   "id": "44b54e1d-04cc-4dd0-abe7-a03c4ba18821",
   "metadata": {},
   "outputs": [
    {
     "data": {
      "text/plain": [
       "'copy_new'"
      ]
     },
     "execution_count": 41,
     "metadata": {},
     "output_type": "execute_result"
    }
   ],
   "source": [
    "shutil.copy(\"new.txt\",\"copy_new\")"
   ]
  },
  {
   "cell_type": "code",
   "execution_count": 43,
   "id": "cfb4b6c5-7300-4b24-9104-d10ee6b47d2e",
   "metadata": {},
   "outputs": [
    {
     "name": "stdout",
     "output_type": "stream",
     "text": [
      "Data Science Masters course is highly curated and uniquely designed according to the latest industry standards. This program instills students the skills essential to knowledge discovery efforts to identify standard, novel, and truly differentiated solutions and decision-making, including skills in managing, querying, analyzing, visualizing, and extracting meaning from extremely large data sets. This trending program provides students with the statistical, mathematical and computational skills needed to meet the large-scale data science challenges of today's professional world. You will learn all the stack required to work in data science industry including cloud infrastructure and real-time industry projects. This course will be taught in Hindi language.\n"
     ]
    }
   ],
   "source": [
    "with open(\"new.txt\",\"r\")as f:\n",
    "    print(f.read())"
   ]
  },
  {
   "cell_type": "code",
   "execution_count": 48,
   "id": "46665a50-e847-4f1b-bfb4-e4554424f0eb",
   "metadata": {},
   "outputs": [],
   "source": [
    "data={\n",
    "    \"name\"  : \"sunita\",\n",
    "    \"mail_id\" : \"sdghj@\",\n",
    "    \"phone_no\" : 45678976,\n",
    "    \"subject\" : [\"data science\",\"big data\",\"data analysts\"]\n",
    "}"
   ]
  },
  {
   "cell_type": "code",
   "execution_count": 49,
   "id": "88c8ceb7-1c59-46c3-8118-42a3bed27a43",
   "metadata": {},
   "outputs": [
    {
     "data": {
      "text/plain": [
       "{'name': 'sunita',\n",
       " 'mail_id': 'sdghj@',\n",
       " 'phone_no': 45678976,\n",
       " 'subject': ['data science', 'big data', 'data analysts']}"
      ]
     },
     "execution_count": 49,
     "metadata": {},
     "output_type": "execute_result"
    }
   ],
   "source": [
    "data"
   ]
  },
  {
   "cell_type": "code",
   "execution_count": 50,
   "id": "aabbbf08-a5f7-4340-adec-e61884c5352f",
   "metadata": {},
   "outputs": [],
   "source": [
    "import json"
   ]
  },
  {
   "cell_type": "code",
   "execution_count": 52,
   "id": "f317353f-c49e-485c-9423-da8ff85bc928",
   "metadata": {},
   "outputs": [],
   "source": [
    "with open(\"data.json\",\"w\") as f:\n",
    "    json.dump(data,f)"
   ]
  },
  {
   "cell_type": "code",
   "execution_count": 53,
   "id": "62e7e633-bfbe-4e9a-b89e-487e1ff8cac9",
   "metadata": {},
   "outputs": [],
   "source": [
    "with open(\"data.json\",\"r\")as f:\n",
    "    data1=json.load(f)"
   ]
  },
  {
   "cell_type": "code",
   "execution_count": 54,
   "id": "254e2a96-3e05-4047-bce9-ce7285c01b47",
   "metadata": {},
   "outputs": [
    {
     "data": {
      "text/plain": [
       "{'name': 'sunita',\n",
       " 'mail_id': 'sdghj@',\n",
       " 'phone_no': 45678976,\n",
       " 'subject': ['data science', 'big data', 'data analysts']}"
      ]
     },
     "execution_count": 54,
     "metadata": {},
     "output_type": "execute_result"
    }
   ],
   "source": [
    "data1"
   ]
  },
  {
   "cell_type": "code",
   "execution_count": 55,
   "id": "f6826392-cd87-4f7d-996f-51f15c750ef4",
   "metadata": {},
   "outputs": [
    {
     "data": {
      "text/plain": [
       "['data science', 'big data', 'data analysts']"
      ]
     },
     "execution_count": 55,
     "metadata": {},
     "output_type": "execute_result"
    }
   ],
   "source": [
    "data1['subject']"
   ]
  },
  {
   "cell_type": "code",
   "execution_count": 56,
   "id": "3b4ce899-985b-4808-9519-12cbf69bf106",
   "metadata": {},
   "outputs": [
    {
     "data": {
      "text/plain": [
       "'big data'"
      ]
     },
     "execution_count": 56,
     "metadata": {},
     "output_type": "execute_result"
    }
   ],
   "source": [
    "data1['subject'][1]"
   ]
  },
  {
   "cell_type": "code",
   "execution_count": 57,
   "id": "335cee35-9920-44a9-9204-9946cce05e3f",
   "metadata": {},
   "outputs": [],
   "source": [
    "import csv"
   ]
  },
  {
   "cell_type": "code",
   "execution_count": 58,
   "id": "1f196ce3-cb73-4b52-8704-89832961ae86",
   "metadata": {},
   "outputs": [],
   "source": [
    "data = [['name' , 'email_id','phone_no'],\n",
    "        ['sunita','sun@',45678],\n",
    "        ['sudh','sadfghj',34567456]\n",
    "        \n",
    "]"
   ]
  },
  {
   "cell_type": "code",
   "execution_count": 65,
   "id": "2583558c-10f0-4f2d-9529-21295bca1775",
   "metadata": {},
   "outputs": [],
   "source": [
    "with open('data.csv','w')as f:\n",
    "    writer=csv.writer(f)\n",
    "    \n",
    "    for i in data:\n",
    "        writer.writerow(i)\n",
    "    "
   ]
  },
  {
   "cell_type": "code",
   "execution_count": 66,
   "id": "455523d6-1c99-4e9b-86d5-bc7246e1af78",
   "metadata": {},
   "outputs": [
    {
     "name": "stdout",
     "output_type": "stream",
     "text": [
      "['name', 'email_id', 'phone_no']\n",
      "['sunita', 'sun@', '45678']\n",
      "['sudh', 'sadfghj', '34567456']\n"
     ]
    }
   ],
   "source": [
    "with open(\"data.csv\" ,'r' )as f:\n",
    "    read_data=csv.reader(f)\n",
    "    for i in read_data:\n",
    "        print(i)"
   ]
  },
  {
   "cell_type": "code",
   "execution_count": 71,
   "id": "7aa8325f-40e5-4310-befc-6ab2d130b818",
   "metadata": {},
   "outputs": [],
   "source": [
    "with open(\"test2.bin\" ,'wb') as f:\n",
    "    f.write(b\"\\x01\\x02\\x03\\x0988\")"
   ]
  },
  {
   "cell_type": "code",
   "execution_count": 72,
   "id": "8e922312-812a-4765-bf26-f53ed7598d57",
   "metadata": {},
   "outputs": [
    {
     "name": "stdout",
     "output_type": "stream",
     "text": [
      "b'\\x01\\x02\\x03\\t88'\n"
     ]
    }
   ],
   "source": [
    "with open(\"test2.bin\",'rb')as f:\n",
    "    print(f.read())"
   ]
  },
  {
   "cell_type": "code",
   "execution_count": 73,
   "id": "ac73a4be-60b9-4d42-9150-8a2a39861b8e",
   "metadata": {},
   "outputs": [],
   "source": [
    "####buffer read and write\n",
    "import io\n"
   ]
  },
  {
   "cell_type": "code",
   "execution_count": 77,
   "id": "3af6b6b3-0301-4e3c-b672-0453fa5ee714",
   "metadata": {},
   "outputs": [],
   "source": [
    "with open(\"test1.txt\",'wb')as f:\n",
    "    file=io.BufferedWriter(f)\n",
    "    \n",
    "    file.write(b\"this is my first line\\n\")\n",
    "    file.write(b\"this is my second line\\n\")\n",
    "    file.write(b\"Data Science Masters course is highly curated and uniquely designed according to the latest industry standards. This program instills students the skills essential to knowledge discovery efforts to identify standard, novel, and truly differentiated solutions and decision-making, including skills in managing, querying, analyzing, visualizing, and extracting meaning from extremely large data sets. This trending program provides students with the statistical, mathematical and computational skills needed to meet the large-scale data science challenges of today's professional world. You will learn all the stack required to work in data science industry including cloud infrastructure and real-time industry projects. This course will be taught in Hindi language.\")\n",
    "    file.flush()"
   ]
  },
  {
   "cell_type": "code",
   "execution_count": 80,
   "id": "6dd7f3f4-0ed9-4d26-96ad-c95258f1cb20",
   "metadata": {},
   "outputs": [
    {
     "name": "stdout",
     "output_type": "stream",
     "text": [
      "b'this is my first line\\nthis is my second line\\nData Science Masters course is highly curated and uniqu'\n"
     ]
    }
   ],
   "source": [
    "with open(\"test1.txt\",'rb')as f:\n",
    "    file=io.BufferedReader(f)\n",
    "    print(file.read(100))"
   ]
  },
  {
   "cell_type": "code",
   "execution_count": 81,
   "id": "eb3c5231-566e-4b19-9db5-a5457bee0719",
   "metadata": {},
   "outputs": [
    {
     "name": "stdout",
     "output_type": "stream",
     "text": [
      "this is my print\n"
     ]
    }
   ],
   "source": [
    "print(\"this is my print\")"
   ]
  },
  {
   "cell_type": "code",
   "execution_count": 102,
   "id": "98edb6f4-003a-4817-a8f1-21df45b0e56a",
   "metadata": {},
   "outputs": [],
   "source": [
    "import logging"
   ]
  },
  {
   "cell_type": "code",
   "execution_count": 103,
   "id": "2d1b8f16-b8e3-4d1a-8c74-406a7620cd94",
   "metadata": {
    "tags": []
   },
   "outputs": [],
   "source": [
    "logging.basicConfig(filename = \"text1.log\",level =logging.INFO)"
   ]
  },
  {
   "cell_type": "code",
   "execution_count": 104,
   "id": "f465a6a1-213e-4896-bb39-7c66a98a5d41",
   "metadata": {},
   "outputs": [],
   "source": [
    "logging.info(\"log this line of excute\")"
   ]
  },
  {
   "cell_type": "code",
   "execution_count": 105,
   "id": "b7a68cdd-4d4e-4d73-9874-7cd4bc1cfe44",
   "metadata": {},
   "outputs": [],
   "source": [
    "logging.info(\"this is my print\")"
   ]
  },
  {
   "cell_type": "code",
   "execution_count": 109,
   "id": "34af320a-5817-49d7-9e08-1008698baf23",
   "metadata": {},
   "outputs": [],
   "source": [
    "logging.shutdown()"
   ]
  },
  {
   "cell_type": "code",
   "execution_count": 110,
   "id": "6532d342-2764-49b0-8d40-41cebd583597",
   "metadata": {},
   "outputs": [],
   "source": [
    "logging.basicConfig(filename = \"text2.log\" , level=logging.DEBUG ,format= '%(acstime) & %(message)&' )"
   ]
  },
  {
   "cell_type": "code",
   "execution_count": 116,
   "id": "913f7bcf-e9f8-441d-9630-d48f0a6d3cc0",
   "metadata": {},
   "outputs": [],
   "source": [
    "logging.info(\"thi is my logging\")"
   ]
  },
  {
   "cell_type": "code",
   "execution_count": 117,
   "id": "51bc1caa-2082-418b-a770-924aceaf8cd7",
   "metadata": {},
   "outputs": [],
   "source": [
    "logging.error(\"this is my error\")\n",
    "logging.critical(\"thi is my critical msg\")"
   ]
  },
  {
   "cell_type": "code",
   "execution_count": 118,
   "id": "3d5b93fa-498c-4857-b474-7f8597841188",
   "metadata": {},
   "outputs": [],
   "source": [
    "logging.shutdown()"
   ]
  },
  {
   "cell_type": "code",
   "execution_count": 119,
   "id": "8068487d-8bcc-427e-a046-92008b1f3533",
   "metadata": {},
   "outputs": [],
   "source": [
    "logging.shutdown()"
   ]
  },
  {
   "cell_type": "code",
   "execution_count": 120,
   "id": "11386540-dc33-46a0-a897-22b7fe2122df",
   "metadata": {},
   "outputs": [],
   "source": [
    "logging.shutdown()"
   ]
  },
  {
   "cell_type": "code",
   "execution_count": 1,
   "id": "fe714cfb-d9dc-43e9-97ce-d736965d3134",
   "metadata": {},
   "outputs": [],
   "source": [
    "import logging"
   ]
  },
  {
   "cell_type": "code",
   "execution_count": 2,
   "id": "89374e23-8ed7-4bcd-9a18-7871961bb59d",
   "metadata": {},
   "outputs": [],
   "source": [
    "logging.basicConfig(filename = \"text2.log\" , level=logging.DEBUG ,format= '%(acstime)& %(name) %(message)&' )"
   ]
  },
  {
   "cell_type": "code",
   "execution_count": 3,
   "id": "74c8105e-c800-4c7a-a5c9-175e568fd1b3",
   "metadata": {},
   "outputs": [
    {
     "name": "stderr",
     "output_type": "stream",
     "text": [
      "--- Logging error ---\n",
      "Traceback (most recent call last):\n",
      "  File \"/opt/conda/lib/python3.10/logging/__init__.py\", line 440, in format\n",
      "    return self._format(record)\n",
      "  File \"/opt/conda/lib/python3.10/logging/__init__.py\", line 436, in _format\n",
      "    return self._fmt % values\n",
      "KeyError: 'acstime'\n",
      "\n",
      "During handling of the above exception, another exception occurred:\n",
      "\n",
      "Traceback (most recent call last):\n",
      "  File \"/opt/conda/lib/python3.10/logging/__init__.py\", line 1100, in emit\n",
      "    msg = self.format(record)\n",
      "  File \"/opt/conda/lib/python3.10/logging/__init__.py\", line 943, in format\n",
      "    return fmt.format(record)\n",
      "  File \"/opt/conda/lib/python3.10/logging/__init__.py\", line 681, in format\n",
      "    s = self.formatMessage(record)\n",
      "  File \"/opt/conda/lib/python3.10/logging/__init__.py\", line 650, in formatMessage\n",
      "    return self._style.format(record)\n",
      "  File \"/opt/conda/lib/python3.10/logging/__init__.py\", line 442, in format\n",
      "    raise ValueError('Formatting field not found in record: %s' % e)\n",
      "ValueError: Formatting field not found in record: 'acstime'\n",
      "Call stack:\n",
      "  File \"/opt/conda/lib/python3.10/runpy.py\", line 196, in _run_module_as_main\n",
      "    return _run_code(code, main_globals, None,\n",
      "  File \"/opt/conda/lib/python3.10/runpy.py\", line 86, in _run_code\n",
      "    exec(code, run_globals)\n",
      "  File \"/opt/conda/lib/python3.10/site-packages/ipykernel_launcher.py\", line 17, in <module>\n",
      "    app.launch_new_instance()\n",
      "  File \"/opt/conda/lib/python3.10/site-packages/traitlets/config/application.py\", line 992, in launch_instance\n",
      "    app.start()\n",
      "  File \"/opt/conda/lib/python3.10/site-packages/ipykernel/kernelapp.py\", line 711, in start\n",
      "    self.io_loop.start()\n",
      "  File \"/opt/conda/lib/python3.10/site-packages/tornado/platform/asyncio.py\", line 199, in start\n",
      "    self.asyncio_loop.run_forever()\n",
      "  File \"/opt/conda/lib/python3.10/asyncio/base_events.py\", line 603, in run_forever\n",
      "    self._run_once()\n",
      "  File \"/opt/conda/lib/python3.10/asyncio/base_events.py\", line 1899, in _run_once\n",
      "    handle._run()\n",
      "  File \"/opt/conda/lib/python3.10/asyncio/events.py\", line 80, in _run\n",
      "    self._context.run(self._callback, *self._args)\n",
      "  File \"/opt/conda/lib/python3.10/site-packages/ipykernel/kernelbase.py\", line 510, in dispatch_queue\n",
      "    await self.process_one()\n",
      "  File \"/opt/conda/lib/python3.10/site-packages/ipykernel/kernelbase.py\", line 499, in process_one\n",
      "    await dispatch(*args)\n",
      "  File \"/opt/conda/lib/python3.10/site-packages/ipykernel/kernelbase.py\", line 406, in dispatch_shell\n",
      "    await result\n",
      "  File \"/opt/conda/lib/python3.10/site-packages/ipykernel/kernelbase.py\", line 729, in execute_request\n",
      "    reply_content = await reply_content\n",
      "  File \"/opt/conda/lib/python3.10/site-packages/ipykernel/ipkernel.py\", line 411, in do_execute\n",
      "    res = shell.run_cell(\n",
      "  File \"/opt/conda/lib/python3.10/site-packages/ipykernel/zmqshell.py\", line 531, in run_cell\n",
      "    return super().run_cell(*args, **kwargs)\n",
      "  File \"/opt/conda/lib/python3.10/site-packages/IPython/core/interactiveshell.py\", line 2940, in run_cell\n",
      "    result = self._run_cell(\n",
      "  File \"/opt/conda/lib/python3.10/site-packages/IPython/core/interactiveshell.py\", line 2995, in _run_cell\n",
      "    return runner(coro)\n",
      "  File \"/opt/conda/lib/python3.10/site-packages/IPython/core/async_helpers.py\", line 129, in _pseudo_sync_runner\n",
      "    coro.send(None)\n",
      "  File \"/opt/conda/lib/python3.10/site-packages/IPython/core/interactiveshell.py\", line 3194, in run_cell_async\n",
      "    has_raised = await self.run_ast_nodes(code_ast.body, cell_name,\n",
      "  File \"/opt/conda/lib/python3.10/site-packages/IPython/core/interactiveshell.py\", line 3373, in run_ast_nodes\n",
      "    if await self.run_code(code, result, async_=asy):\n",
      "  File \"/opt/conda/lib/python3.10/site-packages/IPython/core/interactiveshell.py\", line 3433, in run_code\n",
      "    exec(code_obj, self.user_global_ns, self.user_ns)\n",
      "  File \"/tmp/ipykernel_4095/795709389.py\", line 1, in <module>\n",
      "    logging.error(\"this is my error\")\n",
      "Message: 'this is my error'\n",
      "Arguments: ()\n",
      "--- Logging error ---\n",
      "Traceback (most recent call last):\n",
      "  File \"/opt/conda/lib/python3.10/logging/__init__.py\", line 440, in format\n",
      "    return self._format(record)\n",
      "  File \"/opt/conda/lib/python3.10/logging/__init__.py\", line 436, in _format\n",
      "    return self._fmt % values\n",
      "KeyError: 'acstime'\n",
      "\n",
      "During handling of the above exception, another exception occurred:\n",
      "\n",
      "Traceback (most recent call last):\n",
      "  File \"/opt/conda/lib/python3.10/logging/__init__.py\", line 1100, in emit\n",
      "    msg = self.format(record)\n",
      "  File \"/opt/conda/lib/python3.10/logging/__init__.py\", line 943, in format\n",
      "    return fmt.format(record)\n",
      "  File \"/opt/conda/lib/python3.10/logging/__init__.py\", line 681, in format\n",
      "    s = self.formatMessage(record)\n",
      "  File \"/opt/conda/lib/python3.10/logging/__init__.py\", line 650, in formatMessage\n",
      "    return self._style.format(record)\n",
      "  File \"/opt/conda/lib/python3.10/logging/__init__.py\", line 442, in format\n",
      "    raise ValueError('Formatting field not found in record: %s' % e)\n",
      "ValueError: Formatting field not found in record: 'acstime'\n",
      "Call stack:\n",
      "  File \"/opt/conda/lib/python3.10/runpy.py\", line 196, in _run_module_as_main\n",
      "    return _run_code(code, main_globals, None,\n",
      "  File \"/opt/conda/lib/python3.10/runpy.py\", line 86, in _run_code\n",
      "    exec(code, run_globals)\n",
      "  File \"/opt/conda/lib/python3.10/site-packages/ipykernel_launcher.py\", line 17, in <module>\n",
      "    app.launch_new_instance()\n",
      "  File \"/opt/conda/lib/python3.10/site-packages/traitlets/config/application.py\", line 992, in launch_instance\n",
      "    app.start()\n",
      "  File \"/opt/conda/lib/python3.10/site-packages/ipykernel/kernelapp.py\", line 711, in start\n",
      "    self.io_loop.start()\n",
      "  File \"/opt/conda/lib/python3.10/site-packages/tornado/platform/asyncio.py\", line 199, in start\n",
      "    self.asyncio_loop.run_forever()\n",
      "  File \"/opt/conda/lib/python3.10/asyncio/base_events.py\", line 603, in run_forever\n",
      "    self._run_once()\n",
      "  File \"/opt/conda/lib/python3.10/asyncio/base_events.py\", line 1899, in _run_once\n",
      "    handle._run()\n",
      "  File \"/opt/conda/lib/python3.10/asyncio/events.py\", line 80, in _run\n",
      "    self._context.run(self._callback, *self._args)\n",
      "  File \"/opt/conda/lib/python3.10/site-packages/ipykernel/kernelbase.py\", line 510, in dispatch_queue\n",
      "    await self.process_one()\n",
      "  File \"/opt/conda/lib/python3.10/site-packages/ipykernel/kernelbase.py\", line 499, in process_one\n",
      "    await dispatch(*args)\n",
      "  File \"/opt/conda/lib/python3.10/site-packages/ipykernel/kernelbase.py\", line 406, in dispatch_shell\n",
      "    await result\n",
      "  File \"/opt/conda/lib/python3.10/site-packages/ipykernel/kernelbase.py\", line 729, in execute_request\n",
      "    reply_content = await reply_content\n",
      "  File \"/opt/conda/lib/python3.10/site-packages/ipykernel/ipkernel.py\", line 411, in do_execute\n",
      "    res = shell.run_cell(\n",
      "  File \"/opt/conda/lib/python3.10/site-packages/ipykernel/zmqshell.py\", line 531, in run_cell\n",
      "    return super().run_cell(*args, **kwargs)\n",
      "  File \"/opt/conda/lib/python3.10/site-packages/IPython/core/interactiveshell.py\", line 2940, in run_cell\n",
      "    result = self._run_cell(\n",
      "  File \"/opt/conda/lib/python3.10/site-packages/IPython/core/interactiveshell.py\", line 2995, in _run_cell\n",
      "    return runner(coro)\n",
      "  File \"/opt/conda/lib/python3.10/site-packages/IPython/core/async_helpers.py\", line 129, in _pseudo_sync_runner\n",
      "    coro.send(None)\n",
      "  File \"/opt/conda/lib/python3.10/site-packages/IPython/core/interactiveshell.py\", line 3194, in run_cell_async\n",
      "    has_raised = await self.run_ast_nodes(code_ast.body, cell_name,\n",
      "  File \"/opt/conda/lib/python3.10/site-packages/IPython/core/interactiveshell.py\", line 3373, in run_ast_nodes\n",
      "    if await self.run_code(code, result, async_=asy):\n",
      "  File \"/opt/conda/lib/python3.10/site-packages/IPython/core/interactiveshell.py\", line 3433, in run_code\n",
      "    exec(code_obj, self.user_global_ns, self.user_ns)\n",
      "  File \"/tmp/ipykernel_4095/795709389.py\", line 2, in <module>\n",
      "    logging.critical(\"thi is my critical msg\")\n",
      "Message: 'thi is my critical msg'\n",
      "Arguments: ()\n"
     ]
    }
   ],
   "source": [
    "logging.error(\"this is my error\")\n",
    "logging.critical(\"thi is my critical msg\")"
   ]
  },
  {
   "cell_type": "code",
   "execution_count": 4,
   "id": "2e571238-9ce5-4f27-94e6-9a5d7847fea1",
   "metadata": {},
   "outputs": [],
   "source": [
    "l=[1,2,3,4,[24,5,6,4,45,3],'sudh','sdf']"
   ]
  },
  {
   "cell_type": "code",
   "execution_count": 10,
   "id": "ddfba6d7-0547-447a-bf2c-cc6ee6991fed",
   "metadata": {},
   "outputs": [],
   "source": [
    "l1_int =[]\n",
    "l2_str=[]\n",
    "for i in l:\n",
    "    if type(i)==list:\n",
    "        \n",
    "        for j in i:\n",
    "            if type(j)==int:\n",
    "                l1_int.append(j)\n",
    "    elif type(i)==int:\n",
    "        l1_int.append(i)\n",
    "    else:\n",
    "        if type(i)==str:\n",
    "            l2_str.append(i)\n",
    "            "
   ]
  },
  {
   "cell_type": "code",
   "execution_count": 11,
   "id": "2287a497-8fc0-4523-98c9-81a9f0fb69ea",
   "metadata": {},
   "outputs": [
    {
     "data": {
      "text/plain": [
       "[1, 2, 3, 4, 24, 5, 6, 4, 45, 3]"
      ]
     },
     "execution_count": 11,
     "metadata": {},
     "output_type": "execute_result"
    }
   ],
   "source": [
    "l1_int"
   ]
  },
  {
   "cell_type": "code",
   "execution_count": 8,
   "id": "6ee4754b-2431-4841-92ac-0ce1afcadaf4",
   "metadata": {},
   "outputs": [
    {
     "data": {
      "text/plain": [
       "['sudh', 'sdf']"
      ]
     },
     "execution_count": 8,
     "metadata": {},
     "output_type": "execute_result"
    }
   ],
   "source": [
    "l2_str"
   ]
  },
  {
   "cell_type": "code",
   "execution_count": null,
   "id": "7d62d72e-4793-47d9-bd23-cb2d2f8a7986",
   "metadata": {},
   "outputs": [],
   "source": []
  }
 ],
 "metadata": {
  "kernelspec": {
   "display_name": "Python 3 (ipykernel)",
   "language": "python",
   "name": "python3"
  },
  "language_info": {
   "codemirror_mode": {
    "name": "ipython",
    "version": 3
   },
   "file_extension": ".py",
   "mimetype": "text/x-python",
   "name": "python",
   "nbconvert_exporter": "python",
   "pygments_lexer": "ipython3",
   "version": "3.10.8"
  }
 },
 "nbformat": 4,
 "nbformat_minor": 5
}
