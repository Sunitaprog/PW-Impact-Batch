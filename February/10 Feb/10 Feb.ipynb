{
 "cells": [
  {
   "cell_type": "markdown",
   "id": "ae26567f-b1e4-451d-b83c-ca643f7ae6fd",
   "metadata": {},
   "source": [
    "Q1. Which function is used to open a file? What are the different modes of opening a file? Explain each mode of file opening.\n",
    "Ans. open() builtin function is used to open files.\n",
    "\n",
    "Different modes of file opening:\n",
    "\n",
    "Character\tMeaning\n",
    "'r'\topen for reading (default)\n",
    "'w'\topen for writing, truncating the file first\n",
    "'x'\tcreate a new file and open it for writing\n",
    "'a'\topen for writing, appending to the end of the file if it exists\n",
    "'b'\tbinary mode\n",
    "'t'\ttext mode (default)\n",
    "'+'\topen a disk file for updating (reading and writing)"
   ]
  },
  {
   "cell_type": "markdown",
   "id": "9d20ba28-d150-4368-abf6-a730e78f4c2c",
   "metadata": {},
   "source": [
    "Q2. Why close() function is used? Why is it important to close a file?\n",
    "Ans. close() funtion is used to close the opened file.\n",
    "\n",
    "Due to opened in whole program it can get corruput for some reason.\n",
    "Opened files occupies memory in RAM."
   ]
  },
  {
   "cell_type": "markdown",
   "id": "96e9c01f-b43c-4594-b75b-90ae9d786637",
   "metadata": {},
   "source": [
    "Q3. Write a python program to create a text file. Write ‘I want to become a Data Scientist’ in that file. Then close the file. Open this file and read the content of the file."
   ]
  },
  {
   "cell_type": "code",
   "execution_count": 1,
   "id": "f90a97be-27d2-45a5-9132-f1db65acaea2",
   "metadata": {},
   "outputs": [],
   "source": [
    "q3 = open('Q3.txt', 'w')\n",
    "\n",
    "q3.write('I want to beacome a Data Scientist.')\n",
    "\n",
    "q3.close()"
   ]
  },
  {
   "cell_type": "code",
   "execution_count": 2,
   "id": "dfe3a413-fe29-44c6-9a02-25ad07892262",
   "metadata": {},
   "outputs": [
    {
     "name": "stdout",
     "output_type": "stream",
     "text": [
      "I want to beacome a Data Scientist.\n"
     ]
    }
   ],
   "source": [
    "q3 = open('Q3.txt', 'r')\n",
    "\n",
    "print(q3.read())\n",
    "\n",
    "q3.close()"
   ]
  },
  {
   "cell_type": "markdown",
   "id": "3864d870-be94-4847-99cb-6ae14dbdc238",
   "metadata": {},
   "source": [
    "Q4. Explain the following with python code: read(), readline() and readlines()."
   ]
  },
  {
   "cell_type": "code",
   "execution_count": 3,
   "id": "3219a3e0-78fe-4d98-b012-9bb4241236e2",
   "metadata": {},
   "outputs": [],
   "source": [
    "with open('Q4.txt', 'w') as q4:\n",
    "    write = ['I am Anshul Raj Verma.\\n', 'This second line.\\n', 'This is third line.\\n', 'This is fourth line.\\n']\n",
    "\n",
    "    q4.writelines(write)"
   ]
  },
  {
   "cell_type": "code",
   "execution_count": 4,
   "id": "4e454591-642e-4455-8ecc-739aa07ed7cb",
   "metadata": {},
   "outputs": [
    {
     "name": "stdout",
     "output_type": "stream",
     "text": [
      "I am Anshul Raj Verma.\n",
      "This second line.\n",
      "This is third line.\n",
      "This is fourth line.\n",
      "\n"
     ]
    }
   ],
   "source": [
    "with open('Q4.txt', 'r') as q4:\n",
    "    print(q4.read())"
   ]
  },
  {
   "cell_type": "code",
   "execution_count": 5,
   "id": "9b49e105-9bdb-41eb-ace9-a50088114659",
   "metadata": {},
   "outputs": [
    {
     "name": "stdout",
     "output_type": "stream",
     "text": [
      "['I am Anshul Raj Verma.\\n', 'This second line.\\n', 'This is third line.\\n', 'This is fourth line.\\n']\n"
     ]
    }
   ],
   "source": [
    "with open('Q4.txt', 'r') as q4:\n",
    "    print(q4.readlines()) "
   ]
  },
  {
   "cell_type": "code",
   "execution_count": 6,
   "id": "66be6bd5-2d50-4aef-81e2-6dfff506924c",
   "metadata": {},
   "outputs": [
    {
     "name": "stdout",
     "output_type": "stream",
     "text": [
      "I am Anshul Raj Verma.\n",
      "This second line.\n",
      "This is third line.\n"
     ]
    }
   ],
   "source": [
    "with open('Q4.txt', 'r') as q4:\n",
    "    print(q4.readline(), end='')    # Read one line at a time of the file and returns it.\n",
    "    print(q4.readline(), end='')\n",
    "    print(q4.readline(), end='')"
   ]
  },
  {
   "cell_type": "markdown",
   "id": "a9d0680c-0f86-497c-9ea4-3def042e526d",
   "metadata": {},
   "source": [
    "Q5. Explain why with statement is used with open(). What is the advantage of using with statement and open() together?"
   ]
  },
  {
   "cell_type": "markdown",
   "id": "69c728af-0de9-4bfd-a683-7fd38631afd5",
   "metadata": {},
   "source": [
    "Ans. with keyword is used as context manager with open() function. It is use because with statement close the file when the program context ends.\n",
    "\n",
    "It reduce the file corruption chances. And make the programmer tension free to check wheher the file colses in the program or not."
   ]
  },
  {
   "cell_type": "markdown",
   "id": "a292a3c1-2b6f-4fad-9047-64aa5c5613d1",
   "metadata": {},
   "source": [
    "Q6. Explain the write() and writelines() functions. Give a suitable example."
   ]
  },
  {
   "cell_type": "code",
   "execution_count": 7,
   "id": "08656473-1305-4fa9-95cb-9b45f63c98c7",
   "metadata": {},
   "outputs": [
    {
     "ename": "NameError",
     "evalue": "name 'lines' is not defined",
     "output_type": "error",
     "traceback": [
      "\u001b[0;31m---------------------------------------------------------------------------\u001b[0m",
      "\u001b[0;31mNameError\u001b[0m                                 Traceback (most recent call last)",
      "Cell \u001b[0;32mIn[7], line 3\u001b[0m\n\u001b[1;32m      1\u001b[0m ines \u001b[38;5;241m=\u001b[39m [\u001b[38;5;124m'\u001b[39m\u001b[38;5;124mLine1\u001b[39m\u001b[38;5;130;01m\\n\u001b[39;00m\u001b[38;5;124m'\u001b[39m, \u001b[38;5;124m'\u001b[39m\u001b[38;5;124mline2\u001b[39m\u001b[38;5;130;01m\\n\u001b[39;00m\u001b[38;5;124m'\u001b[39m, \u001b[38;5;124m'\u001b[39m\u001b[38;5;124mline3\u001b[39m\u001b[38;5;130;01m\\n\u001b[39;00m\u001b[38;5;124m'\u001b[39m, \u001b[38;5;124m'\u001b[39m\u001b[38;5;124mline4\u001b[39m\u001b[38;5;130;01m\\n\u001b[39;00m\u001b[38;5;124m'\u001b[39m]\n\u001b[1;32m      2\u001b[0m \u001b[38;5;28;01mwith\u001b[39;00m \u001b[38;5;28mopen\u001b[39m(\u001b[38;5;124m'\u001b[39m\u001b[38;5;124mQ5.txt\u001b[39m\u001b[38;5;124m'\u001b[39m, \u001b[38;5;124m'\u001b[39m\u001b[38;5;124mw\u001b[39m\u001b[38;5;124m'\u001b[39m) \u001b[38;5;28;01mas\u001b[39;00m q5:\n\u001b[0;32m----> 3\u001b[0m     \u001b[38;5;28;01mfor\u001b[39;00m i \u001b[38;5;129;01min\u001b[39;00m \u001b[43mlines\u001b[49m:\n\u001b[1;32m      4\u001b[0m         q5\u001b[38;5;241m.\u001b[39mwrite(i)\n",
      "\u001b[0;31mNameError\u001b[0m: name 'lines' is not defined"
     ]
    }
   ],
   "source": [
    "ines = ['Line1\\n', 'line2\\n', 'line3\\n', 'line4\\n']\n",
    "with open('Q5.txt', 'w') as q5:\n",
    "    for i in lines:\n",
    "        q5.write(i)"
   ]
  },
  {
   "cell_type": "code",
   "execution_count": null,
   "id": "5c948447-b44f-4e8d-bbbb-3c6dfcda7461",
   "metadata": {},
   "outputs": [],
   "source": []
  },
  {
   "cell_type": "code",
   "execution_count": null,
   "id": "8432ef96-9b74-4cc5-b367-d27278745e1a",
   "metadata": {},
   "outputs": [],
   "source": []
  }
 ],
 "metadata": {
  "kernelspec": {
   "display_name": "Python 3 (ipykernel)",
   "language": "python",
   "name": "python3"
  },
  "language_info": {
   "codemirror_mode": {
    "name": "ipython",
    "version": 3
   },
   "file_extension": ".py",
   "mimetype": "text/x-python",
   "name": "python",
   "nbconvert_exporter": "python",
   "pygments_lexer": "ipython3",
   "version": "3.10.8"
  }
 },
 "nbformat": 4,
 "nbformat_minor": 5
}
