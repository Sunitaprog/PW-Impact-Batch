{
 "cells": [
  {
   "cell_type": "code",
   "execution_count": null,
   "id": "74df7f52-83ca-4a88-8012-799ec3972e2b",
   "metadata": {},
   "outputs": [],
   "source": [
    "a=1"
   ]
  },
  {
   "cell_type": "code",
   "execution_count": null,
   "id": "3569351d-e754-4172-a776-7e5bbfbb5bcf",
   "metadata": {},
   "outputs": [],
   "source": [
    "print(type(a))"
   ]
  },
  {
   "cell_type": "code",
   "execution_count": null,
   "id": "f017bace-f32b-4989-8f85-521159c312ba",
   "metadata": {},
   "outputs": [],
   "source": [
    "print(type(\"pwskills\"))"
   ]
  },
  {
   "cell_type": "code",
   "execution_count": null,
   "id": "ceeed399-9917-47fe-8301-58fa80950d89",
   "metadata": {},
   "outputs": [],
   "source": [
    "class test:\n",
    "    pass"
   ]
  },
  {
   "cell_type": "code",
   "execution_count": null,
   "id": "efbdfa3c-fe02-4262-b28d-ffa1a3dbff55",
   "metadata": {},
   "outputs": [],
   "source": [
    "a=test()"
   ]
  },
  {
   "cell_type": "code",
   "execution_count": null,
   "id": "a0c56cb1-2c3c-4916-8c67-106e58cf5e12",
   "metadata": {},
   "outputs": [],
   "source": [
    "type(a)"
   ]
  },
  {
   "cell_type": "code",
   "execution_count": null,
   "id": "77e1f6ad-e605-45fa-9687-4e38b7118525",
   "metadata": {},
   "outputs": [],
   "source": [
    "class pwskills:\n",
    "    def welcome_msg(self):\n",
    "        print(\"welcome to pwskills\")\n",
    "    "
   ]
  },
  {
   "cell_type": "code",
   "execution_count": null,
   "id": "d5969cb8-c673-4d14-8362-bb7828e8e103",
   "metadata": {},
   "outputs": [],
   "source": [
    "rohan =pwskills()"
   ]
  },
  {
   "cell_type": "code",
   "execution_count": null,
   "id": "b429ca8c-abb7-4136-a0d4-1dd68ad22455",
   "metadata": {},
   "outputs": [],
   "source": [
    "print(type(rohan))"
   ]
  },
  {
   "cell_type": "code",
   "execution_count": null,
   "id": "50aacea5-413b-4f1b-a9e0-9fe8a8429f6f",
   "metadata": {},
   "outputs": [],
   "source": [
    "rohan.welcome_msg()"
   ]
  },
  {
   "cell_type": "code",
   "execution_count": null,
   "id": "832fa611-19f1-47e1-a01f-341bb63ce9e1",
   "metadata": {},
   "outputs": [],
   "source": [
    "sunita=pwskills()"
   ]
  },
  {
   "cell_type": "code",
   "execution_count": null,
   "id": "ace12b2f-139f-4a11-97d6-22a16ebf5f07",
   "metadata": {},
   "outputs": [],
   "source": [
    "sunita.welcome_msg()"
   ]
  },
  {
   "cell_type": "code",
   "execution_count": null,
   "id": "dfa0911d-aa76-4efc-905d-04954e1c4400",
   "metadata": {},
   "outputs": [],
   "source": [
    "class pwskills1:\n",
    "    def __init__(self , phone_no , email_id , std_id):\n",
    "        self.phone_no = phone_no\n",
    "        self.email_id= email_id\n",
    "        self.std_id = std_id\n",
    "    def return_std(self):\n",
    "        return self.std_id , self.phone_no , self.email_id"
   ]
  },
  {
   "cell_type": "code",
   "execution_count": null,
   "id": "8b9e3ca1-9170-4201-aefb-1cc37b9d4dcc",
   "metadata": {},
   "outputs": [],
   "source": [
    "rohan =pwskills1()"
   ]
  },
  {
   "cell_type": "code",
   "execution_count": null,
   "id": "cccc67ff-0b2b-4116-9524-0eebb49e50b4",
   "metadata": {},
   "outputs": [],
   "source": [
    "rohan =pwskills1(1234567,\"dewsg@\", 101)"
   ]
  },
  {
   "cell_type": "code",
   "execution_count": null,
   "id": "0ad998dc-2524-4379-906b-a038774332c4",
   "metadata": {},
   "outputs": [],
   "source": [
    "rohan.email_id"
   ]
  },
  {
   "cell_type": "code",
   "execution_count": null,
   "id": "4c9c8161-cec5-45dc-975e-e01f869dfb8e",
   "metadata": {},
   "outputs": [],
   "source": [
    "rohan.phone_no"
   ]
  },
  {
   "cell_type": "code",
   "execution_count": null,
   "id": "6fa45998-c237-4901-9886-c0178f5ee68f",
   "metadata": {},
   "outputs": [],
   "source": [
    "rohan.return_std()"
   ]
  },
  {
   "cell_type": "code",
   "execution_count": null,
   "id": "9bc51194-083c-4728-b011-f952e7d1d93c",
   "metadata": {},
   "outputs": [],
   "source": [
    "sunita = pwskills1(12345678,'sunita@',102)"
   ]
  },
  {
   "cell_type": "code",
   "execution_count": null,
   "id": "d61f15ad-1267-4927-a37e-d1721de88cb7",
   "metadata": {},
   "outputs": [],
   "source": [
    "sunita.return_std()"
   ]
  },
  {
   "cell_type": "code",
   "execution_count": null,
   "id": "c55c5afe-2b68-4519-a69c-7f23156bfc4c",
   "metadata": {},
   "outputs": [],
   "source": [
    "class pwskills2:\n",
    "    def __init__(self , phone_no , email_id , std_id):\n",
    "        self.phone_no1 = phone_no\n",
    "        self.email_id1= email_id\n",
    "        self.std_id1 = std_id\n",
    "    def return_std(self):\n",
    "        return self.std_id1 , self.phone_no1 , self.email_id1"
   ]
  },
  {
   "cell_type": "code",
   "execution_count": null,
   "id": "0d5e36b6-1a9b-43a5-ab26-045a83d04839",
   "metadata": {},
   "outputs": [],
   "source": [
    "sudh = pwskills2(554264245,'sudh@',102)"
   ]
  },
  {
   "cell_type": "code",
   "execution_count": null,
   "id": "4bbc62a5-9208-4cf5-b8f5-46109d893293",
   "metadata": {},
   "outputs": [],
   "source": [
    "sudh.phone_no1"
   ]
  },
  {
   "cell_type": "code",
   "execution_count": null,
   "id": "b0e7947d-6c7a-4c05-b731-324bc4119ac2",
   "metadata": {},
   "outputs": [],
   "source": [
    "sudh.return_std()"
   ]
  },
  {
   "cell_type": "code",
   "execution_count": null,
   "id": "0a95fa3f-432a-4a73-bf61-59ae8785fad5",
   "metadata": {},
   "outputs": [],
   "source": [
    "class pwskills2:\n",
    "    def __init__(sudh , phone_no , email_id , std_id):\n",
    "        sudh.phone_no1 = phone_no\n",
    "        sudh.email_id1= email_id\n",
    "        sudh.std_id1 = std_id\n",
    "    def return_std(self):\n",
    "        return sudh.std_id1 , sudh.phone_no1 , sudh.email_id1"
   ]
  },
  {
   "cell_type": "code",
   "execution_count": null,
   "id": "4977a467-0006-4e56-8db4-c9ab27bba03d",
   "metadata": {},
   "outputs": [],
   "source": [
    "rohan =pwskills2(123345,'sdf@',102)"
   ]
  },
  {
   "cell_type": "code",
   "execution_count": null,
   "id": "722a9fa8-3893-4b13-94ea-54e61c18ebc7",
   "metadata": {},
   "outputs": [],
   "source": [
    "rohan.phone_no1"
   ]
  },
  {
   "cell_type": "code",
   "execution_count": null,
   "id": "48a766c6-149b-4f9c-b424-d0ca18d4be0d",
   "metadata": {},
   "outputs": [],
   "source": [
    "def test(a , b):\n",
    "    return a+b"
   ]
  },
  {
   "cell_type": "code",
   "execution_count": null,
   "id": "127b569c-ac72-46d0-834a-b1d5ad622437",
   "metadata": {},
   "outputs": [],
   "source": [
    "test (3,4)"
   ]
  },
  {
   "cell_type": "code",
   "execution_count": null,
   "id": "761549ba-abff-4731-8906-7fc543dde68a",
   "metadata": {},
   "outputs": [],
   "source": [
    "test(\"sunita \" , \"deswal\")"
   ]
  },
  {
   "cell_type": "code",
   "execution_count": null,
   "id": "c0393b0a-223c-4e2f-b8a3-499afab6578e",
   "metadata": {},
   "outputs": [],
   "source": [
    "test([1,2,3,4],[4,5,6,7])"
   ]
  },
  {
   "cell_type": "code",
   "execution_count": null,
   "id": "813783a0-af13-4e7c-b3a1-f35ee1c58bee",
   "metadata": {},
   "outputs": [],
   "source": [
    "# Polymorphism\n",
    "class data_science:\n",
    "    \n",
    "    def syllabus(self):\n",
    "        print(\"this is my syllabus \")\n",
    "        "
   ]
  },
  {
   "cell_type": "code",
   "execution_count": null,
   "id": "ef3c4bd5-702a-45e6-ace9-523e06256ed4",
   "metadata": {},
   "outputs": [],
   "source": [
    "class web_dev:\n",
    "    \n",
    "    def syllabus(self):\n",
    "        print (\"this is my syllabus\")"
   ]
  },
  {
   "cell_type": "code",
   "execution_count": null,
   "id": "9c2e847d-00f6-4b40-a09f-7ae29c3e9e8f",
   "metadata": {},
   "outputs": [],
   "source": [
    "def class_pracer(class_obj):\n",
    "    for i in  class_obj:\n",
    "        i.syllabus()"
   ]
  },
  {
   "cell_type": "code",
   "execution_count": null,
   "id": "90ad1b72-381f-43c5-9e2b-d6045608326c",
   "metadata": {},
   "outputs": [],
   "source": [
    "data_science=data_science()"
   ]
  },
  {
   "cell_type": "code",
   "execution_count": null,
   "id": "cdb25379-b33c-45fd-b7c6-6dab4b111417",
   "metadata": {},
   "outputs": [],
   "source": [
    "web_dev=web_dev()"
   ]
  },
  {
   "cell_type": "code",
   "execution_count": null,
   "id": "5b2c4675-980b-4776-89fd-452061bedd41",
   "metadata": {},
   "outputs": [],
   "source": [
    "class_obj=[data_science,web_dev]"
   ]
  },
  {
   "cell_type": "code",
   "execution_count": null,
   "id": "35137091-8de5-4c54-96a9-c18e74aae494",
   "metadata": {},
   "outputs": [],
   "source": [
    "class_pracer(class_obj)"
   ]
  },
  {
   "cell_type": "code",
   "execution_count": null,
   "id": "da200f81-efb1-4e11-a2b8-75fba08a4952",
   "metadata": {},
   "outputs": [],
   "source": [
    "# Encapsulation\n",
    "\n",
    "class test:\n",
    "    def __init__(self,a,b):\n",
    "        self.a=a\n",
    "        self.b=b"
   ]
  },
  {
   "cell_type": "code",
   "execution_count": null,
   "id": "8610d7d0-7def-4d90-9bdd-be8ae97f49c6",
   "metadata": {},
   "outputs": [],
   "source": [
    "t=test(23,24)"
   ]
  },
  {
   "cell_type": "code",
   "execution_count": null,
   "id": "935360a1-7ebf-40d7-a5c8-901f089911ea",
   "metadata": {},
   "outputs": [],
   "source": [
    "t.a=2345"
   ]
  },
  {
   "cell_type": "code",
   "execution_count": null,
   "id": "381455d9-5ed0-4460-bfaf-54b59c1503f3",
   "metadata": {},
   "outputs": [],
   "source": [
    "t.a"
   ]
  },
  {
   "cell_type": "code",
   "execution_count": null,
   "id": "f20b2234-d02c-4fb8-9d38-0e0473194f19",
   "metadata": {},
   "outputs": [],
   "source": [
    "class car:\n",
    "    def __init__(self,year,make,model,speed):\n",
    "        \n",
    "        self.__year =year  #__ private a data\n",
    "        self.__make =make\n",
    "        self.__model =model\n",
    "        self.__speed=0\n",
    "        \n",
    "    def set_speed(self,speed):\n",
    "        self.__speed = 0 if speed<0 else speed\n",
    "    \n",
    "    def get_speed(self):\n",
    "        return self.__speed"
   ]
  },
  {
   "cell_type": "code",
   "execution_count": null,
   "id": "bad01c6c-c769-4d62-b9a5-5f279877eb40",
   "metadata": {},
   "outputs": [],
   "source": [
    "c=car(2021,\"toyata\",\"innova\",12)"
   ]
  },
  {
   "cell_type": "code",
   "execution_count": null,
   "id": "afcb7e40-79c8-4a76-a5ce-c58a2adf49d7",
   "metadata": {},
   "outputs": [],
   "source": [
    "c._car__year"
   ]
  },
  {
   "cell_type": "code",
   "execution_count": null,
   "id": "dfd3c0ce-edf9-4812-9c2f-279c7fcc07e3",
   "metadata": {},
   "outputs": [],
   "source": [
    "c._car__make"
   ]
  },
  {
   "cell_type": "code",
   "execution_count": null,
   "id": "c3508708-02f8-4544-8e4a-5a0948e7f717",
   "metadata": {},
   "outputs": [],
   "source": [
    "c.get_speed()"
   ]
  },
  {
   "cell_type": "code",
   "execution_count": null,
   "id": "1f36c710-95b5-4b58-bd11-56f009ac5f7a",
   "metadata": {},
   "outputs": [],
   "source": [
    "c.set_speed(-234)"
   ]
  },
  {
   "cell_type": "code",
   "execution_count": null,
   "id": "10bb7244-addc-42be-a369-1f9c273878ec",
   "metadata": {},
   "outputs": [],
   "source": [
    "c.set_speed(234)"
   ]
  },
  {
   "cell_type": "code",
   "execution_count": null,
   "id": "b61cc4d8-a831-45b7-b478-e42b6be3bcad",
   "metadata": {},
   "outputs": [],
   "source": [
    "c.get_speed()"
   ]
  },
  {
   "cell_type": "code",
   "execution_count": null,
   "id": "a071dae1-e6fb-4b10-a3da-81601d918b0c",
   "metadata": {},
   "outputs": [],
   "source": [
    "class bank_account :\n",
    "    \n",
    "    def __init__(self , balance):\n",
    "        self.__balanace =balance\n",
    "        \n",
    "    def deposit(self , amount):\n",
    "        self.__balanace =self.__balanace+amount\n",
    "        \n",
    "    def withdraw(self ,amount):\n",
    "        if self.__balanace >= amount:\n",
    "            self.__balanace=self.__balanace - amount\n",
    "            return True\n",
    "        else:\n",
    "            return False\n",
    "        \n",
    "    def get_banalnce(self):\n",
    "        return self.__balanace\n",
    "            \n",
    "        "
   ]
  },
  {
   "cell_type": "code",
   "execution_count": null,
   "id": "92f3d2b6-7457-4ed8-abdf-efa88522ef8f",
   "metadata": {},
   "outputs": [],
   "source": [
    "sunita=bank_account(1000)"
   ]
  },
  {
   "cell_type": "code",
   "execution_count": null,
   "id": "b6359059-3a21-4fce-8d5d-a8c92cbe715c",
   "metadata": {},
   "outputs": [],
   "source": [
    "sunita.get_banalnce()"
   ]
  },
  {
   "cell_type": "code",
   "execution_count": null,
   "id": "ffe2c541-5f6c-4e74-9df6-81642f466821",
   "metadata": {},
   "outputs": [],
   "source": [
    "sunita.deposit(5000)"
   ]
  },
  {
   "cell_type": "code",
   "execution_count": null,
   "id": "84b42df6-c383-49d0-88b4-a4f7ff4d302e",
   "metadata": {},
   "outputs": [],
   "source": [
    "sunita.get_banalnce()"
   ]
  },
  {
   "cell_type": "code",
   "execution_count": null,
   "id": "1b84db8b-a785-459f-bf48-74554abea74e",
   "metadata": {},
   "outputs": [],
   "source": [
    "sunita.withdraw(7000)"
   ]
  },
  {
   "cell_type": "code",
   "execution_count": null,
   "id": "8046d312-cc3b-4504-9f54-772e9ce7b298",
   "metadata": {},
   "outputs": [],
   "source": [
    "sunita.withdraw(2000)"
   ]
  },
  {
   "cell_type": "code",
   "execution_count": null,
   "id": "0347fe1e-178c-4b74-bfe4-25340ebc20ac",
   "metadata": {},
   "outputs": [],
   "source": [
    "sunita.get_banalnce()"
   ]
  },
  {
   "cell_type": "code",
   "execution_count": null,
   "id": "628c37f2-b882-48eb-83c0-b7c353f68446",
   "metadata": {},
   "outputs": [],
   "source": [
    "### inheritance\n",
    "\n",
    "class test:\n",
    "    \n",
    "    def test_math(self):\n",
    "        return(\"this is my first class\")\n",
    "    "
   ]
  },
  {
   "cell_type": "code",
   "execution_count": null,
   "id": "a7ac5c44-d031-4c4a-8f7c-9a55bdc3efc8",
   "metadata": {},
   "outputs": [],
   "source": [
    "class child_test(test):\n",
    "    pass"
   ]
  },
  {
   "cell_type": "code",
   "execution_count": null,
   "id": "3e9946ee-8d13-41b6-9d6b-ab02c6812522",
   "metadata": {},
   "outputs": [],
   "source": [
    "child_test_obj=child_test()"
   ]
  },
  {
   "cell_type": "code",
   "execution_count": null,
   "id": "9d43bcd5-da6d-418e-8f88-6b586b36af66",
   "metadata": {},
   "outputs": [],
   "source": [
    "child_test_obj.test_math()"
   ]
  },
  {
   "cell_type": "code",
   "execution_count": null,
   "id": "b9bb9bfb-c5ef-43ab-8bfe-8704ffdfa459",
   "metadata": {},
   "outputs": [],
   "source": [
    "class class1:\n",
    "     def test_class1(self):\n",
    "            return 'this is a math from class1'\n",
    "        \n",
    "        "
   ]
  },
  {
   "cell_type": "code",
   "execution_count": null,
   "id": "10b18d11-5eef-424b-8cdb-6fa599b731cb",
   "metadata": {},
   "outputs": [],
   "source": [
    "class class2(class1):\n",
    "    \n",
    "    def test_class2(self):\n",
    "        return 'this is a method from class2'\n",
    "    "
   ]
  },
  {
   "cell_type": "code",
   "execution_count": null,
   "id": "9cef4b0a-141f-43d0-aace-78f84381f178",
   "metadata": {},
   "outputs": [],
   "source": [
    "class class3(class2):\n",
    "    pass"
   ]
  },
  {
   "cell_type": "code",
   "execution_count": null,
   "id": "2bea2549-4860-4dd2-bcf3-9d70d95e5e56",
   "metadata": {},
   "outputs": [],
   "source": [
    "obj_class3=class3()"
   ]
  },
  {
   "cell_type": "code",
   "execution_count": null,
   "id": "9fce607b-3cc4-433b-9368-cc56630eb58f",
   "metadata": {},
   "outputs": [],
   "source": [
    "obj_class3.test_class1()"
   ]
  },
  {
   "cell_type": "code",
   "execution_count": null,
   "id": "e30568bc-3e39-40ed-bb9d-098b095d5df0",
   "metadata": {},
   "outputs": [],
   "source": [
    "obj_class3.test_class2()"
   ]
  },
  {
   "cell_type": "code",
   "execution_count": null,
   "id": "dc9108dd-6c1b-4b2a-af63-4c5254f557d6",
   "metadata": {},
   "outputs": [],
   "source": [
    "class class1:\n",
    "    \n",
    "     def test_class1(self):\n",
    "            return 'this is a method from class1'"
   ]
  },
  {
   "cell_type": "code",
   "execution_count": null,
   "id": "bbfab05a-76ec-45f4-b078-fd5285a61ef3",
   "metadata": {},
   "outputs": [],
   "source": [
    "class class2:\n",
    "    def test_class2(self):\n",
    "            return 'this is a method from class2'\n",
    "        "
   ]
  },
  {
   "cell_type": "code",
   "execution_count": null,
   "id": "e8671a01-ccb8-45c7-a565-8b0a39e0fbb5",
   "metadata": {},
   "outputs": [],
   "source": [
    "class class3(class1 ,class2):\n",
    "    pass"
   ]
  },
  {
   "cell_type": "code",
   "execution_count": null,
   "id": "d115d9bd-bc1f-4674-af30-65dc853726b5",
   "metadata": {},
   "outputs": [],
   "source": [
    "obj_class3 =class3()"
   ]
  },
  {
   "cell_type": "code",
   "execution_count": null,
   "id": "7132ae9d-15d9-4d3f-b0b0-f40e2c3b0f7d",
   "metadata": {},
   "outputs": [],
   "source": [
    "obj_class3.test_class1()"
   ]
  },
  {
   "cell_type": "code",
   "execution_count": null,
   "id": "8c5f3a79-edbb-4561-b4bb-2ccc3346ce8c",
   "metadata": {},
   "outputs": [],
   "source": [
    "obj_class3.test_class2()"
   ]
  },
  {
   "cell_type": "code",
   "execution_count": null,
   "id": "429fef76-21fd-45fe-89fa-98c080c41114",
   "metadata": {},
   "outputs": [],
   "source": [
    "###Decorator\n",
    "\n",
    "def test():\n",
    "    print(\"this is my function start\")\n",
    "    print(\"this is my function test\")\n",
    "    print(4+5)\n",
    "    print(\"this is my function end\")"
   ]
  },
  {
   "cell_type": "code",
   "execution_count": null,
   "id": "0498c714-5731-4321-8adf-b8eaa0ba2d5c",
   "metadata": {},
   "outputs": [],
   "source": [
    "test()"
   ]
  },
  {
   "cell_type": "code",
   "execution_count": null,
   "id": "e178dfe4-c739-47c1-b08c-e2e3f6dca96f",
   "metadata": {},
   "outputs": [],
   "source": [
    "def deco(func):\n",
    "    def inner_dec():\n",
    "        print(\"this is my function start\")\n",
    "        func()\n",
    "        print(\"this is my function end\")\n",
    "    return inner_dec\n",
    "        "
   ]
  },
  {
   "cell_type": "code",
   "execution_count": null,
   "id": "0e58cf7a-e93b-4f7c-b4d9-230745b9528b",
   "metadata": {},
   "outputs": [],
   "source": [
    "@deco\n",
    "def test1():\n",
    "    print(6+7)"
   ]
  },
  {
   "cell_type": "code",
   "execution_count": null,
   "id": "4139bd1f-d5a4-4878-a52f-30867655b4f7",
   "metadata": {},
   "outputs": [],
   "source": [
    "test1()"
   ]
  },
  {
   "cell_type": "code",
   "execution_count": null,
   "id": "1d42beae-5d05-4157-a4b5-f8bdbff82064",
   "metadata": {},
   "outputs": [],
   "source": [
    "import time\n",
    "def timer_test(func):\n",
    "    def time_test_inner():\n",
    "        start=time.time()\n",
    "        func()\n",
    "        end=time.time()\n",
    "        print(end-start)\n",
    "    return time_test_inner"
   ]
  },
  {
   "cell_type": "code",
   "execution_count": null,
   "id": "f56f8743-31a9-42d9-bdf3-15c3950c54ce",
   "metadata": {},
   "outputs": [],
   "source": [
    "def test2():\n",
    "    print(45+70)"
   ]
  },
  {
   "cell_type": "code",
   "execution_count": null,
   "id": "da0da80e-1cc1-49e1-a243-dbb3876d3dbd",
   "metadata": {},
   "outputs": [],
   "source": [
    "test2()"
   ]
  },
  {
   "cell_type": "code",
   "execution_count": null,
   "id": "95d71ac0-3382-4f11-804d-23e8577dae21",
   "metadata": {},
   "outputs": [],
   "source": [
    "@timer_test\n",
    "def test2():\n",
    "    print(23+45)\n"
   ]
  },
  {
   "cell_type": "code",
   "execution_count": null,
   "id": "b0443067-e1be-49c9-b6e2-2a3dfbc3d56a",
   "metadata": {},
   "outputs": [],
   "source": [
    "test2()"
   ]
  },
  {
   "cell_type": "code",
   "execution_count": null,
   "id": "7b2b1ddb-eb54-4b14-a697-37a3f57b9836",
   "metadata": {},
   "outputs": [],
   "source": [
    "@timer_test\n",
    "def test():\n",
    "    for i in range (100000):\n",
    "        pass"
   ]
  },
  {
   "cell_type": "code",
   "execution_count": null,
   "id": "e8409462-5d27-4440-8469-09191ccae6d4",
   "metadata": {},
   "outputs": [],
   "source": [
    "test()"
   ]
  },
  {
   "cell_type": "code",
   "execution_count": null,
   "id": "b7917bec-0ed6-4c2a-9251-da3ae9a592f9",
   "metadata": {},
   "outputs": [],
   "source": [
    "###class method\n",
    "\n",
    "\n",
    "class pwskills:\n",
    "     def __init__(self,name,email):\n",
    "        \n",
    "            self.name=name\n",
    "            self.email=email\n",
    "    \n",
    "    \n",
    "     def students_details(self):\n",
    "        print(self.name,self.email)\n"
   ]
  },
  {
   "cell_type": "code",
   "execution_count": null,
   "id": "414d1b22-af40-4d89-a5e6-a9752fa3fe4e",
   "metadata": {},
   "outputs": [],
   "source": [
    "pw=pwskills(\"mohan\",\"sunita@\")"
   ]
  },
  {
   "cell_type": "code",
   "execution_count": null,
   "id": "ce8f23d6-70a7-49f2-a08e-8f44d9160d81",
   "metadata": {},
   "outputs": [],
   "source": [
    "pw.name"
   ]
  },
  {
   "cell_type": "code",
   "execution_count": null,
   "id": "a224c145-2b4c-4401-a7ef-840baed63f13",
   "metadata": {},
   "outputs": [],
   "source": [
    "pw.email"
   ]
  },
  {
   "cell_type": "code",
   "execution_count": null,
   "id": "258cd056-f32d-4aa5-bcc3-d8fc134fd14c",
   "metadata": {},
   "outputs": [],
   "source": [
    "pw.students_details()"
   ]
  },
  {
   "cell_type": "code",
   "execution_count": null,
   "id": "177b08bb-7a28-429b-8e90-288bd3e28368",
   "metadata": {},
   "outputs": [],
   "source": [
    "class pwskills:\n",
    "     def __init__(self,name,email):\n",
    "        \n",
    "            self.name=name\n",
    "            self.email=email\n",
    "     @classmethod      \n",
    "     def details( cls,name,email):\n",
    "            return cls(name,email)\n",
    "        \n",
    "    \n",
    "    \n",
    "     def students_details(self):\n",
    "        print(self.name,self.email)\n"
   ]
  },
  {
   "cell_type": "code",
   "execution_count": null,
   "id": "11b95520-5d3a-49ad-9bfb-55dfe72e6dc8",
   "metadata": {},
   "outputs": [],
   "source": [
    "pw1=pwskills.details(\"sunita\" ,\"@sujghjx\")"
   ]
  },
  {
   "cell_type": "code",
   "execution_count": null,
   "id": "c3e215cb-3a7b-4234-bb61-f3af8be6159a",
   "metadata": {},
   "outputs": [],
   "source": [
    "pw1.name"
   ]
  },
  {
   "cell_type": "code",
   "execution_count": null,
   "id": "847817a5-0155-4bc3-af42-c32657886862",
   "metadata": {},
   "outputs": [],
   "source": [
    "pw1.email"
   ]
  },
  {
   "cell_type": "code",
   "execution_count": null,
   "id": "fec013d1-e82c-4e35-adf5-90bc9f7ffa82",
   "metadata": {},
   "outputs": [],
   "source": [
    "pw1.students_details()"
   ]
  },
  {
   "cell_type": "code",
   "execution_count": null,
   "id": "f0dcb2bc-e40a-417e-95f3-246e2d62b8b8",
   "metadata": {},
   "outputs": [],
   "source": [
    "class pwskills2:\n",
    "    \n",
    "    mobile_num=92387646738\n",
    "    \n",
    "    def __init__(self,name,email):\n",
    "        \n",
    "        self.name=name\n",
    "        self.email=email\n",
    "    @classmethod      \n",
    "    def details( cls,name,email):\n",
    "        return cls(name,email)\n",
    "        \n",
    "    @classmethod\n",
    "    def change_num(cls,mobile):\n",
    "        pwskills2.mobile_num=mobile\n",
    "        \n",
    "    \n",
    "    def students_details(self):\n",
    "        print(self.name,self.email,pwskills2.mobile_num)"
   ]
  },
  {
   "cell_type": "code",
   "execution_count": null,
   "id": "138c50c2-7026-4abb-bf69-5e15781a2f55",
   "metadata": {},
   "outputs": [],
   "source": [
    "pw=pwskills2.details('sunita',\"wet@yuhj\")"
   ]
  },
  {
   "cell_type": "code",
   "execution_count": null,
   "id": "8543f552-a156-453b-b2bb-bc648f3d83e1",
   "metadata": {},
   "outputs": [],
   "source": [
    "pw.students_details()"
   ]
  },
  {
   "cell_type": "code",
   "execution_count": null,
   "id": "e941bebd-3840-4b33-b210-22926159c14c",
   "metadata": {},
   "outputs": [],
   "source": [
    "pw_obj=pwskills2(\"sunita\",\"sdfjk@\")"
   ]
  },
  {
   "cell_type": "code",
   "execution_count": null,
   "id": "ab9b9ad4-cea2-4b25-b746-de193efce564",
   "metadata": {},
   "outputs": [],
   "source": [
    "pw_obj.students_details()"
   ]
  },
  {
   "cell_type": "code",
   "execution_count": null,
   "id": "b420e380-63f1-4dd0-882c-0f626372c008",
   "metadata": {},
   "outputs": [],
   "source": [
    "pwskills2.change_num(23456748)"
   ]
  },
  {
   "cell_type": "code",
   "execution_count": null,
   "id": "bab69c78-9121-4fb8-b06c-e91a389c9b6e",
   "metadata": {},
   "outputs": [],
   "source": [
    "pwskills2.mobile_num"
   ]
  },
  {
   "cell_type": "code",
   "execution_count": null,
   "id": "a5d765bf-9531-41dc-85f5-48a67d4031fb",
   "metadata": {},
   "outputs": [],
   "source": [
    "class pwskills3:\n",
    "    \n",
    "    mobile_num=92387646738\n",
    "    \n",
    "    def __init__(self,name,email):\n",
    "        \n",
    "        self.name=name\n",
    "        self.email=email\n",
    "    @classmethod      \n",
    "    def details( cls,name,email):\n",
    "        return cls(name,email)\n",
    "        \n",
    "    @classmethod\n",
    "    def change_num(cls,mobile):\n",
    "        pwskills2.mobile_num=mobile\n",
    "        \n",
    "    \n",
    "    def students_details(self):\n",
    "        print(self.name,self.email,pwskills2.mobile_num)"
   ]
  },
  {
   "cell_type": "code",
   "execution_count": null,
   "id": "e63ab9c6-a18e-4f02-a22b-2502305baf70",
   "metadata": {},
   "outputs": [],
   "source": [
    "def course_details(cls,course_name):\n",
    "    print(\"course name is\" , course_name)"
   ]
  },
  {
   "cell_type": "code",
   "execution_count": null,
   "id": "ed81c0c0-e113-4e3a-aef7-2965a9fb7107",
   "metadata": {},
   "outputs": [],
   "source": [
    "pwskills3.course_details=classmethod(course_details)"
   ]
  },
  {
   "cell_type": "code",
   "execution_count": null,
   "id": "fc8c17cd-c339-4bc7-9fe1-67490a90862b",
   "metadata": {},
   "outputs": [],
   "source": [
    "pwskills3.course_details(\"data science\")"
   ]
  },
  {
   "cell_type": "code",
   "execution_count": null,
   "id": "4cac5304-7707-4fb4-b058-fc36ac99d1d4",
   "metadata": {},
   "outputs": [],
   "source": [
    "def mentor(cls,list_of_mentor):\n",
    "    print(list_of_mentor)"
   ]
  },
  {
   "cell_type": "code",
   "execution_count": null,
   "id": "698af03b-bf53-4410-8b64-f661fd5bb05b",
   "metadata": {},
   "outputs": [],
   "source": [
    "pwskills3.mentor=classmethod(mentor)"
   ]
  },
  {
   "cell_type": "code",
   "execution_count": null,
   "id": "19d972f9-d359-42dd-9cda-541e3bb8700c",
   "metadata": {},
   "outputs": [],
   "source": [
    "pwskills3.mentor(['sudh','krish'])"
   ]
  },
  {
   "cell_type": "code",
   "execution_count": null,
   "id": "6ca56849-01ac-4b3c-befd-2a673b445ab5",
   "metadata": {},
   "outputs": [],
   "source": [
    "class pwskills4:\n",
    "    \n",
    "    mobile_num=92387646738\n",
    "    \n",
    "    def __init__(self,name,email):\n",
    "        \n",
    "        self.name=name\n",
    "        self.email=email\n",
    "    @classmethod      \n",
    "    def details( cls,name,email):\n",
    "        return cls(name,email)\n",
    "        \n",
    "    @classmethod\n",
    "    def change_num(cls,mobile):\n",
    "        pwskills2.mobile_num=mobile\n",
    "        \n",
    "    \n",
    "    def students_details(self):\n",
    "        print(self.name,self.email,pwskills2.mobile_num)"
   ]
  },
  {
   "cell_type": "code",
   "execution_count": null,
   "id": "c6d7bbd9-11b2-47b4-891b-dac5cfa3793e",
   "metadata": {},
   "outputs": [],
   "source": [
    "del pwskills4.change_num"
   ]
  },
  {
   "cell_type": "code",
   "execution_count": null,
   "id": "5f2fead9-dd53-43a3-936d-c03a36327283",
   "metadata": {},
   "outputs": [],
   "source": [
    "pwskills4.change_num(4578786756676)"
   ]
  },
  {
   "cell_type": "code",
   "execution_count": null,
   "id": "9e9b63d5-8868-481e-adc7-797f59d606de",
   "metadata": {},
   "outputs": [],
   "source": [
    "delattr(pwskills4,'details')"
   ]
  },
  {
   "cell_type": "code",
   "execution_count": null,
   "id": "ce7081e9-a0b2-4f1c-b65c-04f663e116a7",
   "metadata": {},
   "outputs": [],
   "source": [
    "delattr(pwskills4,\"students_details\")"
   ]
  },
  {
   "cell_type": "code",
   "execution_count": null,
   "id": "9d2f9339-12dc-401a-9fc6-d8a99acbdda1",
   "metadata": {},
   "outputs": [],
   "source": [
    "delattr(pwskills4,'mobile_num')"
   ]
  },
  {
   "cell_type": "code",
   "execution_count": null,
   "id": "cd3250b3-0b3b-4473-a2af-bf89c4efc112",
   "metadata": {},
   "outputs": [],
   "source": [
    "pwskills4.mro\n"
   ]
  },
  {
   "cell_type": "code",
   "execution_count": null,
   "id": "1026963c-88eb-4efe-8ccb-38081546d3bf",
   "metadata": {},
   "outputs": [],
   "source": [
    "####static method\n",
    "\n",
    "class pwskills:\n",
    "    def student_details(self,name, mail , number):\n",
    "        print(name,mail,number)"
   ]
  },
  {
   "cell_type": "code",
   "execution_count": null,
   "id": "e50011c9-affc-461a-8257-12b5eaf31700",
   "metadata": {},
   "outputs": [],
   "source": [
    "pw = pwskills()"
   ]
  },
  {
   "cell_type": "code",
   "execution_count": null,
   "id": "fb289565-f252-425a-8b91-e7881e99e3eb",
   "metadata": {},
   "outputs": [],
   "source": [
    "pw.student_details(\"sunita\",'@123456',34567)"
   ]
  },
  {
   "cell_type": "code",
   "execution_count": null,
   "id": "4aa6054b-db0f-4492-8ef2-b971da5a75f8",
   "metadata": {},
   "outputs": [],
   "source": [
    "class pwskills1:\n",
    "    def student_details(self,name, mail , number):\n",
    "        print(name,mail,number)\n",
    "        \n",
    "    @staticmethod\n",
    "    def mentor_class(list_mentor):\n",
    "        print(list_mentor)\n",
    "        \n",
    "    def mentor(self ,mentor_list):\n",
    "        print(mentor_list)"
   ]
  },
  {
   "cell_type": "code",
   "execution_count": null,
   "id": "8724c482-522d-466d-88ac-3ed2daf811e2",
   "metadata": {},
   "outputs": [],
   "source": [
    "pwskills1.mentor_class([\"udgh\",'lkjh'])"
   ]
  },
  {
   "cell_type": "code",
   "execution_count": null,
   "id": "ab3204f7-7159-4d8e-9d74-da1cd811af26",
   "metadata": {},
   "outputs": [],
   "source": [
    "stu1=pwskills1()"
   ]
  },
  {
   "cell_type": "code",
   "execution_count": null,
   "id": "b97367d6-d3ea-4b60-ade8-eed0b03762e4",
   "metadata": {},
   "outputs": [],
   "source": [
    "stu2=pwskills1()"
   ]
  },
  {
   "cell_type": "code",
   "execution_count": null,
   "id": "722d594f-0b5f-4c7f-a090-55b4dbd4f6c3",
   "metadata": {},
   "outputs": [],
   "source": [
    "stu3=pwskills1()"
   ]
  },
  {
   "cell_type": "code",
   "execution_count": null,
   "id": "c146e4e9-211f-4f8f-880c-14f13e59703d",
   "metadata": {},
   "outputs": [],
   "source": [
    "stu1.mentor(['suf','dgy'])"
   ]
  },
  {
   "cell_type": "code",
   "execution_count": null,
   "id": "ff18067f-cf2e-47cf-b430-74f673ea781c",
   "metadata": {},
   "outputs": [],
   "source": [
    "class pwskills2:\n",
    "    def student_details(self,name, mail , number):\n",
    "        print(name,mail,number)\n",
    "        \n",
    "    @staticmethod\n",
    "    def mentor_mail(mail_id_number):\n",
    "        print(mail_id_number) \n",
    "        \n",
    "    @staticmethod\n",
    "    def mentor_class(list_mentor):\n",
    "        pwskills2.mentor_mail([\"siugf@dg\",\"dffagga@\"])\n",
    "        print(list_mentor)\n",
    "   \n",
    "    @staticmethod    \n",
    "    def class_name(cls):\n",
    "        cls.mentor_class(['sdf','dfghhgf'])\n",
    "        \n",
    "    def mentor(self ,mentor_list):\n",
    "        print(mentor_list)\n",
    "        self.mentor_class(['skjhg','sgfdfgh'])"
   ]
  },
  {
   "cell_type": "code",
   "execution_count": 96,
   "id": "93a4887a-7f93-4695-97a6-218322f7c895",
   "metadata": {},
   "outputs": [
    {
     "name": "stdout",
     "output_type": "stream",
     "text": [
      "['siugf@dg', 'dffagga@']\n",
      "['krisdj', 'fggsds']\n"
     ]
    }
   ],
   "source": [
    "pwskills2.mentor_class(['krisdj','fggsds'])"
   ]
  },
  {
   "cell_type": "code",
   "execution_count": 16,
   "id": "5cde7160-1064-4a41-b950-b76d3bca9df3",
   "metadata": {},
   "outputs": [],
   "source": [
    "\n",
    "#### decorater ___getter , setter\n",
    "class pwskills :\n",
    "    def __init__(self,course_price,course_name):\n",
    "        self.__course_price =course_price\n",
    "        self.course_name =course_name\n",
    "    @property\n",
    "    def course_price_access(self):\n",
    "        return self.__course_price\n",
    "    \n",
    "    @course_price_access.setter\n",
    "    def course_price_set(self,price):\n",
    "        if price<=3500:\n",
    "            pass\n",
    "        else:\n",
    "            self.__course_price=price\n",
    "    \n",
    "    "
   ]
  },
  {
   "cell_type": "code",
   "execution_count": 17,
   "id": "4a7b9051-a508-4308-851c-44be76184c99",
   "metadata": {},
   "outputs": [],
   "source": [
    "pw =pwskills(3500,\"data science\")"
   ]
  },
  {
   "cell_type": "code",
   "execution_count": 18,
   "id": "77eb5e4c-aa50-4684-9980-70f1443cbdf6",
   "metadata": {},
   "outputs": [
    {
     "data": {
      "text/plain": [
       "3500"
      ]
     },
     "execution_count": 18,
     "metadata": {},
     "output_type": "execute_result"
    }
   ],
   "source": [
    "pw.course_price_access"
   ]
  },
  {
   "cell_type": "code",
   "execution_count": 19,
   "id": "ae5603d0-1c2c-4165-bc77-2760491aab16",
   "metadata": {},
   "outputs": [],
   "source": [
    "pw.course_price_set=4500"
   ]
  },
  {
   "cell_type": "code",
   "execution_count": 20,
   "id": "e52c5008-f73f-4ed3-b0a2-a7c603d1dd51",
   "metadata": {},
   "outputs": [
    {
     "data": {
      "text/plain": [
       "4500"
      ]
     },
     "execution_count": 20,
     "metadata": {},
     "output_type": "execute_result"
    }
   ],
   "source": [
    "pw.course_price_access"
   ]
  },
  {
   "cell_type": "code",
   "execution_count": 11,
   "id": "e7330937-7ad4-4a4a-907b-d4a18b4ed034",
   "metadata": {},
   "outputs": [
    {
     "data": {
      "text/plain": [
       "'data science'"
      ]
     },
     "execution_count": 11,
     "metadata": {},
     "output_type": "execute_result"
    }
   ],
   "source": [
    "pw.course_name"
   ]
  },
  {
   "cell_type": "code",
   "execution_count": 12,
   "id": "38803a25-b75a-4def-bf0d-a3bb37047e6b",
   "metadata": {},
   "outputs": [
    {
     "data": {
      "text/plain": [
       "3500"
      ]
     },
     "execution_count": 12,
     "metadata": {},
     "output_type": "execute_result"
    }
   ],
   "source": [
    "pw._pwskills__course_price"
   ]
  },
  {
   "cell_type": "code",
   "execution_count": 21,
   "id": "f0990f8f-f601-40d8-9f0c-142a132011cb",
   "metadata": {},
   "outputs": [],
   "source": [
    "class pwskills :\n",
    "    def __init__(self,course_price,course_name):\n",
    "        self.__course_price =course_price\n",
    "        self.course_name =course_name\n",
    "    @property\n",
    "    def course_price_access(self):\n",
    "        return self.__course_price\n",
    "    \n",
    "    @course_price_access.setter\n",
    "    def course_price_set(self,price):\n",
    "        if price<=3500:\n",
    "            pass\n",
    "        else:\n",
    "            self.__course_price=price\n",
    "    \n",
    "    \n",
    "    @course_price_access.deleter\n",
    "    def delete_course_price(self):\n",
    "        del self.__course_price\n",
    "    "
   ]
  },
  {
   "cell_type": "code",
   "execution_count": 22,
   "id": "4278ff96-852f-4978-9873-ec3e989c9fec",
   "metadata": {},
   "outputs": [],
   "source": [
    "pw =pwskills(3500,\"data science\")"
   ]
  },
  {
   "cell_type": "code",
   "execution_count": 23,
   "id": "585c1bcb-9b49-4050-ad9f-dfcc2055a6ab",
   "metadata": {},
   "outputs": [
    {
     "data": {
      "text/plain": [
       "3500"
      ]
     },
     "execution_count": 23,
     "metadata": {},
     "output_type": "execute_result"
    }
   ],
   "source": [
    "pw.course_price_access"
   ]
  },
  {
   "cell_type": "code",
   "execution_count": 24,
   "id": "30af5c2c-9605-48f1-a59e-bf68fa910535",
   "metadata": {},
   "outputs": [],
   "source": [
    "del pw.delete_course_price"
   ]
  },
  {
   "cell_type": "code",
   "execution_count": 25,
   "id": "e3863f54-c828-4327-8011-604d558910f3",
   "metadata": {},
   "outputs": [
    {
     "ename": "AttributeError",
     "evalue": "'pwskills' object has no attribute '_pwskills__course_price'",
     "output_type": "error",
     "traceback": [
      "\u001b[0;31m---------------------------------------------------------------------------\u001b[0m",
      "\u001b[0;31mAttributeError\u001b[0m                            Traceback (most recent call last)",
      "Cell \u001b[0;32mIn[25], line 1\u001b[0m\n\u001b[0;32m----> 1\u001b[0m \u001b[43mpw\u001b[49m\u001b[38;5;241;43m.\u001b[39;49m\u001b[43mcourse_price_access\u001b[49m\n",
      "Cell \u001b[0;32mIn[21], line 7\u001b[0m, in \u001b[0;36mpwskills.course_price_access\u001b[0;34m(self)\u001b[0m\n\u001b[1;32m      5\u001b[0m \u001b[38;5;129m@property\u001b[39m\n\u001b[1;32m      6\u001b[0m \u001b[38;5;28;01mdef\u001b[39;00m \u001b[38;5;21mcourse_price_access\u001b[39m(\u001b[38;5;28mself\u001b[39m):\n\u001b[0;32m----> 7\u001b[0m     \u001b[38;5;28;01mreturn\u001b[39;00m \u001b[38;5;28;43mself\u001b[39;49m\u001b[38;5;241;43m.\u001b[39;49m\u001b[43m__course_price\u001b[49m\n",
      "\u001b[0;31mAttributeError\u001b[0m: 'pwskills' object has no attribute '_pwskills__course_price'"
     ]
    }
   ],
   "source": [
    "pw.course_price_access"
   ]
  },
  {
   "cell_type": "code",
   "execution_count": null,
   "id": "be262967-2e9a-46e7-9e15-08e34956351e",
   "metadata": {},
   "outputs": [],
   "source": []
  }
 ],
 "metadata": {
  "kernelspec": {
   "display_name": "Python 3 (ipykernel)",
   "language": "python",
   "name": "python3"
  },
  "language_info": {
   "codemirror_mode": {
    "name": "ipython",
    "version": 3
   },
   "file_extension": ".py",
   "mimetype": "text/x-python",
   "name": "python",
   "nbconvert_exporter": "python",
   "pygments_lexer": "ipython3",
   "version": "3.10.8"
  }
 },
 "nbformat": 4,
 "nbformat_minor": 5
}
