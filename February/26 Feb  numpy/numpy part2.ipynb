{
 "cells": [
  {
   "cell_type": "code",
   "execution_count": 1,
   "id": "0802b86f-c628-4f83-a58f-b500bf64f642",
   "metadata": {},
   "outputs": [],
   "source": [
    "import numpy as np"
   ]
  },
  {
   "cell_type": "code",
   "execution_count": 2,
   "id": "82370ea0-55b3-4172-842c-f247a9948bb8",
   "metadata": {},
   "outputs": [],
   "source": [
    "arr=np.random.randint(1,10,(3,4))"
   ]
  },
  {
   "cell_type": "code",
   "execution_count": 3,
   "id": "3212ef26-7188-4bf6-bc17-6ce0746dd75e",
   "metadata": {},
   "outputs": [
    {
     "data": {
      "text/plain": [
       "array([[3, 2, 9, 9],\n",
       "       [3, 3, 2, 7],\n",
       "       [4, 5, 8, 1]])"
      ]
     },
     "execution_count": 3,
     "metadata": {},
     "output_type": "execute_result"
    }
   ],
   "source": [
    "arr"
   ]
  },
  {
   "cell_type": "code",
   "execution_count": 4,
   "id": "d0a97196-0a99-4d44-8b97-f1ae1a1f0e0c",
   "metadata": {},
   "outputs": [
    {
     "data": {
      "text/plain": [
       "array([[3, 2],\n",
       "       [9, 9],\n",
       "       [3, 3],\n",
       "       [2, 7],\n",
       "       [4, 5],\n",
       "       [8, 1]])"
      ]
     },
     "execution_count": 4,
     "metadata": {},
     "output_type": "execute_result"
    }
   ],
   "source": [
    "arr.reshape(6,2)"
   ]
  },
  {
   "cell_type": "code",
   "execution_count": 5,
   "id": "61002637-ad75-49d3-b8b5-b31f58a05229",
   "metadata": {},
   "outputs": [
    {
     "data": {
      "text/plain": [
       "array([[3, 2, 9, 9, 3, 3],\n",
       "       [2, 7, 4, 5, 8, 1]])"
      ]
     },
     "execution_count": 5,
     "metadata": {},
     "output_type": "execute_result"
    }
   ],
   "source": [
    "arr.reshape(2,6)"
   ]
  },
  {
   "cell_type": "code",
   "execution_count": 6,
   "id": "866de7b9-fa16-4980-981c-bfc020d1e793",
   "metadata": {},
   "outputs": [
    {
     "data": {
      "text/plain": [
       "array([[3, 2, 9, 9],\n",
       "       [3, 3, 2, 7],\n",
       "       [4, 5, 8, 1]])"
      ]
     },
     "execution_count": 6,
     "metadata": {},
     "output_type": "execute_result"
    }
   ],
   "source": [
    "arr"
   ]
  },
  {
   "cell_type": "code",
   "execution_count": 7,
   "id": "4bdbc92e-0253-46ef-9d29-7c0136404042",
   "metadata": {},
   "outputs": [
    {
     "data": {
      "text/plain": [
       "array([[3, 3, 4],\n",
       "       [2, 3, 5],\n",
       "       [9, 2, 8],\n",
       "       [9, 7, 1]])"
      ]
     },
     "execution_count": 7,
     "metadata": {},
     "output_type": "execute_result"
    }
   ],
   "source": [
    "arr.T"
   ]
  },
  {
   "cell_type": "code",
   "execution_count": 8,
   "id": "d331c2a8-53c2-4735-a9dc-b7f53d51fb50",
   "metadata": {},
   "outputs": [
    {
     "data": {
      "text/plain": [
       "array([3, 2, 9, 9, 3, 3, 2, 7, 4, 5, 8, 1])"
      ]
     },
     "execution_count": 8,
     "metadata": {},
     "output_type": "execute_result"
    }
   ],
   "source": [
    "arr.flatten()"
   ]
  },
  {
   "cell_type": "code",
   "execution_count": 9,
   "id": "ef6903f0-b642-4fb0-8a43-f7f6f58b80fd",
   "metadata": {},
   "outputs": [],
   "source": [
    "arr1=np.array([1,2,3,4,5])"
   ]
  },
  {
   "cell_type": "code",
   "execution_count": 10,
   "id": "8e9a747b-eebf-4787-903a-b8d4df9b8815",
   "metadata": {},
   "outputs": [
    {
     "data": {
      "text/plain": [
       "array([1, 2, 3, 4, 5])"
      ]
     },
     "execution_count": 10,
     "metadata": {},
     "output_type": "execute_result"
    }
   ],
   "source": [
    "arr1"
   ]
  },
  {
   "cell_type": "code",
   "execution_count": 11,
   "id": "a24c9bac-c4b1-4289-ab4f-f60c3d2f6fa8",
   "metadata": {},
   "outputs": [
    {
     "data": {
      "text/plain": [
       "1"
      ]
     },
     "execution_count": 11,
     "metadata": {},
     "output_type": "execute_result"
    }
   ],
   "source": [
    "arr1.ndim"
   ]
  },
  {
   "cell_type": "code",
   "execution_count": 12,
   "id": "c0718aab-3827-4819-a389-4c399597b934",
   "metadata": {},
   "outputs": [
    {
     "data": {
      "text/plain": [
       "array([[1],\n",
       "       [2],\n",
       "       [3],\n",
       "       [4],\n",
       "       [5]])"
      ]
     },
     "execution_count": 12,
     "metadata": {},
     "output_type": "execute_result"
    }
   ],
   "source": [
    "np.expand_dims(arr1,axis=1)"
   ]
  },
  {
   "cell_type": "code",
   "execution_count": 13,
   "id": "7fa061c9-b620-4ee4-bea6-b4c24199b268",
   "metadata": {},
   "outputs": [
    {
     "data": {
      "text/plain": [
       "array([[1, 2, 3, 4, 5]])"
      ]
     },
     "execution_count": 13,
     "metadata": {},
     "output_type": "execute_result"
    }
   ],
   "source": [
    "np.expand_dims(arr1,axis=0)"
   ]
  },
  {
   "cell_type": "code",
   "execution_count": 14,
   "id": "14335551-4165-4275-819f-577864bca6d6",
   "metadata": {},
   "outputs": [
    {
     "data": {
      "text/plain": [
       "array([[3, 2, 9, 9],\n",
       "       [3, 3, 2, 7],\n",
       "       [4, 5, 8, 1]])"
      ]
     },
     "execution_count": 14,
     "metadata": {},
     "output_type": "execute_result"
    }
   ],
   "source": [
    "arr"
   ]
  },
  {
   "cell_type": "code",
   "execution_count": 15,
   "id": "f03ec150-4c16-4444-9b99-febb710c1b48",
   "metadata": {},
   "outputs": [
    {
     "data": {
      "text/plain": [
       "array([[3, 2, 9, 9],\n",
       "       [3, 3, 2, 7],\n",
       "       [4, 5, 8, 1]])"
      ]
     },
     "execution_count": 15,
     "metadata": {},
     "output_type": "execute_result"
    }
   ],
   "source": [
    "np.squeeze(arr)"
   ]
  },
  {
   "cell_type": "code",
   "execution_count": 17,
   "id": "a2328175-2946-4ac5-8881-de1521b2bf97",
   "metadata": {},
   "outputs": [],
   "source": [
    "data=np.array([[1],[2],[3]])"
   ]
  },
  {
   "cell_type": "code",
   "execution_count": 18,
   "id": "692b3f37-3fec-48c7-b8a4-0d951cc37822",
   "metadata": {},
   "outputs": [
    {
     "data": {
      "text/plain": [
       "array([[1],\n",
       "       [2],\n",
       "       [3]])"
      ]
     },
     "execution_count": 18,
     "metadata": {},
     "output_type": "execute_result"
    }
   ],
   "source": [
    "data"
   ]
  },
  {
   "cell_type": "code",
   "execution_count": 19,
   "id": "cf663848-0412-43f8-9503-b26e139e0e3b",
   "metadata": {},
   "outputs": [
    {
     "data": {
      "text/plain": [
       "array([1, 2, 3])"
      ]
     },
     "execution_count": 19,
     "metadata": {},
     "output_type": "execute_result"
    }
   ],
   "source": [
    "np.squeeze(data)"
   ]
  },
  {
   "cell_type": "code",
   "execution_count": 20,
   "id": "6b2819e5-cddf-4142-a58b-cb7880eea9d1",
   "metadata": {},
   "outputs": [
    {
     "data": {
      "text/plain": [
       "array([1, 2, 3, 4, 5])"
      ]
     },
     "execution_count": 20,
     "metadata": {},
     "output_type": "execute_result"
    }
   ],
   "source": [
    "arr1"
   ]
  },
  {
   "cell_type": "code",
   "execution_count": 22,
   "id": "21bd5edf-9190-43f5-98ac-c83ea1ba1a6e",
   "metadata": {},
   "outputs": [
    {
     "data": {
      "text/plain": [
       "array([1, 1, 1, 2, 2, 2, 3, 3, 3, 4, 4, 4, 5, 5, 5])"
      ]
     },
     "execution_count": 22,
     "metadata": {},
     "output_type": "execute_result"
    }
   ],
   "source": [
    "np.repeat(arr1,3)"
   ]
  },
  {
   "cell_type": "code",
   "execution_count": 24,
   "id": "ae1c00f1-c881-43ea-9ff0-f938f862e349",
   "metadata": {},
   "outputs": [
    {
     "data": {
      "text/plain": [
       "array([4, 5, 1, 2, 3])"
      ]
     },
     "execution_count": 24,
     "metadata": {},
     "output_type": "execute_result"
    }
   ],
   "source": [
    "np.roll(arr1,2)"
   ]
  },
  {
   "cell_type": "code",
   "execution_count": 26,
   "id": "59660f68-ae0a-46ae-b091-faaf9da02801",
   "metadata": {},
   "outputs": [
    {
     "data": {
      "text/plain": [
       "array([1, 2, 3, 4, 5])"
      ]
     },
     "execution_count": 26,
     "metadata": {},
     "output_type": "execute_result"
    }
   ],
   "source": [
    "arr1"
   ]
  },
  {
   "cell_type": "code",
   "execution_count": 27,
   "id": "f8167ad0-9a34-4a45-9788-51d7184b7486",
   "metadata": {},
   "outputs": [
    {
     "data": {
      "text/plain": [
       "array([[1, 0, 0, 0, 0],\n",
       "       [0, 2, 0, 0, 0],\n",
       "       [0, 0, 3, 0, 0],\n",
       "       [0, 0, 0, 4, 0],\n",
       "       [0, 0, 0, 0, 5]])"
      ]
     },
     "execution_count": 27,
     "metadata": {},
     "output_type": "execute_result"
    }
   ],
   "source": [
    "np.diag(arr1)"
   ]
  },
  {
   "cell_type": "code",
   "execution_count": 28,
   "id": "9c85f819-d0bd-465e-ae1a-2aedaf974a90",
   "metadata": {},
   "outputs": [],
   "source": [
    "##binary"
   ]
  },
  {
   "cell_type": "code",
   "execution_count": 29,
   "id": "c67afa96-4b9d-4091-a762-6b5dae595b2d",
   "metadata": {},
   "outputs": [],
   "source": [
    "arr1=np.random.randint(1,10,(3,4))\n",
    "arr2=np.random.randint(1,10,(3,4))"
   ]
  },
  {
   "cell_type": "code",
   "execution_count": 30,
   "id": "bbe75284-c1a9-4cc0-8471-be4b93ed64bc",
   "metadata": {},
   "outputs": [
    {
     "data": {
      "text/plain": [
       "array([[4, 7, 9, 1],\n",
       "       [3, 5, 6, 9],\n",
       "       [1, 9, 7, 9]])"
      ]
     },
     "execution_count": 30,
     "metadata": {},
     "output_type": "execute_result"
    }
   ],
   "source": [
    "arr1"
   ]
  },
  {
   "cell_type": "code",
   "execution_count": 31,
   "id": "9417ca4a-f9f9-4424-b086-bfe51ac038e5",
   "metadata": {},
   "outputs": [
    {
     "data": {
      "text/plain": [
       "array([[8, 6, 3, 4],\n",
       "       [3, 8, 7, 2],\n",
       "       [2, 3, 7, 3]])"
      ]
     },
     "execution_count": 31,
     "metadata": {},
     "output_type": "execute_result"
    }
   ],
   "source": [
    "arr2"
   ]
  },
  {
   "cell_type": "code",
   "execution_count": 32,
   "id": "89f63dad-d90f-44c7-80dd-6031f6ffc7e0",
   "metadata": {},
   "outputs": [
    {
     "data": {
      "text/plain": [
       "array([[12, 13, 12,  5],\n",
       "       [ 6, 13, 13, 11],\n",
       "       [ 3, 12, 14, 12]])"
      ]
     },
     "execution_count": 32,
     "metadata": {},
     "output_type": "execute_result"
    }
   ],
   "source": [
    "arr1+arr2"
   ]
  },
  {
   "cell_type": "code",
   "execution_count": 33,
   "id": "d4deea58-73b3-4694-8386-d7bb22717aff",
   "metadata": {},
   "outputs": [
    {
     "data": {
      "text/plain": [
       "array([[32, 42, 27,  4],\n",
       "       [ 9, 40, 42, 18],\n",
       "       [ 2, 27, 49, 27]])"
      ]
     },
     "execution_count": 33,
     "metadata": {},
     "output_type": "execute_result"
    }
   ],
   "source": [
    "arr1*arr2"
   ]
  },
  {
   "cell_type": "code",
   "execution_count": 34,
   "id": "6ed7edb9-0551-4df5-9686-cec5f3238cbf",
   "metadata": {},
   "outputs": [
    {
     "data": {
      "text/plain": [
       "array([[-4,  1,  6, -3],\n",
       "       [ 0, -3, -1,  7],\n",
       "       [-1,  6,  0,  6]])"
      ]
     },
     "execution_count": 34,
     "metadata": {},
     "output_type": "execute_result"
    }
   ],
   "source": [
    "arr1-arr2"
   ]
  },
  {
   "cell_type": "code",
   "execution_count": 35,
   "id": "9772a17a-19d9-4206-9219-26bc582ad979",
   "metadata": {},
   "outputs": [
    {
     "data": {
      "text/plain": [
       "array([[0.5       , 1.16666667, 3.        , 0.25      ],\n",
       "       [1.        , 0.625     , 0.85714286, 4.5       ],\n",
       "       [0.5       , 3.        , 1.        , 3.        ]])"
      ]
     },
     "execution_count": 35,
     "metadata": {},
     "output_type": "execute_result"
    }
   ],
   "source": [
    "arr1/arr2"
   ]
  },
  {
   "cell_type": "code",
   "execution_count": 37,
   "id": "8a00e15f-0828-431e-93b0-8223cf9ce660",
   "metadata": {},
   "outputs": [
    {
     "data": {
      "text/plain": [
       "array([[4, 1, 0, 1],\n",
       "       [0, 5, 6, 1],\n",
       "       [1, 0, 0, 0]])"
      ]
     },
     "execution_count": 37,
     "metadata": {},
     "output_type": "execute_result"
    }
   ],
   "source": [
    "arr1%arr2"
   ]
  },
  {
   "cell_type": "code",
   "execution_count": 38,
   "id": "7ecd4155-dbfa-4aeb-9045-c94c90aaed23",
   "metadata": {},
   "outputs": [
    {
     "data": {
      "text/plain": [
       "array([[ 65536, 117649,    729,      1],\n",
       "       [    27, 390625, 279936,     81],\n",
       "       [     1,    729, 823543,    729]])"
      ]
     },
     "execution_count": 38,
     "metadata": {},
     "output_type": "execute_result"
    }
   ],
   "source": [
    "arr1**arr2"
   ]
  },
  {
   "cell_type": "code",
   "execution_count": 40,
   "id": "7dc8fa3e-a433-4463-9a88-ee9aed010a1e",
   "metadata": {},
   "outputs": [
    {
     "data": {
      "text/plain": [
       "array([[0, 6, 1, 0],\n",
       "       [3, 0, 6, 0],\n",
       "       [0, 1, 7, 1]])"
      ]
     },
     "execution_count": 40,
     "metadata": {},
     "output_type": "execute_result"
    }
   ],
   "source": [
    "arr1&arr2"
   ]
  },
  {
   "cell_type": "code",
   "execution_count": 41,
   "id": "12cca661-5bb1-4061-ba4d-10e420586bbe",
   "metadata": {},
   "outputs": [
    {
     "data": {
      "text/plain": [
       "array([[ -5,  -8, -10,  -2],\n",
       "       [ -4,  -6,  -7, -10],\n",
       "       [ -2, -10,  -8, -10]])"
      ]
     },
     "execution_count": 41,
     "metadata": {},
     "output_type": "execute_result"
    }
   ],
   "source": [
    "~arr1"
   ]
  },
  {
   "cell_type": "code",
   "execution_count": 42,
   "id": "0477cebf-a2db-4a9a-9fb8-4a9270706bee",
   "metadata": {},
   "outputs": [
    {
     "data": {
      "text/plain": [
       "array([[12,  7, 11,  5],\n",
       "       [ 3, 13,  7, 11],\n",
       "       [ 3, 11,  7, 11]])"
      ]
     },
     "execution_count": 42,
     "metadata": {},
     "output_type": "execute_result"
    }
   ],
   "source": [
    "arr1|arr2"
   ]
  },
  {
   "cell_type": "code",
   "execution_count": 43,
   "id": "633a498c-9d6c-4227-a60e-21c056f2b9c3",
   "metadata": {},
   "outputs": [
    {
     "data": {
      "text/plain": [
       "array([[False,  True,  True, False],\n",
       "       [False, False, False,  True],\n",
       "       [False,  True, False,  True]])"
      ]
     },
     "execution_count": 43,
     "metadata": {},
     "output_type": "execute_result"
    }
   ],
   "source": [
    "arr1>arr2"
   ]
  },
  {
   "cell_type": "code",
   "execution_count": 44,
   "id": "ecb057fb-75d1-49fd-b95e-38aefdaca8c8",
   "metadata": {},
   "outputs": [],
   "source": [
    "#NUMPY STRING"
   ]
  },
  {
   "cell_type": "code",
   "execution_count": 46,
   "id": "daba3dc8-8265-46cb-8171-0911d3a1c796",
   "metadata": {},
   "outputs": [],
   "source": [
    "arr=np.array(['sunita','deswal'])"
   ]
  },
  {
   "cell_type": "code",
   "execution_count": 47,
   "id": "440da641-5b44-4b8c-a828-684eef2da4c0",
   "metadata": {},
   "outputs": [
    {
     "data": {
      "text/plain": [
       "array(['SUNITA', 'DESWAL'], dtype='<U6')"
      ]
     },
     "execution_count": 47,
     "metadata": {},
     "output_type": "execute_result"
    }
   ],
   "source": [
    "np.char.upper(arr)"
   ]
  },
  {
   "cell_type": "code",
   "execution_count": 48,
   "id": "47d65e14-8f82-4235-8e0f-ae4d0b374de0",
   "metadata": {},
   "outputs": [
    {
     "data": {
      "text/plain": [
       "array(['Sunita', 'Deswal'], dtype='<U6')"
      ]
     },
     "execution_count": 48,
     "metadata": {},
     "output_type": "execute_result"
    }
   ],
   "source": [
    "np.char.title(arr)"
   ]
  },
  {
   "cell_type": "code",
   "execution_count": 49,
   "id": "272212ce-cc7a-45ea-9884-36eda1f8de37",
   "metadata": {},
   "outputs": [
    {
     "data": {
      "text/plain": [
       "array(['Sunita', 'Deswal'], dtype='<U6')"
      ]
     },
     "execution_count": 49,
     "metadata": {},
     "output_type": "execute_result"
    }
   ],
   "source": [
    "np.char.capitalize(arr)"
   ]
  },
  {
   "cell_type": "code",
   "execution_count": 50,
   "id": "feff4c5d-c8ce-41fa-b292-6b772b09f4b5",
   "metadata": {},
   "outputs": [],
   "source": [
    "###numpy mathamatical"
   ]
  },
  {
   "cell_type": "code",
   "execution_count": 51,
   "id": "09fa87f8-e5ce-4c67-ad4a-e26c3748bb2e",
   "metadata": {},
   "outputs": [
    {
     "data": {
      "text/plain": [
       "array([[4, 7, 9, 1],\n",
       "       [3, 5, 6, 9],\n",
       "       [1, 9, 7, 9]])"
      ]
     },
     "execution_count": 51,
     "metadata": {},
     "output_type": "execute_result"
    }
   ],
   "source": [
    "arr1"
   ]
  },
  {
   "cell_type": "code",
   "execution_count": 52,
   "id": "33e64b01-aaa4-4a7a-a54c-da13c3107e36",
   "metadata": {},
   "outputs": [
    {
     "data": {
      "text/plain": [
       "array([[-0.7568025 ,  0.6569866 ,  0.41211849,  0.84147098],\n",
       "       [ 0.14112001, -0.95892427, -0.2794155 ,  0.41211849],\n",
       "       [ 0.84147098,  0.41211849,  0.6569866 ,  0.41211849]])"
      ]
     },
     "execution_count": 52,
     "metadata": {},
     "output_type": "execute_result"
    }
   ],
   "source": [
    "np.sin(arr1)"
   ]
  },
  {
   "cell_type": "code",
   "execution_count": 53,
   "id": "fda7a2bd-0d21-4459-97a9-0252aa3e10c6",
   "metadata": {},
   "outputs": [
    {
     "data": {
      "text/plain": [
       "array([[-0.65364362,  0.75390225, -0.91113026,  0.54030231],\n",
       "       [-0.9899925 ,  0.28366219,  0.96017029, -0.91113026],\n",
       "       [ 0.54030231, -0.91113026,  0.75390225, -0.91113026]])"
      ]
     },
     "execution_count": 53,
     "metadata": {},
     "output_type": "execute_result"
    }
   ],
   "source": [
    "np.cos(arr1)"
   ]
  },
  {
   "cell_type": "code",
   "execution_count": 54,
   "id": "bc4c1b7d-b195-413a-9e83-90d091cd1c73",
   "metadata": {},
   "outputs": [
    {
     "data": {
      "text/plain": [
       "array([[ 1.15782128,  0.87144798, -0.45231566,  1.55740772],\n",
       "       [-0.14254654, -3.38051501, -0.29100619, -0.45231566],\n",
       "       [ 1.55740772, -0.45231566,  0.87144798, -0.45231566]])"
      ]
     },
     "execution_count": 54,
     "metadata": {},
     "output_type": "execute_result"
    }
   ],
   "source": [
    "np.tan(arr1)"
   ]
  },
  {
   "cell_type": "code",
   "execution_count": 55,
   "id": "dd1eb716-77c8-43c9-9ded-f33cd3193c2e",
   "metadata": {},
   "outputs": [
    {
     "data": {
      "text/plain": [
       "array([[0.9993293 , 0.99999834, 0.99999997, 0.76159416],\n",
       "       [0.99505475, 0.9999092 , 0.99998771, 0.99999997],\n",
       "       [0.76159416, 0.99999997, 0.99999834, 0.99999997]])"
      ]
     },
     "execution_count": 55,
     "metadata": {},
     "output_type": "execute_result"
    }
   ],
   "source": [
    "np.tanh(arr1)"
   ]
  },
  {
   "cell_type": "code",
   "execution_count": 56,
   "id": "fd420580-5c30-40f9-b51e-a49398f15422",
   "metadata": {},
   "outputs": [
    {
     "data": {
      "text/plain": [
       "array([[0.60205999, 0.84509804, 0.95424251, 0.        ],\n",
       "       [0.47712125, 0.69897   , 0.77815125, 0.95424251],\n",
       "       [0.        , 0.95424251, 0.84509804, 0.95424251]])"
      ]
     },
     "execution_count": 56,
     "metadata": {},
     "output_type": "execute_result"
    }
   ],
   "source": [
    "np.log10(arr1)"
   ]
  },
  {
   "cell_type": "code",
   "execution_count": 57,
   "id": "7eeed2a9-6b04-4e89-ac43-f9dd784c1763",
   "metadata": {},
   "outputs": [
    {
     "data": {
      "text/plain": [
       "array([[5.45981500e+01, 1.09663316e+03, 8.10308393e+03, 2.71828183e+00],\n",
       "       [2.00855369e+01, 1.48413159e+02, 4.03428793e+02, 8.10308393e+03],\n",
       "       [2.71828183e+00, 8.10308393e+03, 1.09663316e+03, 8.10308393e+03]])"
      ]
     },
     "execution_count": 57,
     "metadata": {},
     "output_type": "execute_result"
    }
   ],
   "source": [
    "np.exp(arr1)"
   ]
  },
  {
   "cell_type": "code",
   "execution_count": 58,
   "id": "09f345e8-66b4-49bc-b234-a878e61bf055",
   "metadata": {},
   "outputs": [
    {
     "data": {
      "text/plain": [
       "array([[2.        , 2.64575131, 3.        , 1.        ],\n",
       "       [1.73205081, 2.23606798, 2.44948974, 3.        ],\n",
       "       [1.        , 3.        , 2.64575131, 3.        ]])"
      ]
     },
     "execution_count": 58,
     "metadata": {},
     "output_type": "execute_result"
    }
   ],
   "source": [
    "np.sqrt(arr1)"
   ]
  },
  {
   "cell_type": "code",
   "execution_count": 60,
   "id": "ccb16d01-b197-4843-9503-279367c5bb2c",
   "metadata": {},
   "outputs": [
    {
     "data": {
      "text/plain": [
       "array([[16, 49, 81,  1],\n",
       "       [ 9, 25, 36, 81],\n",
       "       [ 1, 81, 49, 81]])"
      ]
     },
     "execution_count": 60,
     "metadata": {},
     "output_type": "execute_result"
    }
   ],
   "source": [
    "np.power(arr1,2)"
   ]
  },
  {
   "cell_type": "code",
   "execution_count": 61,
   "id": "c629d90c-b5c9-47b9-9aa9-2e9e67f2eb4e",
   "metadata": {},
   "outputs": [
    {
     "data": {
      "text/plain": [
       "5.833333333333333"
      ]
     },
     "execution_count": 61,
     "metadata": {},
     "output_type": "execute_result"
    }
   ],
   "source": [
    "np.mean(arr1)"
   ]
  },
  {
   "cell_type": "code",
   "execution_count": 63,
   "id": "9c66025b-46a4-42f7-aa36-d6ad20e19654",
   "metadata": {},
   "outputs": [
    {
     "data": {
      "text/plain": [
       "6.5"
      ]
     },
     "execution_count": 63,
     "metadata": {},
     "output_type": "execute_result"
    }
   ],
   "source": [
    "np.median(arr1)"
   ]
  },
  {
   "cell_type": "code",
   "execution_count": 64,
   "id": "986c892e-f57a-42e8-a20e-2bc712538be3",
   "metadata": {},
   "outputs": [
    {
     "data": {
      "text/plain": [
       "2.9107081994288304"
      ]
     },
     "execution_count": 64,
     "metadata": {},
     "output_type": "execute_result"
    }
   ],
   "source": [
    "np.std(arr1)"
   ]
  },
  {
   "cell_type": "code",
   "execution_count": 65,
   "id": "6ede60da-67a4-4468-b94e-7b854bbef5c6",
   "metadata": {},
   "outputs": [
    {
     "data": {
      "text/plain": [
       "8.472222222222223"
      ]
     },
     "execution_count": 65,
     "metadata": {},
     "output_type": "execute_result"
    }
   ],
   "source": [
    "np.var(arr1)"
   ]
  },
  {
   "cell_type": "code",
   "execution_count": 67,
   "id": "395baef7-bd3a-42c7-a33e-281d95c5d035",
   "metadata": {},
   "outputs": [
    {
     "data": {
      "text/plain": [
       "1"
      ]
     },
     "execution_count": 67,
     "metadata": {},
     "output_type": "execute_result"
    }
   ],
   "source": [
    "np.min(arr1)"
   ]
  },
  {
   "cell_type": "code",
   "execution_count": 68,
   "id": "c107f2fa-d019-4c03-a97a-485250f8f94b",
   "metadata": {},
   "outputs": [
    {
     "data": {
      "text/plain": [
       "9"
      ]
     },
     "execution_count": 68,
     "metadata": {},
     "output_type": "execute_result"
    }
   ],
   "source": [
    "np.max(arr1)"
   ]
  },
  {
   "cell_type": "code",
   "execution_count": 70,
   "id": "29c3f984-fbb3-4a86-a5b2-781821ddb8d3",
   "metadata": {},
   "outputs": [],
   "source": [
    "###Sort search & Counting "
   ]
  },
  {
   "cell_type": "code",
   "execution_count": 71,
   "id": "164c76e3-1474-40d4-8685-a37959f95384",
   "metadata": {},
   "outputs": [],
   "source": [
    "arr=np.array([1,2,3,44,556,776,877,654,])"
   ]
  },
  {
   "cell_type": "code",
   "execution_count": 72,
   "id": "32215b66-b731-4295-bd85-2bfbd8a60816",
   "metadata": {},
   "outputs": [
    {
     "data": {
      "text/plain": [
       "array([  1,   2,   3,  44, 556, 776, 877, 654])"
      ]
     },
     "execution_count": 72,
     "metadata": {},
     "output_type": "execute_result"
    }
   ],
   "source": [
    "arr"
   ]
  },
  {
   "cell_type": "code",
   "execution_count": 74,
   "id": "0f825f62-2909-465e-9821-9f40cd6aa6eb",
   "metadata": {},
   "outputs": [
    {
     "data": {
      "text/plain": [
       "array([  1,   2,   3,  44, 556, 654, 776, 877])"
      ]
     },
     "execution_count": 74,
     "metadata": {},
     "output_type": "execute_result"
    }
   ],
   "source": [
    "np.sort(arr)"
   ]
  },
  {
   "cell_type": "code",
   "execution_count": 75,
   "id": "3b0dbcf9-473f-4a58-a119-5769695989a1",
   "metadata": {},
   "outputs": [
    {
     "data": {
      "text/plain": [
       "3"
      ]
     },
     "execution_count": 75,
     "metadata": {},
     "output_type": "execute_result"
    }
   ],
   "source": [
    "np.searchsorted(arr,34)"
   ]
  },
  {
   "cell_type": "code",
   "execution_count": 76,
   "id": "949dbb9b-f117-4345-b47f-c71cc2752e1c",
   "metadata": {},
   "outputs": [],
   "source": [
    "arr1=np.array([0,23,566,0,0,0,0,0,0])"
   ]
  },
  {
   "cell_type": "code",
   "execution_count": 77,
   "id": "8118564d-a595-4e5b-9fa3-b0d5eb1fe47a",
   "metadata": {},
   "outputs": [
    {
     "data": {
      "text/plain": [
       "2"
      ]
     },
     "execution_count": 77,
     "metadata": {},
     "output_type": "execute_result"
    }
   ],
   "source": [
    "np.count_nonzero(arr1)"
   ]
  },
  {
   "cell_type": "code",
   "execution_count": 78,
   "id": "a3823666-5159-46c1-9ff8-f3425a1639be",
   "metadata": {},
   "outputs": [
    {
     "data": {
      "text/plain": [
       "array([  1,   2,   3,  44, 556, 776, 877, 654])"
      ]
     },
     "execution_count": 78,
     "metadata": {},
     "output_type": "execute_result"
    }
   ],
   "source": [
    "arr"
   ]
  },
  {
   "cell_type": "code",
   "execution_count": 79,
   "id": "15b10f1b-b4ab-4e4d-adcf-c01b7fd59cf1",
   "metadata": {},
   "outputs": [
    {
     "data": {
      "text/plain": [
       "(array([4, 5, 6, 7]),)"
      ]
     },
     "execution_count": 79,
     "metadata": {},
     "output_type": "execute_result"
    }
   ],
   "source": [
    "np.where(arr>44)"
   ]
  },
  {
   "cell_type": "code",
   "execution_count": 80,
   "id": "7edee9bd-7af0-4ec7-a6c3-05eb498c4a53",
   "metadata": {},
   "outputs": [
    {
     "data": {
      "text/plain": [
       "array([ 44, 556, 776, 877, 654])"
      ]
     },
     "execution_count": 80,
     "metadata": {},
     "output_type": "execute_result"
    }
   ],
   "source": [
    "np.extract(arr>4,arr)"
   ]
  },
  {
   "cell_type": "code",
   "execution_count": 81,
   "id": "c55df230-58f3-498d-bc86-929177a19754",
   "metadata": {},
   "outputs": [],
   "source": [
    "### numpy Byte swapping"
   ]
  },
  {
   "cell_type": "code",
   "execution_count": 82,
   "id": "1ce26683-1836-4055-8587-17368f97977f",
   "metadata": {},
   "outputs": [
    {
     "data": {
      "text/plain": [
       "array([  1,   2,   3,  44, 556, 776, 877, 654])"
      ]
     },
     "execution_count": 82,
     "metadata": {},
     "output_type": "execute_result"
    }
   ],
   "source": [
    "arr"
   ]
  },
  {
   "cell_type": "code",
   "execution_count": 84,
   "id": "db6505e7-28e6-46d7-9c96-0335ca7fbfba",
   "metadata": {},
   "outputs": [
    {
     "data": {
      "text/plain": [
       "array([   72057594037927936,   144115188075855872,   216172782113783808,\n",
       "        3170534137668829184,  3171097087622250496,   577305177233555456,\n",
       "        7855122175064276992, -8214002770370363392])"
      ]
     },
     "execution_count": 84,
     "metadata": {},
     "output_type": "execute_result"
    }
   ],
   "source": [
    "arr.byteswap()"
   ]
  },
  {
   "cell_type": "code",
   "execution_count": 85,
   "id": "60886305-3edd-4c69-8d5e-fa339670de6b",
   "metadata": {},
   "outputs": [],
   "source": [
    "#numpy copies"
   ]
  },
  {
   "cell_type": "code",
   "execution_count": 86,
   "id": "21227d80-190f-4048-aa80-d7c699491227",
   "metadata": {},
   "outputs": [
    {
     "data": {
      "text/plain": [
       "array([  1,   2,   3,  44, 556, 776, 877, 654])"
      ]
     },
     "execution_count": 86,
     "metadata": {},
     "output_type": "execute_result"
    }
   ],
   "source": [
    "arr"
   ]
  },
  {
   "cell_type": "code",
   "execution_count": 87,
   "id": "7242112f-3aad-4f4f-8b3d-c871120b777b",
   "metadata": {},
   "outputs": [],
   "source": [
    "a=np.copy(arr)"
   ]
  },
  {
   "cell_type": "code",
   "execution_count": 88,
   "id": "329aa2bf-d3d2-44fc-ba62-2b4a4a861a90",
   "metadata": {},
   "outputs": [
    {
     "data": {
      "text/plain": [
       "array([  1,   2,   3,  44, 556, 776, 877, 654])"
      ]
     },
     "execution_count": 88,
     "metadata": {},
     "output_type": "execute_result"
    }
   ],
   "source": [
    "a"
   ]
  },
  {
   "cell_type": "code",
   "execution_count": 89,
   "id": "8a882c4a-5890-4c2e-beac-2e7bad07eada",
   "metadata": {},
   "outputs": [],
   "source": [
    "b=arr.view()"
   ]
  },
  {
   "cell_type": "code",
   "execution_count": 90,
   "id": "404b6555-b5d1-4bdb-af60-6e88603deee0",
   "metadata": {},
   "outputs": [
    {
     "data": {
      "text/plain": [
       "array([  1,   2,   3,  44, 556, 776, 877, 654])"
      ]
     },
     "execution_count": 90,
     "metadata": {},
     "output_type": "execute_result"
    }
   ],
   "source": [
    "b"
   ]
  },
  {
   "cell_type": "code",
   "execution_count": 91,
   "id": "ae25658c-43e7-4b11-bd80-8ad81acb4757",
   "metadata": {},
   "outputs": [],
   "source": [
    "b[0]=67"
   ]
  },
  {
   "cell_type": "code",
   "execution_count": 92,
   "id": "4d187df5-4d9b-4088-bf46-6b1eb41cdd05",
   "metadata": {},
   "outputs": [
    {
     "data": {
      "text/plain": [
       "array([ 67,   2,   3,  44, 556, 776, 877, 654])"
      ]
     },
     "execution_count": 92,
     "metadata": {},
     "output_type": "execute_result"
    }
   ],
   "source": [
    "b"
   ]
  },
  {
   "cell_type": "code",
   "execution_count": 93,
   "id": "c2bed19d-aa3d-4c75-a6e1-22f6de21dc49",
   "metadata": {},
   "outputs": [
    {
     "data": {
      "text/plain": [
       "array([ 67,   2,   3,  44, 556, 776, 877, 654])"
      ]
     },
     "execution_count": 93,
     "metadata": {},
     "output_type": "execute_result"
    }
   ],
   "source": [
    "arr"
   ]
  },
  {
   "cell_type": "code",
   "execution_count": 94,
   "id": "7beb9b8d-44de-409b-a970-0bcee3afb4bc",
   "metadata": {},
   "outputs": [],
   "source": [
    "##numpy matrix"
   ]
  },
  {
   "cell_type": "code",
   "execution_count": 96,
   "id": "c096aa1d-11a3-48a7-9033-e8f3112cae79",
   "metadata": {},
   "outputs": [],
   "source": [
    "import numpy.matlib as nm"
   ]
  },
  {
   "cell_type": "code",
   "execution_count": 97,
   "id": "728ada36-6e4e-4c72-815e-7b05a2501d42",
   "metadata": {},
   "outputs": [
    {
     "data": {
      "text/plain": [
       "matrix([[0., 0., 0., 0., 0.]])"
      ]
     },
     "execution_count": 97,
     "metadata": {},
     "output_type": "execute_result"
    }
   ],
   "source": [
    "nm.zeros(5)"
   ]
  },
  {
   "cell_type": "code",
   "execution_count": 99,
   "id": "0c84e182-d155-41eb-b911-64dbe64fa3ff",
   "metadata": {},
   "outputs": [
    {
     "data": {
      "text/plain": [
       "matrix([[1., 1., 1., 1.],\n",
       "        [1., 1., 1., 1.],\n",
       "        [1., 1., 1., 1.]])"
      ]
     },
     "execution_count": 99,
     "metadata": {},
     "output_type": "execute_result"
    }
   ],
   "source": [
    "nm.ones((3,4))"
   ]
  },
  {
   "cell_type": "code",
   "execution_count": 100,
   "id": "c399fe6e-c375-48c2-848d-c05d9ae85373",
   "metadata": {},
   "outputs": [
    {
     "data": {
      "text/plain": [
       "matrix([[1., 0., 0., 0., 0.],\n",
       "        [0., 1., 0., 0., 0.],\n",
       "        [0., 0., 1., 0., 0.],\n",
       "        [0., 0., 0., 1., 0.],\n",
       "        [0., 0., 0., 0., 1.]])"
      ]
     },
     "execution_count": 100,
     "metadata": {},
     "output_type": "execute_result"
    }
   ],
   "source": [
    "nm.eye(5)"
   ]
  },
  {
   "cell_type": "code",
   "execution_count": 101,
   "id": "5698f0b0-fad8-48de-b489-18cc9f21610c",
   "metadata": {},
   "outputs": [],
   "source": [
    "##numpy linear\n"
   ]
  },
  {
   "cell_type": "code",
   "execution_count": 102,
   "id": "e02d8eea-032b-4319-b4d6-a66a4ac10422",
   "metadata": {},
   "outputs": [],
   "source": [
    "arr1=np.random.randint([[2,5],[4,5]])\n",
    "arr2=np.random.randint([[3,9],[4,5]])"
   ]
  },
  {
   "cell_type": "code",
   "execution_count": 103,
   "id": "24648e33-55a5-498b-85b9-aae8e8e92a4c",
   "metadata": {},
   "outputs": [
    {
     "data": {
      "text/plain": [
       "array([[0, 0],\n",
       "       [0, 3]])"
      ]
     },
     "execution_count": 103,
     "metadata": {},
     "output_type": "execute_result"
    }
   ],
   "source": [
    "np.dot(arr1,arr2)"
   ]
  },
  {
   "cell_type": "code",
   "execution_count": 104,
   "id": "bdef3d47-39ae-4d2f-8996-6fa7771b967c",
   "metadata": {},
   "outputs": [
    {
     "data": {
      "text/plain": [
       "array([[0, 0],\n",
       "       [0, 3]])"
      ]
     },
     "execution_count": 104,
     "metadata": {},
     "output_type": "execute_result"
    }
   ],
   "source": [
    "arr1@arr2"
   ]
  },
  {
   "cell_type": "code",
   "execution_count": null,
   "id": "b90444d5-f4a0-4a97-8916-d70438cd6b94",
   "metadata": {},
   "outputs": [],
   "source": []
  }
 ],
 "metadata": {
  "kernelspec": {
   "display_name": "Python 3 (ipykernel)",
   "language": "python",
   "name": "python3"
  },
  "language_info": {
   "codemirror_mode": {
    "name": "ipython",
    "version": 3
   },
   "file_extension": ".py",
   "mimetype": "text/x-python",
   "name": "python",
   "nbconvert_exporter": "python",
   "pygments_lexer": "ipython3",
   "version": "3.10.8"
  }
 },
 "nbformat": 4,
 "nbformat_minor": 5
}
