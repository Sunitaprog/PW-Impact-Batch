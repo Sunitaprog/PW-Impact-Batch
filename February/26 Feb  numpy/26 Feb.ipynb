{
 "cells": [
  {
   "cell_type": "code",
   "execution_count": 3,
   "id": "030aad89-89b5-4e1a-89b4-03e7a827f5a4",
   "metadata": {},
   "outputs": [],
   "source": [
    "###Consider the below code to answer further questions:\n",
    "import numpy as np\n",
    "list_ = ['1' , '2' , '3' , '4' , '5' ]\n",
    "array_list = np.array(object = list_)"
   ]
  },
  {
   "cell_type": "markdown",
   "id": "e90bb29a-e569-46f4-bdc4-c98f01f1e790",
   "metadata": {},
   "source": [
    "Q1: Is there any difference in the data type of variables list_ and array_list? If there is then write a code to print the data types of both the variables.\n",
    "\n",
    "Ans: Yes, there is a difference in the data type of list_ and array_list.\n",
    "\n",
    "list_ is a Python list, and its elements are strings ('1', '2', '3', '4', '5'), while array_list is a NumPy array, and its elements are also strings.\n",
    "\n",
    "The data type of list_ is list, while the data type of array_list is numpy.ndarray\n",
    "\n",
    "We can verify it as:"
   ]
  },
  {
   "cell_type": "code",
   "execution_count": 7,
   "id": "b3faaff0-e6db-4b3f-a41f-f21748ea31e9",
   "metadata": {},
   "outputs": [
    {
     "data": {
      "text/plain": [
       "list"
      ]
     },
     "execution_count": 7,
     "metadata": {},
     "output_type": "execute_result"
    }
   ],
   "source": [
    "type(list_)"
   ]
  },
  {
   "cell_type": "code",
   "execution_count": 8,
   "id": "ed3aea2b-beca-41b8-95ad-d1093f311130",
   "metadata": {},
   "outputs": [
    {
     "data": {
      "text/plain": [
       "numpy.ndarray"
      ]
     },
     "execution_count": 8,
     "metadata": {},
     "output_type": "execute_result"
    }
   ],
   "source": [
    "type(array_list)"
   ]
  },
  {
   "cell_type": "markdown",
   "id": "e9d33eb8-22fa-4d8a-a724-30d68bd6832d",
   "metadata": {
    "tags": []
   },
   "source": [
    "Q2. Write a code to print the data type of each and every element of both the variables list_ and array_list."
   ]
  },
  {
   "cell_type": "code",
   "execution_count": 9,
   "id": "17dbff5c-5e58-4e3a-8368-afdd64040148",
   "metadata": {},
   "outputs": [
    {
     "data": {
      "text/plain": [
       "[str, str, str, str, str]"
      ]
     },
     "execution_count": 9,
     "metadata": {},
     "output_type": "execute_result"
    }
   ],
   "source": [
    "list(map(lambda x: type(x), list_))"
   ]
  },
  {
   "cell_type": "code",
   "execution_count": 10,
   "id": "c9605fb7-df9d-47a4-87f3-dcb9dea0b50d",
   "metadata": {},
   "outputs": [
    {
     "data": {
      "text/plain": [
       "[numpy.str_, numpy.str_, numpy.str_, numpy.str_, numpy.str_]"
      ]
     },
     "execution_count": 10,
     "metadata": {},
     "output_type": "execute_result"
    }
   ],
   "source": [
    "list(map(lambda x: type(x), array_list))"
   ]
  },
  {
   "cell_type": "markdown",
   "id": "3102c4d9-7691-44e6-be92-d3c27ee88661",
   "metadata": {},
   "source": [
    "Q3. Considering the following changes in the variable, array_list:\n",
    "\n",
    "array_list = np.array(object = list_, dtype = int)\n",
    "\n",
    "Will there be any difference in the data type of the elements present in both the variables, list_ and array_list? If so then print the data types of each and every element present in both the variables, list_ and arra_list."
   ]
  },
  {
   "cell_type": "code",
   "execution_count": 11,
   "id": "a878aa61-4865-47a0-ac3c-82abae657e8b",
   "metadata": {},
   "outputs": [],
   "source": [
    "array_list = np.array(object = list_, dtype = int)"
   ]
  },
  {
   "cell_type": "code",
   "execution_count": 12,
   "id": "60be1870-31e9-47df-a395-b0e7eb255fd6",
   "metadata": {},
   "outputs": [
    {
     "data": {
      "text/plain": [
       "[numpy.int64, numpy.int64, numpy.int64, numpy.int64, numpy.int64]"
      ]
     },
     "execution_count": 12,
     "metadata": {},
     "output_type": "execute_result"
    }
   ],
   "source": [
    "list(map(lambda x: type(x), array_list))"
   ]
  },
  {
   "cell_type": "markdown",
   "id": "25f119bf-f30a-418e-9fa2-83e1508cf81b",
   "metadata": {},
   "source": [
    "Yes, By doing array_list = np.array(object = list_, dtype = int) we're specifying the data type of the elements in a NumPy array to be int. It creates a NumPy array with elements of the int data type."
   ]
  },
  {
   "cell_type": "code",
   "execution_count": null,
   "id": "23043972-1f9c-42a1-94dd-236dcd81e6ec",
   "metadata": {},
   "outputs": [],
   "source": [
    "Consider the below code to answer further questions:"
   ]
  },
  {
   "cell_type": "code",
   "execution_count": 13,
   "id": "8411c2ee-076b-4d06-9ed9-f2c464022e15",
   "metadata": {},
   "outputs": [],
   "source": [
    "num_list = [ [ 1 , 2 , 3 ] , [ 4 , 5 , 6 ] ]\n",
    "num_array = np.array(object = num_list)"
   ]
  },
  {
   "cell_type": "markdown",
   "id": "6218d509-94fe-4975-bc9d-9a3a955ee400",
   "metadata": {},
   "source": [
    "Q4. Write a code to find the following characteristics of variable num_array:\n",
    "1.shape                 2.size"
   ]
  },
  {
   "cell_type": "code",
   "execution_count": 17,
   "id": "5099d1c4-081c-4f91-a75a-d596ebaff82f",
   "metadata": {},
   "outputs": [
    {
     "name": "stdout",
     "output_type": "stream",
     "text": [
      "1. Shape : (2, 3)\n",
      "2. Size : 6\n"
     ]
    }
   ],
   "source": [
    "print('1. Shape :', num_array.shape)\n",
    "print('2. Size :', num_array.size)"
   ]
  },
  {
   "cell_type": "markdown",
   "id": "b97eb1f1-7eaf-41de-ade8-86437b9b9a4e",
   "metadata": {},
   "source": [
    "Q5. Write a code to create numpy array of 3*3 matrix containing zeros only, using a numpy array creation function.\n",
    "\n",
    "Hint: The size of the array will be 9 and the shape will be (3,3)."
   ]
  },
  {
   "cell_type": "code",
   "execution_count": 18,
   "id": "ee944068-810d-4911-9a2d-9f410da6197a",
   "metadata": {},
   "outputs": [
    {
     "data": {
      "text/plain": [
       "array([[0., 0., 0.],\n",
       "       [0., 0., 0.],\n",
       "       [0., 0., 0.]])"
      ]
     },
     "execution_count": 18,
     "metadata": {},
     "output_type": "execute_result"
    }
   ],
   "source": [
    "arr = np.zeros((3,3))\n",
    "arr"
   ]
  },
  {
   "cell_type": "code",
   "execution_count": 19,
   "id": "6e6c5220-9300-480c-aa5a-936b6413ee70",
   "metadata": {},
   "outputs": [
    {
     "data": {
      "text/plain": [
       "(9, (3, 3))"
      ]
     },
     "execution_count": 19,
     "metadata": {},
     "output_type": "execute_result"
    }
   ],
   "source": [
    "arr.size, arr.shape"
   ]
  },
  {
   "cell_type": "markdown",
   "id": "60f9e225-d4b5-4419-82dd-17c044fa55fe",
   "metadata": {},
   "source": [
    "Q6. Create an identity matrix of shape (5,5) using numpy functions?\n",
    "\n",
    "Hint: An identity matrix is a matrix containing 1 diagonally and other elements will be 0."
   ]
  },
  {
   "cell_type": "code",
   "execution_count": 20,
   "id": "72c47384-00a2-4741-9c92-f03aabc47529",
   "metadata": {},
   "outputs": [
    {
     "data": {
      "text/plain": [
       "array([[1., 0., 0., 0., 0.],\n",
       "       [0., 1., 0., 0., 0.],\n",
       "       [0., 0., 1., 0., 0.],\n",
       "       [0., 0., 0., 1., 0.],\n",
       "       [0., 0., 0., 0., 1.]])"
      ]
     },
     "execution_count": 20,
     "metadata": {},
     "output_type": "execute_result"
    }
   ],
   "source": [
    "np.identity(5)"
   ]
  },
  {
   "cell_type": "code",
   "execution_count": 22,
   "id": "d1850b69-d7b3-4176-a483-01922268a4b4",
   "metadata": {},
   "outputs": [
    {
     "data": {
      "text/plain": [
       "array([[1., 0., 0., 0., 0.],\n",
       "       [0., 1., 0., 0., 0.],\n",
       "       [0., 0., 1., 0., 0.],\n",
       "       [0., 0., 0., 1., 0.],\n",
       "       [0., 0., 0., 0., 1.]])"
      ]
     },
     "execution_count": 22,
     "metadata": {},
     "output_type": "execute_result"
    }
   ],
   "source": [
    "np.eye(5)"
   ]
  },
  {
   "cell_type": "code",
   "execution_count": null,
   "id": "e807d7b7-8fa8-41e5-bef3-bef88679c179",
   "metadata": {},
   "outputs": [],
   "source": []
  }
 ],
 "metadata": {
  "kernelspec": {
   "display_name": "Python 3 (ipykernel)",
   "language": "python",
   "name": "python3"
  },
  "language_info": {
   "codemirror_mode": {
    "name": "ipython",
    "version": 3
   },
   "file_extension": ".py",
   "mimetype": "text/x-python",
   "name": "python",
   "nbconvert_exporter": "python",
   "pygments_lexer": "ipython3",
   "version": "3.10.8"
  }
 },
 "nbformat": 4,
 "nbformat_minor": 5
}
