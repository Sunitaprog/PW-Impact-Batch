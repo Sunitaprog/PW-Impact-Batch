{
 "cells": [
  {
   "cell_type": "markdown",
   "id": "7e916c36-4775-4c1c-b037-6fc2706cee6c",
   "metadata": {},
   "source": [
    "Q1. What is an API? Give an example, where an API is used in real life.\n",
    "\n",
    "Ans. API(Application Programming Interface)\n",
    "An API is the interface that allows two independent software components to exchange information. An API acts as an intermediary between internal software functions and external ones, creating an exchange of information so seamless that it often goes unnoticed by the end user.\n",
    "\n",
    "an API can be used to connect virtually any processes. Here are a few common examples of APIs:\n",
    "\n",
    "1.Google Maps API’s: Google Maps APIs allows developers to use Google Maps on Webpages using a JavaScript or Flash interface.\n",
    "\n",
    "2.YouTube API’s: Google’s API lets developers integrate YouTube and functionality into websites or applications. YouTube APIs include the YouTube analytics API, YouTube Data API, YouTube live streaming API, YouTube Player APIs and others.\n",
    "\n",
    "3.The Flickr APIs: It is used by developers to access the Flick photo sharing community data.\n",
    "\n",
    "4.Twitter APIs: Twitter offers two APIs, the REST API allows developers to access core Twitter data and the search API provides methods for developers to interact with twitter search and trends data.\n",
    "\n"
   ]
  },
  {
   "cell_type": "markdown",
   "id": "df20c5b3-f293-4f45-a9ad-731b6c9d66cd",
   "metadata": {},
   "source": [
    "Q2. Give advantages and disadvantages of using API."
   ]
  },
  {
   "cell_type": "markdown",
   "id": "a288b320-3aef-4842-bf40-0cc2a0aa705d",
   "metadata": {},
   "source": [
    "Advantages\n",
    "\n",
    "1.Automation: with APIs, computers rather than people can manage the work. Through APIs, agencies can update work flows to make them quicker and more productive.\n",
    " \n",
    "2.Application: because APIs can access the app components, the delivery of services and information is more flexible.\n",
    " \n",
    "3.More scope: with an API an application layer can be created which can be used to distribute information and services to new audiences which can be personalized to create custom user experiences.\n",
    " \n",
    "4.New data available: an API allows all of the information generated at the government level to be available to every citizen, not just a select few.\n",
    " \n",
    "5.Efficiency: when access is provided to an API, the content generated can be published automatically and is available for every channel. It allows it to be shared and distributed more easily.\n",
    " \n",
    "6.Integration: APIs allow content to be embedded from any site or application more easily. This guarantees more fluid information delivery and an integrated user experience.\n",
    " \n",
    "7.Personalization: through APIs any user or company can customize the content and services that they use the most.\n",
    " \n",
    "8.Adaptation: needs change over time and APIs help to anticipate changes. When working with this technology, data migration is supported better, and the information is reviewed more closely. In short, APIs make service provision more flexible.\n",
    "\n"
   ]
  },
  {
   "cell_type": "markdown",
   "id": "2388491a-8b05-4069-bc44-a331890a8fa8",
   "metadata": {},
   "source": [
    "Disadvantages\n",
    "\n",
    "There are some disadvantages to using Application Programming Interfaces:\n",
    "\n",
    "1.Increased Complexity: First, they can be complex and challenging to use, making them challenging for novice developers.\n",
    "\n",
    "\n",
    "2.Limited Functionality: They may not have all the functionality you need, requiring additional development work.\n",
    "\n",
    "3.Dependency on Third Party Services: If it depends on a third-party service, your application will also be unavailable.\n",
    "\n",
    "4.Security and Privacy Risks: They can pose security and privacy risks if they’re not implemented correctly. Therefore, it’s essential to carefully consider these risks before using them in your application.\n",
    "\n"
   ]
  },
  {
   "cell_type": "markdown",
   "id": "68d19927-f868-4512-9a6e-792171217659",
   "metadata": {},
   "source": [
    "Q3. What is a Web API? Differentiate between API and Web API.\n",
    "\n",
    "Ans. Web API is an API as the name suggests, it can be accessed over the web using the HTTP protocol. It is a framework that helps you to create and develop HTTP based RESTFUL services. The web API can be developed by using different technologies such as java, ASP.NET, etc. Web API is used in either a web server or a web browser. Basically Web API is a web development concept. It is limited to Web Application’s client-side and also it does not include a web server or web browser details. If an application is to be used on a distributed system and to provide services on different devices like laptops, mobiles, etc then web API services are used. Web API is the enhanced form of the web application."
   ]
  },
  {
   "cell_type": "markdown",
   "id": "6d27dec6-a5a1-4cd5-bdab-c2d17f584498",
   "metadata": {},
   "source": [
    "The main difference between API and Web API is that API can refer to any type of application programming interface, including those that are not specifically designed for the web. For example, an API could be used to integrate a desktop application with a database, or to enable communication between two services running on a local network.\n",
    "\n",
    "In contrast, a Web API specifically refers to APIs that are designed to be used over the web. Web APIs are typically accessed using HTTP requests and responses, and often return data in a format such as JSON or XML that is easy for web-based applications to consume."
   ]
  },
  {
   "cell_type": "markdown",
   "id": "4364ed44-a040-468c-8bbb-e2ac95ed8b13",
   "metadata": {},
   "source": [
    "Q4. Explain REST and SOAP Architecture. Mention shortcomings of SOAP.\n",
    "\n",
    "Ans. REST (Representational State Transfer) and SOAP (Simple Object Access Protocol) are two popular architectures used to build web services.\n",
    "\n",
    "REST is an architectural style that uses HTTP requests to interact with web-based resources. In a REST architecture, resources are represented by URLs, and clients can interact with those resources by sending HTTP requests to the server. REST typically returns data in a lightweight format, such as JSON or XML, that is easy for web-based applications to consume. REST is often used in web-based applications, as it allows for simple and flexible communication between client and server.\n",
    "\n",
    "SOAP, on the other hand, is a protocol that uses XML to format data, and is designed to provide a standardized way for applications to exchange information over a network. SOAP typically requires a lot of overhead, including the use of an XML envelope to encapsulate data and a large number of XML tags to specify message structure. SOAP is typically used in enterprise applications, as it provides a more structured and rigid framework for communication between systems.\n",
    "\n",
    "Shortcomings of SOAP:\n",
    "\n",
    "While SOAP has its benefits, it also has some shortcomings. Some of the main shortcomings of SOAP include:\n",
    "\n",
    "1.Complexity: SOAP is a complex protocol, with a lot of overhead and a steep learning curve for developers.\n",
    "\n",
    "2.Performance: Because SOAP uses XML, it can be slower and more resource-intensive than other protocols, which can impact performance.\n",
    "\n",
    "3.Scalability: Because of its complexity, SOAP can be difficult to scale, especially in large enterprise environments.\n",
    "\n",
    "4.Compatibility: SOAP implementations can vary widely, and interoperability between different SOAP systems can be a challenge."
   ]
  },
  {
   "cell_type": "markdown",
   "id": "2702250e-3da1-4a49-be02-501bc798e900",
   "metadata": {},
   "source": [
    "Q5. Differentiate between REST and SOAP."
   ]
  },
  {
   "cell_type": "markdown",
   "id": "ad983c68-57a8-420c-8b30-b60a1fd0fff4",
   "metadata": {},
   "source": [
    "REST:\n",
    "1. Use HTTP and TLS encryption.\n",
    "2. Use JSON format for transferring data\n",
    "3. Do not store or repackage data\n",
    "4. faster than SOAP API\n",
    "5.can use     "
   ]
  },
  {
   "cell_type": "markdown",
   "id": "c0303f0c-cb24-4a7e-b67e-4e57f93f1275",
   "metadata": {},
   "source": [
    "SOAP:\n",
    "1. Use built-in protocols ,WS security.\n",
    "2. support OASIS and W3C standards.\n",
    "3. use a combo of XML encryption , XML signatures and SAML tokens for authentication and authorization.\n",
    "4. better for handling sensitive data.\n",
    "5. cannot use REST."
   ]
  }
 ],
 "metadata": {
  "kernelspec": {
   "display_name": "Python 3 (ipykernel)",
   "language": "python",
   "name": "python3"
  },
  "language_info": {
   "codemirror_mode": {
    "name": "ipython",
    "version": 3
   },
   "file_extension": ".py",
   "mimetype": "text/x-python",
   "name": "python",
   "nbconvert_exporter": "python",
   "pygments_lexer": "ipython3",
   "version": "3.10.8"
  }
 },
 "nbformat": 4,
 "nbformat_minor": 5
}
