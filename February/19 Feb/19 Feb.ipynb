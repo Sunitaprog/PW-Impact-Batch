{
 "cells": [
  {
   "cell_type": "markdown",
   "id": "b64e560d-98f7-43c8-833e-1df95b05d3d0",
   "metadata": {},
   "source": [
    "Q1. What is Flask Framework? What are the advantages of Flask Framework.\n",
    "\n",
    "Ans. Flask is a microframework offering all the basic features of a web application. It’s easy to get started on and expand with Python’s wealth of libraries and extensions.\n",
    "\n",
    "On its own, the framework’s capabilities are limited and extra functionalities need to be added with supplemental technologies. In many ways, it takes an opposite approach to that of Django, as it enables developers to change and tailor it to their particular needs at will.\n",
    "\n",
    "With Flask, diversifying the structure of your software project with microframeworks is effortless. Flexibility is the core feature of this open-source framework.\n",
    "\n",
    "Advantages of Flask\n",
    "Scalable: Size is everything, and Flask’s status as a microframework means that you can use it to grow a tech project such as a web app incredibly quickly. If you want to make an app that starts small, but has the potential to grow quickly and in directions you haven’t completely worked out yet, then it’s an ideal choice. Its simplicity of use and few dependencies enable it to run smoothly even as it scales up and up.\n",
    "\n",
    "Flexible: This is the core feature of Flask, and one of its biggest advantages. To paraphrase one of the principles of the Zen of Python, simplicity is better than complexity, because it can be easily rearranged and moved around.\n",
    "\n",
    "Easy to negotiate: Like Django, being able to find your way around easily is key for allowing web developers to concentrate on just coding quickly, without getting bogged down. At its core, the microframework is easy to understand for web developers, not just saving them time and effort but also giving them more control over their code and what is possible.\n",
    "\n",
    "Lightweight : When we use this term in relation to a tool or framework, we’re talking about the design of it—there are few constituent parts that need to be assembled and reassembled, and it doesn’t rely on a large number of extensions to function. This design gives web developers a certain level of control.\n",
    "\n",
    "Documentation: Following the creator’s own theory that “nice documentation design makes you actually write documentation,” Flask users will find a healthy number of examples and tips arranged in a structured manner. This encourages developers to use the framework, as they can easily get introduced to the different aspects and capabilities of the tool. You’ll find the Flask documentation on their official website."
   ]
  },
  {
   "cell_type": "markdown",
   "id": "d632657a-15c7-4d6b-b64d-ab44543160bc",
   "metadata": {},
   "source": [
    "\n"
   ]
  },
  {
   "cell_type": "code",
   "execution_count": null,
   "id": "22238af3-561b-41d9-9b7a-71b82c423f39",
   "metadata": {},
   "outputs": [],
   "source": [
    "Q2. Create a simple Flask application to display ‘Hello World!!’. Attach the screenshot of the output in \n",
    "Jupyter Notebook.\n",
    "\n",
    "Code:\n",
    "\n",
    "!pip install Flask\n",
    "\n",
    "from flask import Flask\n",
    "app=Flask(__name__)\n",
    "\n",
    "@app1.route(\"/\")\n",
    "def hello():\n",
    "    return \"<h1>hello_world!!!</h1>\"\n",
    "\n",
    "if __name__ == \"__main__\":\n",
    "    app.run(host=\"0.0.0.0\") \n",
    "    \n",
    "    "
   ]
  },
  {
   "attachments": {
    "70e738f9-32a0-4fba-b27b-8c48b11aed88.png": {
     "image/png": "[encoded data removed]"
    }
   },
   "cell_type": "markdown",
   "id": "0d719ad3-a10d-43b6-a406-dbd3fa607a9b",
   "metadata": {},
   "source": [
    "output:\n",
    "https://black-teacher-xwwhd.pwskills.app:5000/\n",
    "\n",
    "\n",
    "\n",
    "![Screenshot (48).png](attachment:70e738f9-32a0-4fba-b27b-8c48b11aed88.png)\n",
    "\n",
    "\n",
    "\n"
   ]
  },
  {
   "cell_type": "markdown",
   "id": "ca3f8db7-6917-4e40-a28e-73a107800807",
   "metadata": {},
   "source": [
    "Q3. What is App routing in Flask? Why do we use app routes?\n",
    "\n",
    "Ans. App Routing means mapping the URLs to a specific function that will handle the logic for that URL. Modern web frameworks use more meaningful URLs to help users remember the URLs and make navigation simpler. The URL (“/”) is associated with the root URL.\n",
    "\n",
    "To bind a function to an URL path we use the app.route decorator.\n"
   ]
  },
  {
   "cell_type": "markdown",
   "id": "bfa36d36-bfbe-4ed5-b518-6b5bdd58e025",
   "metadata": {},
   "source": [
    "Q4.  Create a “/welcome” route to display the welcome message “Welcome to ABC Corporation” and a “/” \n",
    "route to show the following details:\n",
    "\n",
    "    Company Name: ABC Corporation\n",
    "\n",
    "    Location: India\n",
    "\n",
    "    Contact Detail: 999-999-9999 "
   ]
  },
  {
   "cell_type": "code",
   "execution_count": null,
   "id": "a491f89b-3632-4580-b225-f08cdf311d41",
   "metadata": {},
   "outputs": [],
   "source": [
    "from flask import Flask\n",
    "\n",
    "app = Flask(__name__)\n",
    "\n",
    "@app.route('/')\n",
    "def hello_world():\n",
    "    return \"<p>Company Name: ABC Corporation</p><p>Location: India</p><p>Contact Detail: 999-999-9999</p>\"\n",
    "\n",
    "@app.route('/welcome')\n",
    "def welcome():\n",
    "    return \"Welcome to ABC Corporation\"\n",
    "\n",
    "if __name__==\"__main__\":\n",
    "    app.run(host=\"0.0.0.0\")\n"
   ]
  },
  {
   "attachments": {
    "3fc72298-ada6-4643-9d4f-a6fb1796e76f.png": {
     "image/png": "[encoded data removed]"
    }
   },
   "cell_type": "markdown",
   "id": "9b832a26-42bf-461a-b1f7-e4b4195e3e71",
   "metadata": {},
   "source": [
    "Output :\n",
    "https://black-teacher-xwwhd.pwskills.app:5000/welcome\n",
    "\n",
    "![Screenshot (46).png](attachment:3fc72298-ada6-4643-9d4f-a6fb1796e76f.png)\n",
    "\n",
    "\n"
   ]
  },
  {
   "attachments": {
    "6283457c-6bdc-45d0-b3e6-e8d5afa5b8b1.png": {
     "image/png": "[encoded data removed]"
    }
   },
   "cell_type": "markdown",
   "id": "2b056d29-6d2f-4c8e-bd13-7605d7fa2ae9",
   "metadata": {},
   "source": [
    "Output:\n",
    "\n",
    "https://black-teacher-xwwhd.pwskills.app:5000\n",
    "\n",
    "\n",
    "![Screenshot (45).png](attachment:6283457c-6bdc-45d0-b3e6-e8d5afa5b8b1.png)\n",
    "\n"
   ]
  },
  {
   "cell_type": "markdown",
   "id": "a8a7b266-bb1f-4718-ba65-635c1c1a3391",
   "metadata": {},
   "source": [
    "Q5. What function is used in Flask for URL Building? Write a Python code to demonstrate the working of the \n",
    "url_for() function"
   ]
  },
  {
   "cell_type": "markdown",
   "id": "6feb0d15-b4ef-45e7-9beb-6827e20620b3",
   "metadata": {},
   "source": [
    "Ans:In Flask, the url_for() function is used to build URLs for specific functions in your application. The url_for() function takes the name of the function as an argument and returns the URL associated with that function."
   ]
  },
  {
   "cell_type": "code",
   "execution_count": null,
   "id": "bbcc6ebe-30ae-417f-a0ae-8ef502e7cd7f",
   "metadata": {},
   "outputs": [],
   "source": [
    "from flask import Flask\n",
    "from flask import url_for\n",
    "\n",
    "app = Flask(__name__)\n",
    "\n",
    "@app.route('/')\n",
    "def hello_world():\n",
    "    return \"<p>Company Name: ABC Corporation</p><p>Location: India</p><p>Contact Detail: 999-999-9999</p>\"\n",
    "\n",
    "@app.route('/welcome')\n",
    "def welcome():\n",
    "    return \"Welcome to ABC Corporation\"\n",
    "\n",
    "with app.test_request_context():\n",
    "    print(url_for('welcome'))\n",
    "\n",
    "if __name__==\"__main__\":\n",
    "    app.run(host=\"0.0.0.0\")\n",
    "    \n",
    "#builds url \"/welcome\" for welcome function"
   ]
  },
  {
   "cell_type": "code",
   "execution_count": null,
   "id": "9c32ea3e-c458-4eff-9553-762c9470af8c",
   "metadata": {},
   "outputs": [],
   "source": []
  }
 ],
 "metadata": {
  "kernelspec": {
   "display_name": "Python 3 (ipykernel)",
   "language": "python",
   "name": "python3"
  },
  "language_info": {
   "codemirror_mode": {
    "name": "ipython",
    "version": 3
   },
   "file_extension": ".py",
   "mimetype": "text/x-python",
   "name": "python",
   "nbconvert_exporter": "python",
   "pygments_lexer": "ipython3",
   "version": "3.10.8"
  }
 },
 "nbformat": 4,
 "nbformat_minor": 5
}
