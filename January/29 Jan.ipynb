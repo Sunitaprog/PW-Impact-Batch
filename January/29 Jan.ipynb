{
 "cells": [
  {
   "cell_type": "markdown",
   "id": "73e4ee9c-c415-4c90-a103-be5325ca069c",
   "metadata": {},
   "source": [
    "Q1. Who developed python programming language ?\n",
    "Ans Python programming language was developed by Guido Van Rossum in February 1991.\n",
    "\n",
    "Q2. Which type of Programming does Python support ?\n",
    "Ans Python is an object -oriented , interactive , interpreted programming language. \n",
    "    Python incorporates modules, classes , data type, exception , high level dynamic.\n",
    "    It support multiple programming paradigms beyond OOP,such as procedural and functional programming.\n",
    "\n",
    "Q3. Is Python case sensitive when dealing with identifiers ?\n",
    "Ans Yes ,Python is case sensitive language .\n",
    "    Python identifiers can contain lowercase letter, Uppercase letter ,number and underscores.\n",
    "\n",
    "Q4. What is the correct extension of the python file ?\n",
    "Ans The extension of the python files are .py ,.pyi, .pyc ,.pyz etc\n",
    "\n",
    "Q5. Is python code compiled or interpreted ?\n",
    "Ans Python code is interpreted .\n",
    "\n",
    "Q6. Name a few blocks of code used to define in python language ?\n",
    "Ans Module, Function body  , class definition .\n",
    "\n",
    "Q7. State a Character used to give single-line comments in python ?\n",
    "Ans Hash character (#).\n",
    "    \n",
    "Q8. Mention function which can help us to find the version of python that we are currently working on ?\n",
    "Ans The finction sys. version can help us to find the version of python that we are currently working on .\n",
    "\n",
    "Q9. Pyhon supports the creation of anonymous function at runtime , using a construct called.....\n",
    "Ans Lambda.\n",
    "    \n",
    "Q10. What does pip stand for python ?\n",
    "Ans  Preferred installer program.\n",
    "\n",
    "Q11. Mention a few built-in-functions in python ?\n",
    "Ans  Print() ,List(), Tuple (), Set(), Dict(), Max() ,Min(), Bool(),Float(),int() , input (),Len(),range() etc.\n",
    "    \n",
    "Q12. What is the maximum possible length of an identifier in python ?\n",
    "Ans  79\n",
    "\n",
    "Q13. What are the benefits of using python ?\n",
    "Ans  Easy to use and learn ,interppreted language ,Object-Oriented and Procedure-oriented language, High level languge,\n",
    "     \n",
    "Q14. How is memory managed in python ?\n",
    "Ans  Memory in python is managed by Python private heap space . All data structures and object are located in a private heap.\n",
    "    \n",
    "Q15. How to install python on windows and set path variables ?\n",
    "Ans  Open a browser to python website and download the window installer.\n",
    "     Double click on the downloaded file and install python all users and ensure that python is added to your path.\n",
    "     click on install now to begin.\n",
    "     click disable path limit and then close.\n",
    "     Click close to end the installation .\n",
    "\n",
    "Q16. Is indentation required in python ?\n",
    "Ans  The indenntation in python is very important because  python uses indentation to indicate a block of code.\n",
    "     "
   ]
  },
  {
   "cell_type": "code",
   "execution_count": null,
   "id": "39c06d01-32dc-4065-9b61-3c4059c964b3",
   "metadata": {},
   "outputs": [],
   "source": []
  }
 ],
 "metadata": {
  "kernelspec": {
   "display_name": "Python 3 (ipykernel)",
   "language": "python",
   "name": "python3"
  },
  "language_info": {
   "codemirror_mode": {
    "name": "ipython",
    "version": 3
   },
   "file_extension": ".py",
   "mimetype": "text/x-python",
   "name": "python",
   "nbconvert_exporter": "python",
   "pygments_lexer": "ipython3",
   "version": "3.10.8"
  }
 },
 "nbformat": 4,
 "nbformat_minor": 5
}
