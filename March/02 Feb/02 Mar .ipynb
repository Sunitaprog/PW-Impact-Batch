{
 "cells": [
  {
   "cell_type": "markdown",
   "id": "1844363b-ffc6-45b8-90cc-ff7442332395",
   "metadata": {},
   "source": [
    "Q1. What is Matplotlib? Why is it used? Name five plots that can be plotted using the Pyplot module of Matplotlib.\n",
    "\n",
    "Ans. Matplotlib is a data visualization library in Python that allows users to create a wide range of static, animated, and interactive visualizations in Python. It is one of the most widely used visualization libraries in the scientific Python ecosystem, providing a comprehensive set of tools for creating high-quality plots and charts.\n",
    "\n",
    "Here are five types of plots that can be created using Pyplot:\n",
    "\n",
    "1.Line plot: A simple line plot can be created using the plot() function in Pyplot. It is used to represent data trends over time or continuous variables.\n",
    "\n",
    "2.Scatter plot: A scatter plot can be created using the scatter() function in Pyplot. It is used to show the relationship between two variables and can help identify trends, patterns, and outliers.\n",
    "\n",
    "3.Bar chart: A bar chart can be created using the bar() function in Pyplot. It is used to compare different categories of data and show the differences between them.\n",
    "\n",
    "4.Histogram: A histogram can be created using the hist() function in Pyplot. It is used to show the distribution of a single variable and can help identify the shape of the data.\n",
    "\n",
    "5.Pie chart: A pie chart can be created using the pie() function in Pyplot. It is used to show the relative proportions of different categories in a dataset.\n"
   ]
  },
  {
   "cell_type": "markdown",
   "id": "53ff6f16-7a0e-4a13-8123-249ae2b7084a",
   "metadata": {},
   "source": [
    "Que2. What is a scatter plot? Use the following code to generate data for x and y. Using this generated data plot a scatter plot."
   ]
  },
  {
   "cell_type": "code",
   "execution_count": 1,
   "id": "ccc33909-f147-4136-8179-661fe46e234c",
   "metadata": {},
   "outputs": [],
   "source": [
    "import numpy as np\n",
    "np.random.seed(3)\n",
    "x = 3 + np.random.normal(0, 2, 50)\n",
    "y = 3 + np.random.normal(0, 2, len(x))"
   ]
  },
  {
   "cell_type": "code",
   "execution_count": 2,
   "id": "aef3e1e0-a2b9-44c8-ad30-2778a5252c18",
   "metadata": {},
   "outputs": [
    {
     "ename": "SyntaxError",
     "evalue": "invalid syntax (179747122.py, line 1)",
     "output_type": "error",
     "traceback": [
      "\u001b[0;36m  Cell \u001b[0;32mIn[2], line 1\u001b[0;36m\u001b[0m\n\u001b[0;31m    Ans. A scatter plot is a type of plot that uses Cartesian coordinates to display values for two variables as a set of individual points. Each point on the plot represents a single observation or data point with its x-y coordinates indicating its values for the two variables being plotted.\u001b[0m\n\u001b[0m           ^\u001b[0m\n\u001b[0;31mSyntaxError\u001b[0m\u001b[0;31m:\u001b[0m invalid syntax\n"
     ]
    }
   ],
   "source": [
    "Ans. A scatter plot is a type of plot that uses Cartesian coordinates to display values for two variables as a set of individual points. Each point on the plot represents a single observation or data point with its x-y coordinates indicating its values for the two variables being plotted.\n",
    "\n",
    "We can generate a scatter plot for the given x any data points as:\n",
    "\n"
   ]
  },
  {
   "cell_type": "code",
   "execution_count": null,
   "id": "ede2c207-724f-49a3-a5d3-f0826abd565a",
   "metadata": {},
   "outputs": [],
   "source": [
    "import matplotlib.pyplot as plt\n",
    "\n",
    "plt.scatter(x,y)\n",
    "plt.xlabel(\"x-axis\")\n",
    "plt.ylabel(\"y-axis\")\n",
    "plt.title(\"Simple Scatter Plot\")\n",
    "plt.show()"
   ]
  },
  {
   "cell_type": "markdown",
   "id": "ac65976c-f955-403d-a20a-86db45f0e155",
   "metadata": {},
   "source": [
    "Que3. Why is the subplot() function used? Draw four line plots using the subplot() function.\n",
    "\n",
    "Use the following data:"
   ]
  },
  {
   "cell_type": "code",
   "execution_count": null,
   "id": "3734bc36-9095-4783-8c51-5d55309d9618",
   "metadata": {},
   "outputs": [],
   "source": [
    "import numpy as np\n",
    "\n",
    "#for line 1\n",
    "x1 = np.array([0, 1, 2, 3, 4, 5]) \n",
    "y1 = np.array([0, 100, 200, 300, 400, 500])\n",
    "#for line 2\n",
    "x2 = np.array([0, 1, 2, 3, 4, 5]) \n",
    "y2 = np.array([50, 20, 40, 20, 60, 70])\n",
    "#for line 3\n",
    "x3 = np.array([0, 1, 2, 3, 4, 5]) \n",
    "y3 = np.array([10, 20, 30, 40, 50, 60])\n",
    "#for line 4\n",
    "x4 = np.array([0, 1, 2, 3, 4, 5])\n",
    "y4 = np.array([200, 350, 250, 550, 450, 150])\n"
   ]
  },
  {
   "cell_type": "markdown",
   "id": "0d8ca021-ea7d-4ffa-aeeb-7a98062e994a",
   "metadata": {},
   "source": [
    "Ans:The subplot() function is a tool used in data visualization with matplotlib library in Python. It allows you to create multiple plots on a single figure, in a grid-like arrangement. The main purpose of the subplot() function is to create a more complex visualization by combining multiple plots into a single figure."
   ]
  },
  {
   "cell_type": "code",
   "execution_count": null,
   "id": "70090413-03c7-4375-9526-ea00a68e8f04",
   "metadata": {},
   "outputs": [],
   "source": [
    "#create a figure with a 4x1 grid of plots\n",
    "fig, axs = plt.subplots(4, 1)\n",
    "\n",
    "axs[0].plot(x1, y1)\n",
    "axs[1].plot(x2, y2)\n",
    "axs[2].plot(x3, y3)\n",
    "axs[3].plot(x4, y4)"
   ]
  },
  {
   "cell_type": "markdown",
   "id": "fe00f82d-d3c8-4572-8013-d5c80c490682",
   "metadata": {},
   "source": [
    "Que4: What is a bar plot? Why is it used? Using the following data plot a bar plot and a horizontal bar plot."
   ]
  },
  {
   "cell_type": "code",
   "execution_count": null,
   "id": "b60ccaca-2e10-400b-b104-e7e608ff8090",
   "metadata": {},
   "outputs": [],
   "source": [
    "import numpy as np\n",
    "company = np.array([\"Apple\", \"Microsoft\", \"Google\", \"AMD\"])\n",
    "profit = np.array([3000, 8000, 1000, 10000])"
   ]
  },
  {
   "cell_type": "markdown",
   "id": "4e7a135a-4898-4f4b-aa6f-572a48410bf6",
   "metadata": {},
   "source": [
    "Ans:\n",
    "A bar plot is a type of plot that displays data using rectangular bars. The length of each bar is proportional to the value it represents. Bar plots are commonly used to compare data across different categories or groups.\n",
    "\n",
    "Bar plots are used when you have discrete data or categorical data. For example, you could use a bar plot to compare the number of people in different age groups, or the sales of different products in a store. Bar plots can also be used to show the frequency distribution of a categorical variable."
   ]
  },
  {
   "cell_type": "code",
   "execution_count": null,
   "id": "ad279b43-8003-4620-8b93-1f70a921ec50",
   "metadata": {},
   "outputs": [],
   "source": [
    "plt.bar(company, profit)"
   ]
  },
  {
   "cell_type": "code",
   "execution_count": null,
   "id": "c359bcdf-1523-4781-8cd8-b868ead20f36",
   "metadata": {},
   "outputs": [],
   "source": [
    "plt.barh(company, profit)"
   ]
  },
  {
   "cell_type": "markdown",
   "id": "7400efe5-f83f-4c21-ae17-3ce4e3d3704c",
   "metadata": {},
   "source": [
    "Que5:\n",
    "What is a box plot? Why is it used? Using the following data plot a box plot."
   ]
  },
  {
   "cell_type": "code",
   "execution_count": null,
   "id": "bacaabd9-425f-409a-81e4-e579d618b4c6",
   "metadata": {},
   "outputs": [],
   "source": [
    "box1 = np.random.normal(100, 10, 200)\n",
    "box2 = np.random.normal(90, 20, 200)"
   ]
  },
  {
   "cell_type": "markdown",
   "id": "fc4219d5-7af7-486c-983f-78ded506aa1a",
   "metadata": {},
   "source": [
    "Answer:\n",
    "A box plot is a type of plot that displays the distribution of a dataset along with its outliers. The plot is based on a five-number summary of the data, which includes the minimum value, the first quartile (25th percentile), the median (50th percentile), the third quartile (75th percentile), and the maximum value. The box in the plot spans the first quartile to the third quartile, and the median is shown as a horizontal line within the box. The whiskers extend from the box to the minimum and maximum values, but may be extended further to show the presence of outliers.\n",
    "\n",
    "Box plots are commonly used to visualize the distribution of a dataset and identify potential outliers. They are particularly useful when comparing multiple datasets or groups. Box plots can help to identify differences in the distribution, such as differences in the spread or the presence of outliers, between groups."
   ]
  },
  {
   "cell_type": "code",
   "execution_count": null,
   "id": "f0090649-9ee4-428b-95f0-6c9f6dd40c00",
   "metadata": {},
   "outputs": [],
   "source": [
    "boxplot = [box1, box2]\n",
    "plt.boxplot(boxplot)\n",
    "\n",
    "plt.xlabel('Box')\n",
    "plt.ylabel('Value')\n",
    "plt.title('Box Plot Example')\n"
   ]
  },
  {
   "cell_type": "code",
   "execution_count": null,
   "id": "e95057f8-2618-44f4-a675-ded3bae72c95",
   "metadata": {},
   "outputs": [],
   "source": []
  }
 ],
 "metadata": {
  "kernelspec": {
   "display_name": "Python 3 (ipykernel)",
   "language": "python",
   "name": "python3"
  },
  "language_info": {
   "codemirror_mode": {
    "name": "ipython",
    "version": 3
   },
   "file_extension": ".py",
   "mimetype": "text/x-python",
   "name": "python",
   "nbconvert_exporter": "python",
   "pygments_lexer": "ipython3",
   "version": "3.10.8"
  }
 },
 "nbformat": 4,
 "nbformat_minor": 5
}
